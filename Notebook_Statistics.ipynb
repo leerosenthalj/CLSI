{
 "cells": [
  {
   "cell_type": "code",
   "execution_count": 1,
   "metadata": {},
   "outputs": [],
   "source": [
    "import pdb\n",
    "from math import log10, floor\n",
    "\n",
    "import numpy as np\n",
    "import scipy.optimize as op\n",
    "import scipy.special as spec\n",
    "from scipy import stats\n",
    "from scipy import io\n",
    "import pandas as pd\n",
    "\n",
    "import matplotlib\n",
    "import matplotlib.pyplot as plt\n",
    "from matplotlib.ticker import FuncFormatter, MaxNLocator, LogFormatter, ScalarFormatter\n",
    "\n",
    "import seaborn as sns\n",
    "import corner\n",
    "\n",
    "import astropy\n",
    "from astropy import stats as astrostats\n",
    "from astropy.timeseries import LombScargle\n",
    "\n",
    "import emcee\n",
    "import radvel\n",
    "\n",
    "%matplotlib inline"
   ]
  },
  {
   "cell_type": "markdown",
   "metadata": {},
   "source": [
    "# Assuming a polished list of known planets and candidates in the legacy sample, explore and visualize properties such as mass, host star metallicity, etc."
   ]
  },
  {
   "cell_type": "code",
   "execution_count": 3,
   "metadata": {},
   "outputs": [],
   "source": [
    "data = pd.read_csv('legacy_tables/system_props.csv')"
   ]
  },
  {
   "cell_type": "code",
   "execution_count": 4,
   "metadata": {},
   "outputs": [],
   "source": [
    "specmatch = pd.read_csv('/Users/lee/Academics/Astronomy/Planets/CLSI/legacy_tables/legacy_specmatch_medians.csv')\n",
    "smsyn = specmatch.query('teff_emp > 4700')\n",
    "smemp = specmatch.query('teff_emp <= 4700')\n",
    "fe_select = specmatch['fe_c'].to_list()"
   ]
  },
  {
   "cell_type": "code",
   "execution_count": 5,
   "metadata": {},
   "outputs": [],
   "source": [
    "specmatch_pub = specmatch[['name', 'teff_c', 'teff_err_c', 'fe_c', 'fe_err_c', \n",
    "                           'logg_c', 'logg_err_c', 'radius_c', 'radius_err_c', \n",
    "                           'mass_c', 'mass_err_c', 'star', 'mv', 'bvcolor']]\n",
    "specmatch_pub['parallax'] = specmatch['iso_parallax']\n",
    "specmatch_pub.to_csv('stellar_parameters.csv')"
   ]
  },
  {
   "cell_type": "code",
   "execution_count": 6,
   "metadata": {},
   "outputs": [
    {
     "data": {
      "text/html": [
       "<div>\n",
       "<style scoped>\n",
       "    .dataframe tbody tr th:only-of-type {\n",
       "        vertical-align: middle;\n",
       "    }\n",
       "\n",
       "    .dataframe tbody tr th {\n",
       "        vertical-align: top;\n",
       "    }\n",
       "\n",
       "    .dataframe thead th {\n",
       "        text-align: right;\n",
       "    }\n",
       "</style>\n",
       "<table border=\"1\" class=\"dataframe\">\n",
       "  <thead>\n",
       "    <tr style=\"text-align: right;\">\n",
       "      <th></th>\n",
       "      <th>name</th>\n",
       "      <th>iso_mass</th>\n",
       "      <th>iso_logage</th>\n",
       "      <th>iso_logage_err1</th>\n",
       "      <th>iso_logage_err2</th>\n",
       "    </tr>\n",
       "  </thead>\n",
       "  <tbody>\n",
       "    <tr>\n",
       "      <th>303</th>\n",
       "      <td>219134</td>\n",
       "      <td>0.788484</td>\n",
       "      <td>9.845051</td>\n",
       "      <td>0.217643</td>\n",
       "      <td>-0.455149</td>\n",
       "    </tr>\n",
       "    <tr>\n",
       "      <th>466</th>\n",
       "      <td>75732</td>\n",
       "      <td>0.974708</td>\n",
       "      <td>9.786790</td>\n",
       "      <td>0.208371</td>\n",
       "      <td>-0.354344</td>\n",
       "    </tr>\n",
       "  </tbody>\n",
       "</table>\n",
       "</div>"
      ],
      "text/plain": [
       "       name  iso_mass  iso_logage  iso_logage_err1  iso_logage_err2\n",
       "303  219134  0.788484    9.845051         0.217643        -0.455149\n",
       "466   75732  0.974708    9.786790         0.208371        -0.354344"
      ]
     },
     "execution_count": 6,
     "metadata": {},
     "output_type": "execute_result"
    }
   ],
   "source": [
    "specmatch.query('name == \"75732\" or name == \"219134\"')[['name', 'iso_mass', 'iso_logage', 'iso_logage_err1', 'iso_logage_err2']]"
   ]
  },
  {
   "cell_type": "code",
   "execution_count": 7,
   "metadata": {},
   "outputs": [
    {
     "name": "stdout",
     "output_type": "stream",
     "text": [
      "0.028870729944700007 +/- 0.28368027269138\n"
     ]
    }
   ],
   "source": [
    "print(np.median(specmatch.fe_c), '+/-', np.std(specmatch.fe_c))"
   ]
  },
  {
   "cell_type": "code",
   "execution_count": 8,
   "metadata": {},
   "outputs": [],
   "source": [
    "objects = pd.read_csv('legacy_tables/planet_list.csv')\n",
    "trends = pd.read_csv('legacy_tables/trend_list.csv')"
   ]
  },
  {
   "cell_type": "markdown",
   "metadata": {},
   "source": [
    "## Sort the planets into real, new candidates, known."
   ]
  },
  {
   "cell_type": "code",
   "execution_count": 9,
   "metadata": {},
   "outputs": [],
   "source": [
    "objects_real   = objects.query('status != \"N\" and status != \"A\" and status != \"R\"').reset_index(drop=True)\n",
    "objects_good   = objects_real.query('mass != \"nan\"').reset_index(drop=True)\n",
    "planets_s      = objects_good.query('status == \"S\" or status == \"SS\"').reset_index(drop=True)\n",
    "planets        = objects_good.query('status != \"S\" and status != \"SS\"').reset_index(drop=True)\n",
    "planets_old    = planets.query('status == \"K\"').reset_index(drop=True)\n",
    "planets_new    = planets.query('status == \"C\" or status == \"J\"').reset_index(drop=True)"
   ]
  },
  {
   "cell_type": "code",
   "execution_count": 10,
   "metadata": {},
   "outputs": [
    {
     "data": {
      "text/plain": [
       "Index(['Unnamed: 0', 'hostname', 'status', 'pl_index', 'mass', 'mass_med',\n",
       "       'mass_minus', 'mass_plus', 'axis', 'axis_med', 'axis_minus',\n",
       "       'axis_plus', 'per', 'per_med', 'per_minus', 'per_plus', 'tc', 'tc_med',\n",
       "       'tc_minus', 'tc_plus', 'w', 'w_med', 'w_minus', 'w_plus', 'k', 'k_med',\n",
       "       'k_minus', 'k_plus', 'e', 'e_med', 'e_minus', 'e_plus', 'e_mode',\n",
       "       'e_68', 'insol', 'insol_med', 'insols_minus', 'insols_plus', 'teq',\n",
       "       'teq_med', 'teq_minus', 'teq_plus', 'post_path'],\n",
       "      dtype='object')"
      ]
     },
     "execution_count": 10,
     "metadata": {},
     "output_type": "execute_result"
    }
   ],
   "source": [
    "planets.columns"
   ]
  },
  {
   "cell_type": "code",
   "execution_count": 11,
   "metadata": {},
   "outputs": [
    {
     "data": {
      "text/plain": [
       "43"
      ]
     },
     "execution_count": 11,
     "metadata": {},
     "output_type": "execute_result"
    }
   ],
   "source": [
    "len(planets.query('mass < 30/317.8'))"
   ]
  },
  {
   "cell_type": "code",
   "execution_count": null,
   "metadata": {},
   "outputs": [],
   "source": []
  },
  {
   "cell_type": "code",
   "execution_count": 32,
   "metadata": {},
   "outputs": [
    {
     "data": {
      "text/html": [
       "<div>\n",
       "<style scoped>\n",
       "    .dataframe tbody tr th:only-of-type {\n",
       "        vertical-align: middle;\n",
       "    }\n",
       "\n",
       "    .dataframe tbody tr th {\n",
       "        vertical-align: top;\n",
       "    }\n",
       "\n",
       "    .dataframe thead th {\n",
       "        text-align: right;\n",
       "    }\n",
       "</style>\n",
       "<table border=\"1\" class=\"dataframe\">\n",
       "  <thead>\n",
       "    <tr style=\"text-align: right;\">\n",
       "      <th></th>\n",
       "      <th>Unnamed: 0</th>\n",
       "      <th>hostname</th>\n",
       "      <th>status</th>\n",
       "      <th>pl_index</th>\n",
       "      <th>mass</th>\n",
       "      <th>mass_med</th>\n",
       "      <th>mass_minus</th>\n",
       "      <th>mass_plus</th>\n",
       "      <th>axis</th>\n",
       "      <th>axis_med</th>\n",
       "      <th>...</th>\n",
       "      <th>e_68</th>\n",
       "      <th>insol</th>\n",
       "      <th>insol_med</th>\n",
       "      <th>insols_minus</th>\n",
       "      <th>insols_plus</th>\n",
       "      <th>teq</th>\n",
       "      <th>teq_med</th>\n",
       "      <th>teq_minus</th>\n",
       "      <th>teq_plus</th>\n",
       "      <th>post_path</th>\n",
       "    </tr>\n",
       "  </thead>\n",
       "  <tbody>\n",
       "    <tr>\n",
       "      <th>0</th>\n",
       "      <td>6</td>\n",
       "      <td>107148</td>\n",
       "      <td>C</td>\n",
       "      <td>2.0</td>\n",
       "      <td>0.067845</td>\n",
       "      <td>0.062633</td>\n",
       "      <td>0.052797</td>\n",
       "      <td>0.072335</td>\n",
       "      <td>0.140652</td>\n",
       "      <td>0.140650</td>\n",
       "      <td>...</td>\n",
       "      <td>0.401911</td>\n",
       "      <td>67.907955</td>\n",
       "      <td>6.792773e+01</td>\n",
       "      <td>6.268559e+01</td>\n",
       "      <td>7.345871e+01</td>\n",
       "      <td>0.225309</td>\n",
       "      <td>0.225293</td>\n",
       "      <td>6.268559e+01</td>\n",
       "      <td>7.345871e+01</td>\n",
       "      <td>/data/user/lrosenth/legacy/final_run/107148/10...</td>\n",
       "    </tr>\n",
       "    <tr>\n",
       "      <th>1</th>\n",
       "      <td>40</td>\n",
       "      <td>136925</td>\n",
       "      <td>C</td>\n",
       "      <td>1.0</td>\n",
       "      <td>0.872652</td>\n",
       "      <td>0.840422</td>\n",
       "      <td>0.766177</td>\n",
       "      <td>0.918395</td>\n",
       "      <td>5.209309</td>\n",
       "      <td>5.130608</td>\n",
       "      <td>...</td>\n",
       "      <td>0.146360</td>\n",
       "      <td>0.052280</td>\n",
       "      <td>5.385304e-02</td>\n",
       "      <td>4.980845e-02</td>\n",
       "      <td>5.813147e-02</td>\n",
       "      <td>1.352622</td>\n",
       "      <td>1.342632</td>\n",
       "      <td>4.980845e-02</td>\n",
       "      <td>5.813147e-02</td>\n",
       "      <td>/data/user/lrosenth/legacy/final_run/136925/13...</td>\n",
       "    </tr>\n",
       "    <tr>\n",
       "      <th>2</th>\n",
       "      <td>45</td>\n",
       "      <td>141004</td>\n",
       "      <td>C</td>\n",
       "      <td>1.0</td>\n",
       "      <td>0.043896</td>\n",
       "      <td>0.042869</td>\n",
       "      <td>0.038311</td>\n",
       "      <td>0.047486</td>\n",
       "      <td>0.123777</td>\n",
       "      <td>0.123790</td>\n",
       "      <td>...</td>\n",
       "      <td>0.215525</td>\n",
       "      <td>135.627013</td>\n",
       "      <td>1.356329e+02</td>\n",
       "      <td>1.243914e+02</td>\n",
       "      <td>1.476890e+02</td>\n",
       "      <td>0.189528</td>\n",
       "      <td>0.189526</td>\n",
       "      <td>1.243914e+02</td>\n",
       "      <td>1.476890e+02</td>\n",
       "      <td>/data/user/lrosenth/legacy/final_run/141004/14...</td>\n",
       "    </tr>\n",
       "    <tr>\n",
       "      <th>3</th>\n",
       "      <td>58</td>\n",
       "      <td>145675</td>\n",
       "      <td>C</td>\n",
       "      <td>2.0</td>\n",
       "      <td>5.691600</td>\n",
       "      <td>5.842973</td>\n",
       "      <td>4.813248</td>\n",
       "      <td>7.200666</td>\n",
       "      <td>15.949545</td>\n",
       "      <td>16.419784</td>\n",
       "      <td>...</td>\n",
       "      <td>0.530049</td>\n",
       "      <td>0.002791</td>\n",
       "      <td>2.636649e-03</td>\n",
       "      <td>1.071866e-03</td>\n",
       "      <td>4.873996e-03</td>\n",
       "      <td>2.813989</td>\n",
       "      <td>2.854279</td>\n",
       "      <td>1.071866e-03</td>\n",
       "      <td>4.873996e-03</td>\n",
       "      <td>/data/user/lrosenth/legacy/final_run/145675/14...</td>\n",
       "    </tr>\n",
       "    <tr>\n",
       "      <th>4</th>\n",
       "      <td>72</td>\n",
       "      <td>156668</td>\n",
       "      <td>C</td>\n",
       "      <td>1.0</td>\n",
       "      <td>0.101324</td>\n",
       "      <td>0.099085</td>\n",
       "      <td>0.091433</td>\n",
       "      <td>0.106949</td>\n",
       "      <td>1.570776</td>\n",
       "      <td>1.570311</td>\n",
       "      <td>...</td>\n",
       "      <td>0.127107</td>\n",
       "      <td>0.126132</td>\n",
       "      <td>1.261865e-01</td>\n",
       "      <td>1.185650e-01</td>\n",
       "      <td>1.342235e-01</td>\n",
       "      <td>1.085308</td>\n",
       "      <td>1.085191</td>\n",
       "      <td>1.185650e-01</td>\n",
       "      <td>1.342235e-01</td>\n",
       "      <td>/data/user/lrosenth/legacy/final_run/156668/15...</td>\n",
       "    </tr>\n",
       "    <tr>\n",
       "      <th>5</th>\n",
       "      <td>82</td>\n",
       "      <td>164922</td>\n",
       "      <td>C</td>\n",
       "      <td>3.0</td>\n",
       "      <td>0.034078</td>\n",
       "      <td>0.033118</td>\n",
       "      <td>0.030034</td>\n",
       "      <td>0.036210</td>\n",
       "      <td>0.229199</td>\n",
       "      <td>0.229221</td>\n",
       "      <td>...</td>\n",
       "      <td>0.123719</td>\n",
       "      <td>14.504370</td>\n",
       "      <td>1.450174e+01</td>\n",
       "      <td>1.349452e+01</td>\n",
       "      <td>1.555400e+01</td>\n",
       "      <td>0.331425</td>\n",
       "      <td>0.331440</td>\n",
       "      <td>1.349452e+01</td>\n",
       "      <td>1.555400e+01</td>\n",
       "      <td>/data/user/lrosenth/legacy/final_run/164922/16...</td>\n",
       "    </tr>\n",
       "    <tr>\n",
       "      <th>6</th>\n",
       "      <td>88</td>\n",
       "      <td>168009</td>\n",
       "      <td>C</td>\n",
       "      <td>2.0</td>\n",
       "      <td>0.030927</td>\n",
       "      <td>0.030019</td>\n",
       "      <td>0.026336</td>\n",
       "      <td>0.033793</td>\n",
       "      <td>0.119264</td>\n",
       "      <td>0.119246</td>\n",
       "      <td>...</td>\n",
       "      <td>0.172219</td>\n",
       "      <td>102.871384</td>\n",
       "      <td>1.029570e+02</td>\n",
       "      <td>9.439693e+01</td>\n",
       "      <td>1.119207e+02</td>\n",
       "      <td>0.203089</td>\n",
       "      <td>0.203047</td>\n",
       "      <td>9.439693e+01</td>\n",
       "      <td>1.119207e+02</td>\n",
       "      <td>/data/user/lrosenth/legacy/final_run/168009/16...</td>\n",
       "    </tr>\n",
       "    <tr>\n",
       "      <th>7</th>\n",
       "      <td>136</td>\n",
       "      <td>213472</td>\n",
       "      <td>C</td>\n",
       "      <td>1.0</td>\n",
       "      <td>3.479000</td>\n",
       "      <td>3.479000</td>\n",
       "      <td>2.885000</td>\n",
       "      <td>4.553000</td>\n",
       "      <td>12.990000</td>\n",
       "      <td>12.990000</td>\n",
       "      <td>...</td>\n",
       "      <td>0.649000</td>\n",
       "      <td>0.005693</td>\n",
       "      <td>6.770000e-22</td>\n",
       "      <td>1.480000e-22</td>\n",
       "      <td>2.460000e-12</td>\n",
       "      <td>2.354657</td>\n",
       "      <td>126802.763000</td>\n",
       "      <td>1.480000e-22</td>\n",
       "      <td>2.460000e-12</td>\n",
       "      <td>/data/user/lrosenth/legacy/final_run/213472/21...</td>\n",
       "    </tr>\n",
       "    <tr>\n",
       "      <th>8</th>\n",
       "      <td>163</td>\n",
       "      <td>24040</td>\n",
       "      <td>C</td>\n",
       "      <td>2.0</td>\n",
       "      <td>0.206749</td>\n",
       "      <td>0.201043</td>\n",
       "      <td>0.173883</td>\n",
       "      <td>0.228451</td>\n",
       "      <td>1.301112</td>\n",
       "      <td>1.300030</td>\n",
       "      <td>...</td>\n",
       "      <td>0.166341</td>\n",
       "      <td>1.135675</td>\n",
       "      <td>1.137315e+00</td>\n",
       "      <td>1.049463e+00</td>\n",
       "      <td>1.232663e+00</td>\n",
       "      <td>0.626536</td>\n",
       "      <td>0.626310</td>\n",
       "      <td>1.049463e+00</td>\n",
       "      <td>1.232663e+00</td>\n",
       "      <td>/data/user/lrosenth/legacy/final_run/24040/240...</td>\n",
       "    </tr>\n",
       "    <tr>\n",
       "      <th>9</th>\n",
       "      <td>167</td>\n",
       "      <td>26161</td>\n",
       "      <td>C</td>\n",
       "      <td>1.0</td>\n",
       "      <td>13.510000</td>\n",
       "      <td>13.520000</td>\n",
       "      <td>9.840000</td>\n",
       "      <td>21.990000</td>\n",
       "      <td>20.400000</td>\n",
       "      <td>20.450000</td>\n",
       "      <td>...</td>\n",
       "      <td>0.881000</td>\n",
       "      <td>0.015781</td>\n",
       "      <td>7.918622e-03</td>\n",
       "      <td>2.553594e-03</td>\n",
       "      <td>1.668076e-02</td>\n",
       "      <td>1.824835</td>\n",
       "      <td>2.168189</td>\n",
       "      <td>2.553594e-03</td>\n",
       "      <td>1.668076e-02</td>\n",
       "      <td>/data/user/lrosenth/legacy/final_run/26161/261...</td>\n",
       "    </tr>\n",
       "    <tr>\n",
       "      <th>10</th>\n",
       "      <td>188</td>\n",
       "      <td>3765</td>\n",
       "      <td>C</td>\n",
       "      <td>1.0</td>\n",
       "      <td>0.174505</td>\n",
       "      <td>0.172514</td>\n",
       "      <td>0.159399</td>\n",
       "      <td>0.186072</td>\n",
       "      <td>2.136434</td>\n",
       "      <td>2.107524</td>\n",
       "      <td>...</td>\n",
       "      <td>0.333186</td>\n",
       "      <td>0.088187</td>\n",
       "      <td>9.062822e-02</td>\n",
       "      <td>8.437785e-02</td>\n",
       "      <td>9.726919e-02</td>\n",
       "      <td>1.186886</td>\n",
       "      <td>1.178810</td>\n",
       "      <td>8.437785e-02</td>\n",
       "      <td>9.726919e-02</td>\n",
       "      <td>/data/user/lrosenth/legacy/final_run/3765/3765...</td>\n",
       "    </tr>\n",
       "    <tr>\n",
       "      <th>11</th>\n",
       "      <td>223</td>\n",
       "      <td>66428</td>\n",
       "      <td>C</td>\n",
       "      <td>2.0</td>\n",
       "      <td>3.812772</td>\n",
       "      <td>27.183267</td>\n",
       "      <td>9.770447</td>\n",
       "      <td>48.865305</td>\n",
       "      <td>10.059953</td>\n",
       "      <td>23.006122</td>\n",
       "      <td>...</td>\n",
       "      <td>0.404989</td>\n",
       "      <td>0.012327</td>\n",
       "      <td>2.365470e-03</td>\n",
       "      <td>7.118295e-04</td>\n",
       "      <td>5.232605e-03</td>\n",
       "      <td>1.941072</td>\n",
       "      <td>2.932785</td>\n",
       "      <td>7.118295e-04</td>\n",
       "      <td>5.232605e-03</td>\n",
       "      <td>/data/user/lrosenth/legacy/final_run/66428/664...</td>\n",
       "    </tr>\n",
       "    <tr>\n",
       "      <th>12</th>\n",
       "      <td>227</td>\n",
       "      <td>68988</td>\n",
       "      <td>C</td>\n",
       "      <td>2.0</td>\n",
       "      <td>15.048702</td>\n",
       "      <td>14.965098</td>\n",
       "      <td>13.439914</td>\n",
       "      <td>17.798917</td>\n",
       "      <td>13.425650</td>\n",
       "      <td>13.150699</td>\n",
       "      <td>...</td>\n",
       "      <td>0.517329</td>\n",
       "      <td>0.009404</td>\n",
       "      <td>9.749950e-03</td>\n",
       "      <td>4.989125e-03</td>\n",
       "      <td>1.366507e-02</td>\n",
       "      <td>2.076955</td>\n",
       "      <td>2.058301</td>\n",
       "      <td>4.989125e-03</td>\n",
       "      <td>1.366507e-02</td>\n",
       "      <td>/data/user/lrosenth/legacy/final_run/68988/689...</td>\n",
       "    </tr>\n",
       "    <tr>\n",
       "      <th>13</th>\n",
       "      <td>269</td>\n",
       "      <td>95735</td>\n",
       "      <td>C</td>\n",
       "      <td>1.0</td>\n",
       "      <td>0.057407</td>\n",
       "      <td>0.056775</td>\n",
       "      <td>0.048474</td>\n",
       "      <td>0.065837</td>\n",
       "      <td>2.994804</td>\n",
       "      <td>3.103780</td>\n",
       "      <td>...</td>\n",
       "      <td>0.202083</td>\n",
       "      <td>0.002609</td>\n",
       "      <td>2.424993e-03</td>\n",
       "      <td>2.202391e-03</td>\n",
       "      <td>2.645472e-03</td>\n",
       "      <td>2.861688</td>\n",
       "      <td>2.914620</td>\n",
       "      <td>2.202391e-03</td>\n",
       "      <td>2.645472e-03</td>\n",
       "      <td>/data/user/lrosenth/legacy/final_run/95735/957...</td>\n",
       "    </tr>\n",
       "  </tbody>\n",
       "</table>\n",
       "<p>14 rows × 43 columns</p>\n",
       "</div>"
      ],
      "text/plain": [
       "    Unnamed: 0 hostname status  pl_index       mass   mass_med  mass_minus  \\\n",
       "0            6   107148      C       2.0   0.067845   0.062633    0.052797   \n",
       "1           40   136925      C       1.0   0.872652   0.840422    0.766177   \n",
       "2           45   141004      C       1.0   0.043896   0.042869    0.038311   \n",
       "3           58   145675      C       2.0   5.691600   5.842973    4.813248   \n",
       "4           72   156668      C       1.0   0.101324   0.099085    0.091433   \n",
       "5           82   164922      C       3.0   0.034078   0.033118    0.030034   \n",
       "6           88   168009      C       2.0   0.030927   0.030019    0.026336   \n",
       "7          136   213472      C       1.0   3.479000   3.479000    2.885000   \n",
       "8          163    24040      C       2.0   0.206749   0.201043    0.173883   \n",
       "9          167    26161      C       1.0  13.510000  13.520000    9.840000   \n",
       "10         188     3765      C       1.0   0.174505   0.172514    0.159399   \n",
       "11         223    66428      C       2.0   3.812772  27.183267    9.770447   \n",
       "12         227    68988      C       2.0  15.048702  14.965098   13.439914   \n",
       "13         269    95735      C       1.0   0.057407   0.056775    0.048474   \n",
       "\n",
       "    mass_plus       axis   axis_med  ...      e_68       insol     insol_med  \\\n",
       "0    0.072335   0.140652   0.140650  ...  0.401911   67.907955  6.792773e+01   \n",
       "1    0.918395   5.209309   5.130608  ...  0.146360    0.052280  5.385304e-02   \n",
       "2    0.047486   0.123777   0.123790  ...  0.215525  135.627013  1.356329e+02   \n",
       "3    7.200666  15.949545  16.419784  ...  0.530049    0.002791  2.636649e-03   \n",
       "4    0.106949   1.570776   1.570311  ...  0.127107    0.126132  1.261865e-01   \n",
       "5    0.036210   0.229199   0.229221  ...  0.123719   14.504370  1.450174e+01   \n",
       "6    0.033793   0.119264   0.119246  ...  0.172219  102.871384  1.029570e+02   \n",
       "7    4.553000  12.990000  12.990000  ...  0.649000    0.005693  6.770000e-22   \n",
       "8    0.228451   1.301112   1.300030  ...  0.166341    1.135675  1.137315e+00   \n",
       "9   21.990000  20.400000  20.450000  ...  0.881000    0.015781  7.918622e-03   \n",
       "10   0.186072   2.136434   2.107524  ...  0.333186    0.088187  9.062822e-02   \n",
       "11  48.865305  10.059953  23.006122  ...  0.404989    0.012327  2.365470e-03   \n",
       "12  17.798917  13.425650  13.150699  ...  0.517329    0.009404  9.749950e-03   \n",
       "13   0.065837   2.994804   3.103780  ...  0.202083    0.002609  2.424993e-03   \n",
       "\n",
       "    insols_minus   insols_plus       teq        teq_med     teq_minus  \\\n",
       "0   6.268559e+01  7.345871e+01  0.225309       0.225293  6.268559e+01   \n",
       "1   4.980845e-02  5.813147e-02  1.352622       1.342632  4.980845e-02   \n",
       "2   1.243914e+02  1.476890e+02  0.189528       0.189526  1.243914e+02   \n",
       "3   1.071866e-03  4.873996e-03  2.813989       2.854279  1.071866e-03   \n",
       "4   1.185650e-01  1.342235e-01  1.085308       1.085191  1.185650e-01   \n",
       "5   1.349452e+01  1.555400e+01  0.331425       0.331440  1.349452e+01   \n",
       "6   9.439693e+01  1.119207e+02  0.203089       0.203047  9.439693e+01   \n",
       "7   1.480000e-22  2.460000e-12  2.354657  126802.763000  1.480000e-22   \n",
       "8   1.049463e+00  1.232663e+00  0.626536       0.626310  1.049463e+00   \n",
       "9   2.553594e-03  1.668076e-02  1.824835       2.168189  2.553594e-03   \n",
       "10  8.437785e-02  9.726919e-02  1.186886       1.178810  8.437785e-02   \n",
       "11  7.118295e-04  5.232605e-03  1.941072       2.932785  7.118295e-04   \n",
       "12  4.989125e-03  1.366507e-02  2.076955       2.058301  4.989125e-03   \n",
       "13  2.202391e-03  2.645472e-03  2.861688       2.914620  2.202391e-03   \n",
       "\n",
       "        teq_plus                                          post_path  \n",
       "0   7.345871e+01  /data/user/lrosenth/legacy/final_run/107148/10...  \n",
       "1   5.813147e-02  /data/user/lrosenth/legacy/final_run/136925/13...  \n",
       "2   1.476890e+02  /data/user/lrosenth/legacy/final_run/141004/14...  \n",
       "3   4.873996e-03  /data/user/lrosenth/legacy/final_run/145675/14...  \n",
       "4   1.342235e-01  /data/user/lrosenth/legacy/final_run/156668/15...  \n",
       "5   1.555400e+01  /data/user/lrosenth/legacy/final_run/164922/16...  \n",
       "6   1.119207e+02  /data/user/lrosenth/legacy/final_run/168009/16...  \n",
       "7   2.460000e-12  /data/user/lrosenth/legacy/final_run/213472/21...  \n",
       "8   1.232663e+00  /data/user/lrosenth/legacy/final_run/24040/240...  \n",
       "9   1.668076e-02  /data/user/lrosenth/legacy/final_run/26161/261...  \n",
       "10  9.726919e-02  /data/user/lrosenth/legacy/final_run/3765/3765...  \n",
       "11  5.232605e-03  /data/user/lrosenth/legacy/final_run/66428/664...  \n",
       "12  1.366507e-02  /data/user/lrosenth/legacy/final_run/68988/689...  \n",
       "13  2.645472e-03  /data/user/lrosenth/legacy/final_run/95735/957...  \n",
       "\n",
       "[14 rows x 43 columns]"
      ]
     },
     "execution_count": 32,
     "metadata": {},
     "output_type": "execute_result"
    }
   ],
   "source": [
    "planets_new"
   ]
  },
  {
   "cell_type": "code",
   "execution_count": 33,
   "metadata": {},
   "outputs": [],
   "source": [
    "false_ps = objects.query('status == \"N\" or status == \"A\" or status == \"R\"')"
   ]
  },
  {
   "cell_type": "code",
   "execution_count": 34,
   "metadata": {},
   "outputs": [
    {
     "data": {
      "text/plain": [
       "163"
      ]
     },
     "execution_count": 34,
     "metadata": {},
     "output_type": "execute_result"
    }
   ],
   "source": [
    "len(planets_old)"
   ]
  },
  {
   "cell_type": "code",
   "execution_count": 35,
   "metadata": {},
   "outputs": [
    {
     "data": {
      "text/html": [
       "<div>\n",
       "<style scoped>\n",
       "    .dataframe tbody tr th:only-of-type {\n",
       "        vertical-align: middle;\n",
       "    }\n",
       "\n",
       "    .dataframe tbody tr th {\n",
       "        vertical-align: top;\n",
       "    }\n",
       "\n",
       "    .dataframe thead th {\n",
       "        text-align: right;\n",
       "    }\n",
       "</style>\n",
       "<table border=\"1\" class=\"dataframe\">\n",
       "  <thead>\n",
       "    <tr style=\"text-align: right;\">\n",
       "      <th></th>\n",
       "      <th>hostname</th>\n",
       "      <th>mass_med</th>\n",
       "      <th>axis</th>\n",
       "      <th>axis_plus</th>\n",
       "      <th>per</th>\n",
       "    </tr>\n",
       "  </thead>\n",
       "  <tbody>\n",
       "    <tr>\n",
       "      <th>15</th>\n",
       "      <td>120066</td>\n",
       "      <td>3.155188</td>\n",
       "      <td>15.721033</td>\n",
       "      <td>43.307454</td>\n",
       "      <td>21712.99221</td>\n",
       "    </tr>\n",
       "    <tr>\n",
       "      <th>36</th>\n",
       "      <td>145675</td>\n",
       "      <td>5.842973</td>\n",
       "      <td>15.949545</td>\n",
       "      <td>25.720437</td>\n",
       "      <td>23632.68993</td>\n",
       "    </tr>\n",
       "    <tr>\n",
       "      <th>76</th>\n",
       "      <td>213472</td>\n",
       "      <td>3.479000</td>\n",
       "      <td>12.990000</td>\n",
       "      <td>18.740000</td>\n",
       "      <td>16745.00000</td>\n",
       "    </tr>\n",
       "    <tr>\n",
       "      <th>91</th>\n",
       "      <td>26161</td>\n",
       "      <td>13.520000</td>\n",
       "      <td>20.400000</td>\n",
       "      <td>28.320000</td>\n",
       "      <td>31733.00000</td>\n",
       "    </tr>\n",
       "    <tr>\n",
       "      <th>117</th>\n",
       "      <td>66428</td>\n",
       "      <td>27.183267</td>\n",
       "      <td>10.059953</td>\n",
       "      <td>41.605342</td>\n",
       "      <td>11370.48258</td>\n",
       "    </tr>\n",
       "    <tr>\n",
       "      <th>119</th>\n",
       "      <td>68988</td>\n",
       "      <td>14.965098</td>\n",
       "      <td>13.425650</td>\n",
       "      <td>18.425483</td>\n",
       "      <td>16599.67834</td>\n",
       "    </tr>\n",
       "    <tr>\n",
       "      <th>144</th>\n",
       "      <td>95128</td>\n",
       "      <td>1.514914</td>\n",
       "      <td>13.365341</td>\n",
       "      <td>18.622327</td>\n",
       "      <td>17800.98644</td>\n",
       "    </tr>\n",
       "  </tbody>\n",
       "</table>\n",
       "</div>"
      ],
      "text/plain": [
       "    hostname   mass_med       axis  axis_plus          per\n",
       "15    120066   3.155188  15.721033  43.307454  21712.99221\n",
       "36    145675   5.842973  15.949545  25.720437  23632.68993\n",
       "76    213472   3.479000  12.990000  18.740000  16745.00000\n",
       "91     26161  13.520000  20.400000  28.320000  31733.00000\n",
       "117    66428  27.183267  10.059953  41.605342  11370.48258\n",
       "119    68988  14.965098  13.425650  18.425483  16599.67834\n",
       "144    95128   1.514914  13.365341  18.622327  17800.98644"
      ]
     },
     "execution_count": 35,
     "metadata": {},
     "output_type": "execute_result"
    }
   ],
   "source": [
    "planets.query('axis > 10')[['hostname', 'mass_med', 'axis', 'axis_plus', 'per']]"
   ]
  },
  {
   "cell_type": "code",
   "execution_count": 36,
   "metadata": {},
   "outputs": [
    {
     "data": {
      "text/html": [
       "<div>\n",
       "<style scoped>\n",
       "    .dataframe tbody tr th:only-of-type {\n",
       "        vertical-align: middle;\n",
       "    }\n",
       "\n",
       "    .dataframe tbody tr th {\n",
       "        vertical-align: top;\n",
       "    }\n",
       "\n",
       "    .dataframe thead th {\n",
       "        text-align: right;\n",
       "    }\n",
       "</style>\n",
       "<table border=\"1\" class=\"dataframe\">\n",
       "  <thead>\n",
       "    <tr style=\"text-align: right;\">\n",
       "      <th></th>\n",
       "      <th>hostname</th>\n",
       "      <th>mass</th>\n",
       "      <th>axis</th>\n",
       "      <th>per</th>\n",
       "      <th>e</th>\n",
       "      <th>mass_minus</th>\n",
       "      <th>mass_med</th>\n",
       "    </tr>\n",
       "  </thead>\n",
       "  <tbody>\n",
       "    <tr>\n",
       "      <th>1</th>\n",
       "      <td>136925</td>\n",
       "      <td>0.872652</td>\n",
       "      <td>5.209309</td>\n",
       "      <td>4642.360748</td>\n",
       "      <td>0.155105</td>\n",
       "      <td>0.766177</td>\n",
       "      <td>0.840422</td>\n",
       "    </tr>\n",
       "    <tr>\n",
       "      <th>3</th>\n",
       "      <td>145675</td>\n",
       "      <td>5.691600</td>\n",
       "      <td>15.949545</td>\n",
       "      <td>23632.689930</td>\n",
       "      <td>0.440759</td>\n",
       "      <td>4.813248</td>\n",
       "      <td>5.842973</td>\n",
       "    </tr>\n",
       "    <tr>\n",
       "      <th>7</th>\n",
       "      <td>213472</td>\n",
       "      <td>3.479000</td>\n",
       "      <td>12.990000</td>\n",
       "      <td>16745.000000</td>\n",
       "      <td>0.529000</td>\n",
       "      <td>2.885000</td>\n",
       "      <td>3.479000</td>\n",
       "    </tr>\n",
       "    <tr>\n",
       "      <th>9</th>\n",
       "      <td>26161</td>\n",
       "      <td>13.510000</td>\n",
       "      <td>20.400000</td>\n",
       "      <td>31733.000000</td>\n",
       "      <td>0.820000</td>\n",
       "      <td>9.840000</td>\n",
       "      <td>13.520000</td>\n",
       "    </tr>\n",
       "    <tr>\n",
       "      <th>11</th>\n",
       "      <td>66428</td>\n",
       "      <td>3.812772</td>\n",
       "      <td>10.059953</td>\n",
       "      <td>11370.482580</td>\n",
       "      <td>0.131577</td>\n",
       "      <td>9.770447</td>\n",
       "      <td>27.183267</td>\n",
       "    </tr>\n",
       "    <tr>\n",
       "      <th>12</th>\n",
       "      <td>68988</td>\n",
       "      <td>15.048702</td>\n",
       "      <td>13.425650</td>\n",
       "      <td>16599.678340</td>\n",
       "      <td>0.458257</td>\n",
       "      <td>13.439914</td>\n",
       "      <td>14.965098</td>\n",
       "    </tr>\n",
       "  </tbody>\n",
       "</table>\n",
       "</div>"
      ],
      "text/plain": [
       "   hostname       mass       axis           per         e  mass_minus  \\\n",
       "1    136925   0.872652   5.209309   4642.360748  0.155105    0.766177   \n",
       "3    145675   5.691600  15.949545  23632.689930  0.440759    4.813248   \n",
       "7    213472   3.479000  12.990000  16745.000000  0.529000    2.885000   \n",
       "9     26161  13.510000  20.400000  31733.000000  0.820000    9.840000   \n",
       "11    66428   3.812772  10.059953  11370.482580  0.131577    9.770447   \n",
       "12    68988  15.048702  13.425650  16599.678340  0.458257   13.439914   \n",
       "\n",
       "     mass_med  \n",
       "1    0.840422  \n",
       "3    5.842973  \n",
       "7    3.479000  \n",
       "9   13.520000  \n",
       "11  27.183267  \n",
       "12  14.965098  "
      ]
     },
     "execution_count": 36,
     "metadata": {},
     "output_type": "execute_result"
    }
   ],
   "source": [
    "planets_new[['hostname', 'mass', 'axis', 'per', 'e', 'mass_minus', 'mass_med']].query('axis > 5')"
   ]
  },
  {
   "cell_type": "code",
   "execution_count": 37,
   "metadata": {},
   "outputs": [
    {
     "name": "stdout",
     "output_type": "stream",
     "text": [
      "163 14\n"
     ]
    }
   ],
   "source": [
    "print(len(planets_old), len(planets_new))"
   ]
  },
  {
   "cell_type": "code",
   "execution_count": 38,
   "metadata": {},
   "outputs": [
    {
     "data": {
      "text/html": [
       "<div>\n",
       "<style scoped>\n",
       "    .dataframe tbody tr th:only-of-type {\n",
       "        vertical-align: middle;\n",
       "    }\n",
       "\n",
       "    .dataframe tbody tr th {\n",
       "        vertical-align: top;\n",
       "    }\n",
       "\n",
       "    .dataframe thead th {\n",
       "        text-align: right;\n",
       "    }\n",
       "</style>\n",
       "<table border=\"1\" class=\"dataframe\">\n",
       "  <thead>\n",
       "    <tr style=\"text-align: right;\">\n",
       "      <th></th>\n",
       "      <th>hostname</th>\n",
       "      <th>mass_minus</th>\n",
       "      <th>mass_med</th>\n",
       "      <th>mass_plus</th>\n",
       "      <th>axis_minus</th>\n",
       "      <th>axis_med</th>\n",
       "      <th>axis_plus</th>\n",
       "      <th>e_minus</th>\n",
       "      <th>e_med</th>\n",
       "      <th>e_plus</th>\n",
       "    </tr>\n",
       "  </thead>\n",
       "  <tbody>\n",
       "    <tr>\n",
       "      <th>0</th>\n",
       "      <td>126614</td>\n",
       "      <td>22.518464</td>\n",
       "      <td>27.635242</td>\n",
       "      <td>34.055481</td>\n",
       "      <td>14.985698</td>\n",
       "      <td>16.495014</td>\n",
       "      <td>18.152885</td>\n",
       "      <td>0.011902</td>\n",
       "      <td>0.042616</td>\n",
       "      <td>0.090068</td>\n",
       "    </tr>\n",
       "    <tr>\n",
       "      <th>1</th>\n",
       "      <td>167215</td>\n",
       "      <td>20.079095</td>\n",
       "      <td>24.359442</td>\n",
       "      <td>43.316096</td>\n",
       "      <td>7.479448</td>\n",
       "      <td>7.990628</td>\n",
       "      <td>9.010023</td>\n",
       "      <td>0.099420</td>\n",
       "      <td>0.299263</td>\n",
       "      <td>0.571366</td>\n",
       "    </tr>\n",
       "    <tr>\n",
       "      <th>2</th>\n",
       "      <td>168443</td>\n",
       "      <td>17.408982</td>\n",
       "      <td>17.758193</td>\n",
       "      <td>18.104664</td>\n",
       "      <td>2.852956</td>\n",
       "      <td>2.881388</td>\n",
       "      <td>2.909322</td>\n",
       "      <td>0.209952</td>\n",
       "      <td>0.211245</td>\n",
       "      <td>0.212563</td>\n",
       "    </tr>\n",
       "    <tr>\n",
       "      <th>3</th>\n",
       "      <td>18445</td>\n",
       "      <td>29.472635</td>\n",
       "      <td>33.738929</td>\n",
       "      <td>40.852173</td>\n",
       "      <td>1.192552</td>\n",
       "      <td>1.208903</td>\n",
       "      <td>1.224649</td>\n",
       "      <td>0.567954</td>\n",
       "      <td>0.665781</td>\n",
       "      <td>0.781128</td>\n",
       "    </tr>\n",
       "    <tr>\n",
       "      <th>4</th>\n",
       "      <td>38529</td>\n",
       "      <td>13.112682</td>\n",
       "      <td>13.214594</td>\n",
       "      <td>13.315972</td>\n",
       "      <td>3.726559</td>\n",
       "      <td>3.736452</td>\n",
       "      <td>3.746310</td>\n",
       "      <td>0.349835</td>\n",
       "      <td>0.354501</td>\n",
       "      <td>0.359306</td>\n",
       "    </tr>\n",
       "    <tr>\n",
       "      <th>5</th>\n",
       "      <td>4747</td>\n",
       "      <td>47.546300</td>\n",
       "      <td>49.156142</td>\n",
       "      <td>50.815651</td>\n",
       "      <td>9.678957</td>\n",
       "      <td>9.844308</td>\n",
       "      <td>10.012856</td>\n",
       "      <td>0.729473</td>\n",
       "      <td>0.730979</td>\n",
       "      <td>0.732513</td>\n",
       "    </tr>\n",
       "    <tr>\n",
       "      <th>6</th>\n",
       "      <td>68017</td>\n",
       "      <td>27.999495</td>\n",
       "      <td>33.788880</td>\n",
       "      <td>39.467197</td>\n",
       "      <td>16.723536</td>\n",
       "      <td>21.175386</td>\n",
       "      <td>25.961902</td>\n",
       "      <td>0.341956</td>\n",
       "      <td>0.432068</td>\n",
       "      <td>0.507253</td>\n",
       "    </tr>\n",
       "    <tr>\n",
       "      <th>7</th>\n",
       "      <td>68988</td>\n",
       "      <td>13.439914</td>\n",
       "      <td>14.965098</td>\n",
       "      <td>17.798917</td>\n",
       "      <td>11.167620</td>\n",
       "      <td>13.150699</td>\n",
       "      <td>18.425483</td>\n",
       "      <td>0.372318</td>\n",
       "      <td>0.453138</td>\n",
       "      <td>0.587606</td>\n",
       "    </tr>\n",
       "    <tr>\n",
       "      <th>8</th>\n",
       "      <td>8765</td>\n",
       "      <td>41.490140</td>\n",
       "      <td>42.957214</td>\n",
       "      <td>44.440522</td>\n",
       "      <td>3.302516</td>\n",
       "      <td>3.355164</td>\n",
       "      <td>3.405652</td>\n",
       "      <td>0.384035</td>\n",
       "      <td>0.393565</td>\n",
       "      <td>0.403421</td>\n",
       "    </tr>\n",
       "    <tr>\n",
       "      <th>9</th>\n",
       "      <td>167665</td>\n",
       "      <td>47.006376</td>\n",
       "      <td>48.447361</td>\n",
       "      <td>49.868030</td>\n",
       "      <td>5.310911</td>\n",
       "      <td>5.390377</td>\n",
       "      <td>5.468173</td>\n",
       "      <td>0.337721</td>\n",
       "      <td>0.342080</td>\n",
       "      <td>0.346124</td>\n",
       "    </tr>\n",
       "  </tbody>\n",
       "</table>\n",
       "</div>"
      ],
      "text/plain": [
       "  hostname  mass_minus   mass_med  mass_plus  axis_minus   axis_med  \\\n",
       "0   126614   22.518464  27.635242  34.055481   14.985698  16.495014   \n",
       "1   167215   20.079095  24.359442  43.316096    7.479448   7.990628   \n",
       "2   168443   17.408982  17.758193  18.104664    2.852956   2.881388   \n",
       "3    18445   29.472635  33.738929  40.852173    1.192552   1.208903   \n",
       "4    38529   13.112682  13.214594  13.315972    3.726559   3.736452   \n",
       "5     4747   47.546300  49.156142  50.815651    9.678957   9.844308   \n",
       "6    68017   27.999495  33.788880  39.467197   16.723536  21.175386   \n",
       "7    68988   13.439914  14.965098  17.798917   11.167620  13.150699   \n",
       "8     8765   41.490140  42.957214  44.440522    3.302516   3.355164   \n",
       "9   167665   47.006376  48.447361  49.868030    5.310911   5.390377   \n",
       "\n",
       "   axis_plus   e_minus     e_med    e_plus  \n",
       "0  18.152885  0.011902  0.042616  0.090068  \n",
       "1   9.010023  0.099420  0.299263  0.571366  \n",
       "2   2.909322  0.209952  0.211245  0.212563  \n",
       "3   1.224649  0.567954  0.665781  0.781128  \n",
       "4   3.746310  0.349835  0.354501  0.359306  \n",
       "5  10.012856  0.729473  0.730979  0.732513  \n",
       "6  25.961902  0.341956  0.432068  0.507253  \n",
       "7  18.425483  0.372318  0.453138  0.587606  \n",
       "8   3.405652  0.384035  0.393565  0.403421  \n",
       "9   5.468173  0.337721  0.342080  0.346124  "
      ]
     },
     "execution_count": 38,
     "metadata": {},
     "output_type": "execute_result"
    }
   ],
   "source": [
    "substellars = objects_good.query('mass_minus > 12 and mass_plus < 60 and axis_plus < 30').reset_index(drop=True)\n",
    "substellars[['hostname', 'mass_minus', 'mass_med', 'mass_plus', \n",
    "             'axis_minus', 'axis_med', 'axis_plus', \n",
    "             'e_minus', 'e_med', 'e_plus']]"
   ]
  },
  {
   "cell_type": "code",
   "execution_count": 12,
   "metadata": {},
   "outputs": [
    {
     "data": {
      "image/png": "[encoded data removed]",
      "text/plain": [
       "<Figure size 720x360 with 2 Axes>"
      ]
     },
     "metadata": {
      "needs_background": "light"
     },
     "output_type": "display_data"
    }
   ],
   "source": [
    "matplotlib.rcParams.update({'font.size': 18})\n",
    "fig, ax = plt.subplots(figsize=(10, 5))\n",
    "\n",
    "ax.set_xscale('log')\n",
    "ax.set_yscale('log')\n",
    "ax.set_xticks((0.1, 1, 10))\n",
    "ax.get_xaxis().set_major_formatter(matplotlib.ticker.ScalarFormatter())\n",
    "ax.get_xaxis().set_minor_formatter(matplotlib.ticker.NullFormatter())\n",
    "ax.get_yaxis().set_major_formatter(matplotlib.ticker.ScalarFormatter())\n",
    "ax.get_yaxis().set_minor_formatter(matplotlib.ticker.NullFormatter())\n",
    "\n",
    "ax2 = ax.twinx()\n",
    "ax2.set_yscale('log')\n",
    "ax2.set_yticks((0.1, 1, 10))\n",
    "ax2.get_xaxis().set_major_formatter(matplotlib.ticker.ScalarFormatter())\n",
    "ax2.get_xaxis().set_minor_formatter(matplotlib.ticker.NullFormatter())\n",
    "ax2.get_yaxis().set_major_formatter(matplotlib.ticker.ScalarFormatter())\n",
    "ax2.get_yaxis().set_minor_formatter(matplotlib.ticker.NullFormatter())\n",
    "\n",
    "matplotlib.rcParams.update({'font.size': 18})\n",
    "ax.scatter(planets_old.axis, 317.8*planets_old.mass, c='b', s=50, alpha=0.75, \n",
    "           label='{} Known'.format(len(planets_old)))\n",
    "ax.scatter(planets_new.axis, 317.8*planets_new.mass, s=400, c='g', alpha=0.75, \n",
    "           label='{} New'.format(len(planets_new)))\n",
    "ax.set_xlim([2.5*10**-2, 30])\n",
    "ax.set_ylim([2, 9000])\n",
    "\n",
    "ymin, ymax = ax.get_ylim()\n",
    "ax2.set_ylim((ymin/317.8,ymax/317.8))\n",
    "ax2.plot([],[])\n",
    "\n",
    "matplotlib.rcParams.update({'font.size': 16})\n",
    "#ax.set_xlabel('Semi-major axis (AU)')\n",
    "ax.set_xlabel(r'$a$ (AU)')\n",
    "ax.set_ylabel(r'$M$sin$i$ ($M_{\\oplus}$)')\n",
    "ax2.set_ylabel(r'$M$sin$i$ ($M_J$)')\n",
    "ax.legend(loc=4, facecolor='gray', framealpha=0.2)\n",
    "\n",
    "fig.savefig('plots/m_a_scatter.png', dpi=1000, bbox_inches='tight')\n",
    "fig.savefig('plots/m_a_scatter.pdf', bbox_inches='tight')"
   ]
  },
  {
   "cell_type": "code",
   "execution_count": 13,
   "metadata": {},
   "outputs": [
    {
     "data": {
      "image/png": "[encoded data removed]",
      "text/plain": [
       "<Figure size 720x360 with 1 Axes>"
      ]
     },
     "metadata": {
      "needs_background": "light"
     },
     "output_type": "display_data"
    }
   ],
   "source": [
    "fig, ax = plt.subplots(figsize=(10, 5))\n",
    "matplotlib.rcParams.update({'font.size': 16})\n",
    "color = specmatch['fe_c'] #np.exp(2*specmatch['fe_c'])\n",
    "#color = 'purple'\n",
    "\n",
    "stars = ax.scatter(specmatch['teff_c'], specmatch['logg_c'], \n",
    "                   alpha=0.66, s=50*specmatch['mass_c']**2,\n",
    "                   c='purple', label='$\\propto \\mathrm{Mass}$')\n",
    "\n",
    "ax.set_xlabel(r'$T_\\mathrm{eff}$ (K)')\n",
    "ax.set_ylabel('log($g$) (cm s$^{-2}$)')\n",
    "ax.set_ylim([5.3, 2.35])\n",
    "ax.set_xlim([6600, 3000])\n",
    "#cbar = fig.colorbar(stars)\n",
    "#cbar.ax.set_ylabel('[Fe/H]')\n",
    "ax.legend()\n",
    "\n",
    "fig.savefig('plots/main_sequence_gravity.png', dpi=1000, bbox_inches='tight')\n",
    "fig.savefig('plots/main_sequence_gravity.pdf', bbox_inches='tight')"
   ]
  },
  {
   "cell_type": "code",
   "execution_count": 26,
   "metadata": {},
   "outputs": [
    {
     "data": {
      "image/png": "[encoded data removed]",
      "text/plain": [
       "<Figure size 720x360 with 2 Axes>"
      ]
     },
     "metadata": {
      "needs_background": "light"
     },
     "output_type": "display_data"
    }
   ],
   "source": [
    "fig, ax = plt.subplots(figsize=(10, 5))\n",
    "matplotlib.rcParams.update({'font.size': 16})\n",
    "color = specmatch['fe_c'] #np.exp(2*specmatch['fe_c'])\n",
    "#color = 'purple'\n",
    "\n",
    "stars = ax.scatter(specmatch['teff_c'], specmatch['logg_c'], \n",
    "                   alpha=0.66, s=50*specmatch['mass_c']**2,\n",
    "                   c=color, label='$\\propto \\mathrm{Mass}$')\n",
    "\n",
    "ax.set_xlabel(r'$T_\\mathrm{eff}$ (K)')\n",
    "ax.set_ylabel('log($g$) (cm s$^{-2}$)')\n",
    "ax.set_ylim([5.3, 2.35])\n",
    "ax.set_xlim([6600, 3000])\n",
    "cbar = fig.colorbar(stars)\n",
    "cbar.ax.set_ylabel('[Fe/H]')\n",
    "ax.legend()\n",
    "\n",
    "fig.savefig('plots/main_sequence_metallicity.png', dpi=1000, bbox_inches='tight')\n",
    "fig.savefig('plots/main_sequence_metallicity.pdf', bbox_inches='tight')"
   ]
  },
  {
   "cell_type": "code",
   "execution_count": 14,
   "metadata": {},
   "outputs": [
    {
     "data": {
      "image/png": "[encoded data removed]",
      "text/plain": [
       "<Figure size 432x288 with 1 Axes>"
      ]
     },
     "metadata": {
      "needs_background": "light"
     },
     "output_type": "display_data"
    }
   ],
   "source": [
    "fig, ax = plt.subplots()\n",
    "ax.hist(specmatch['mass_c'], \n",
    "        bins=25, density=False, histtype='step', range = (0.1, 2), \n",
    "        lw=3, color='black', alpha=1, label='_nolegend_')\n",
    "\n",
    "matplotlib.rcParams.update({'font.size': 14})\n",
    "ax.set_xlim([0.1, 2])\n",
    "ax.set_xlabel(r'$M$ (M$_{\\odot}$)')\n",
    "ax.set_ylabel(r'$N$')\n",
    "\n",
    "masses  = np.asarray(specmatch['mass_c'])\n",
    "umasses = np.asarray(specmatch['mass_err_c'])\n",
    "\n",
    "for i in np.arange(500):\n",
    "    ax.hist(np.random.normal(masses, umasses), \n",
    "            bins=25, density=False, histtype='step', range = (0.1, 2), \n",
    "            lw=3, color='green', label='_nolegend_', alpha=0.02)\n",
    "\n",
    "fig.savefig('plots/stellar_histogram_mass.png', dpi=1000, bbox_inches='tight')\n",
    "fig.savefig('plots/stellar_histogram_mass.pdf', bbox_inches='tight')"
   ]
  },
  {
   "cell_type": "code",
   "execution_count": 16,
   "metadata": {},
   "outputs": [
    {
     "data": {
      "image/png": "[encoded data removed]",
      "text/plain": [
       "<Figure size 432x288 with 1 Axes>"
      ]
     },
     "metadata": {
      "needs_background": "light"
     },
     "output_type": "display_data"
    }
   ],
   "source": [
    "matplotlib.rcParams.update({'font.size': 14})\n",
    "fig, ax = plt.subplots()\n",
    "ax.hist(specmatch['fe_c'], \n",
    "        bins=25, density=False, histtype='step', range=(-1.9, 0.6), \n",
    "        lw=3, color='black', alpha=1)\n",
    "\n",
    "ax.set_xlim([-1.9, 0.6])\n",
    "ax.set_xlabel(r'[Fe/H]')\n",
    "ax.set_ylabel(r'$N$')\n",
    "\n",
    "metals  = np.asarray(specmatch['fe_c'])\n",
    "umetals = np.asarray(specmatch['fe_err_c'])\n",
    "\n",
    "for i in np.arange(500):\n",
    "    ax.hist(np.random.normal(metals, umetals), \n",
    "            bins=25, density=False, histtype='step', range=(-1.9, 0.6), \n",
    "            lw=3, color='purple', label='_nolegend_', alpha=0.02)\n",
    "\n",
    "fig.savefig('plots/stellar_histogram_metal.png', dpi=1000, bbox_inches='tight')\n",
    "fig.savefig('plots/stellar_histogram_metal.pdf', bbox_inches='tight')"
   ]
  },
  {
   "cell_type": "code",
   "execution_count": 17,
   "metadata": {},
   "outputs": [
    {
     "data": {
      "image/png": "[encoded data removed]",
      "text/plain": [
       "<Figure size 432x288 with 1 Axes>"
      ]
     },
     "metadata": {
      "needs_background": "light"
     },
     "output_type": "display_data"
    }
   ],
   "source": [
    "matplotlib.rcParams.update({'font.size': 14})\n",
    "fig, ax = plt.subplots()\n",
    "ax.hist(specmatch['teff_c'], \n",
    "        bins=25, density=False, histtype='step', range=(3000, 6700), \n",
    "        lw=3, color='black', alpha=1)\n",
    "\n",
    "ax.set_xlim([6700, 3000])\n",
    "ax.set_xlabel(r'$T_\\mathrm{eff}$ (K)')\n",
    "ax.set_ylabel(r'$N$')\n",
    "\n",
    "teffs  = np.asarray(specmatch['teff_c'])\n",
    "uteffs = np.asarray(specmatch['teff_err_c'])\n",
    "\n",
    "for i in np.arange(500):\n",
    "    ax.hist(np.random.normal(teffs, uteffs), \n",
    "            bins=25, density=False, histtype='step', range=(3000, 6700), \n",
    "            lw=3, color='orange', label='_nolegend_', alpha=0.02)\n",
    "\n",
    "fig.savefig('plots/stellar_histogram_teff.png', dpi=1000, bbox_inches='tight')\n",
    "fig.savefig('plots/stellar_histogram_teff.pdf', bbox_inches='tight')"
   ]
  },
  {
   "cell_type": "code",
   "execution_count": 18,
   "metadata": {},
   "outputs": [
    {
     "data": {
      "image/png": "[encoded data removed]",
      "text/plain": [
       "<Figure size 432x288 with 1 Axes>"
      ]
     },
     "metadata": {
      "needs_background": "light"
     },
     "output_type": "display_data"
    }
   ],
   "source": [
    "matplotlib.rcParams.update({'font.size': 14})\n",
    "fig, ax = plt.subplots()\n",
    "ax.hist(specmatch['mv'], \n",
    "        bins=25, density=False, histtype='step',# range=(3000, 6700), \n",
    "        lw=3, color='black', alpha=1)\n",
    "\n",
    "ax.set_xlim([1, 17])\n",
    "ax.set_xlabel(r'$V$')\n",
    "ax.set_ylabel(r'$N$')\n",
    "\n",
    "fig.savefig('plots/stellar_histogram_V.png', dpi=1000, bbox_inches='tight')\n",
    "fig.savefig('plots/stellar_histogram_V.pdf', bbox_inches='tight')"
   ]
  },
  {
   "cell_type": "code",
   "execution_count": 19,
   "metadata": {},
   "outputs": [
    {
     "data": {
      "image/png": "[encoded data removed]",
      "text/plain": [
       "<Figure size 432x288 with 1 Axes>"
      ]
     },
     "metadata": {
      "needs_background": "light"
     },
     "output_type": "display_data"
    }
   ],
   "source": [
    "matplotlib.rcParams.update({'font.size': 14})\n",
    "fig, ax = plt.subplots()\n",
    "ax.hist(specmatch['bvcolor'], \n",
    "        bins=25, density=False, histtype='step',# range=(3000, 6700), \n",
    "        lw=3, color='black', alpha=1)\n",
    "\n",
    "#ax.set_xlim([1, 17])\n",
    "ax.set_xlabel(r'$B - V$')\n",
    "ax.set_ylabel(r'$N$')\n",
    "\n",
    "fig.savefig('plots/stellar_histogram_BV.png', dpi=1000, bbox_inches='tight')\n",
    "fig.savefig('plots/stellar_histogram_BV.pdf', bbox_inches='tight')"
   ]
  },
  {
   "cell_type": "code",
   "execution_count": 20,
   "metadata": {},
   "outputs": [
    {
     "data": {
      "image/png": "[encoded data removed]",
      "text/plain": [
       "<Figure size 432x288 with 1 Axes>"
      ]
     },
     "metadata": {
      "needs_background": "light"
     },
     "output_type": "display_data"
    }
   ],
   "source": [
    "matplotlib.rcParams.update({'font.size': 14})\n",
    "fig, ax = plt.subplots()\n",
    "ax.hist(np.log10(1/specmatch.query('iso_parallax > 0 and iso_parallax < 1')['iso_parallax']), \n",
    "        bins=25, density=False, histtype='step', range=(0, 2.7), \n",
    "        lw=3, color='black', alpha=1)\n",
    "\n",
    "def format_fn(tick_val, tick_pos):\n",
    "    #return str(10**tick_val)\n",
    "    return str(int(10**tick_val))  \n",
    "ax.xaxis.set_major_formatter(FuncFormatter(format_fn))\n",
    "\n",
    "ax.set_xlim([0, 2.8])\n",
    "ax.set_xlabel(r'$d$ (pc)')\n",
    "ax.set_ylabel(r'$N$')\n",
    "#ax.set_xlabel(r'log$_{10}$($d$ / 10 pc)')\n",
    "\n",
    "np.amax(specmatch.query('iso_parallax_emp > 0')['iso_parallax_emp'])\n",
    "fig.savefig('plots/stellar_histogram_distance.png', dpi=1000, bbox_inches='tight')\n",
    "fig.savefig('plots/stellar_histogram_distance.pdf', bbox_inches='tight')"
   ]
  },
  {
   "cell_type": "markdown",
   "metadata": {},
   "source": [
    "## Pull Specmatch metallicities into planet properties. In 'Masses_good_with_specmatch'."
   ]
  },
  {
   "cell_type": "code",
   "execution_count": 18,
   "metadata": {
    "scrolled": true
   },
   "outputs": [],
   "source": [
    "merge_columns = list(planets.columns)\n",
    "merge_columns.append('fe')\n",
    "m_good_spec = pd.DataFrame(columns=merge_columns)\n",
    "\n",
    "planets['name'] = planets['hostname']\n",
    "m_good_spec = pd.merge(planets, specmatch, on=['name'])"
   ]
  },
  {
   "cell_type": "code",
   "execution_count": 19,
   "metadata": {},
   "outputs": [],
   "source": [
    "m_good_spec['sep'] = m_good_spec['axis']*m_good_spec['iso_parallax_emp']\n",
    "m_good_spec['sep_med'] = m_good_spec['axis_med']*m_good_spec['iso_parallax_emp']\n",
    "m_good_spec['sep_minus'] = m_good_spec['axis_minus']*m_good_spec['iso_parallax_emp']\n",
    "m_good_spec['sep_plus'] = m_good_spec['axis_plus']*m_good_spec['iso_parallax_emp']"
   ]
  },
  {
   "cell_type": "markdown",
   "metadata": {},
   "source": [
    "## Filter out planet candidates beyond 2 AU and above 0.1 M_Jup, and stars with measured metallicity < -0.6 (bad measurement)."
   ]
  },
  {
   "cell_type": "code",
   "execution_count": 20,
   "metadata": {
    "scrolled": true
   },
   "outputs": [
    {
     "name": "stdout",
     "output_type": "stream",
     "text": [
      "179 161\n"
     ]
    }
   ],
   "source": [
    "good_spec_filter = m_good_spec.query('fe > -0.6 and (status == \"K\" or status == \"C\")')#axis < 5 and mass > 0.1 \n",
    "print(len(m_good_spec), len(good_spec_filter))"
   ]
  },
  {
   "cell_type": "markdown",
   "metadata": {},
   "source": [
    "## Overplot total sample histogram in metallicity, and eccentricity/metallicity scatterplot for planets."
   ]
  },
  {
   "cell_type": "code",
   "execution_count": 19,
   "metadata": {},
   "outputs": [
    {
     "data": {
      "image/png": "[encoded data removed]",
      "text/plain": [
       "<Figure size 432x288 with 2 Axes>"
      ]
     },
     "metadata": {
      "needs_background": "light"
     },
     "output_type": "display_data"
    }
   ],
   "source": [
    "fig, ax = plt.subplots()\n",
    "matplotlib.rcParams.update({'font.size': 14})\n",
    "#plt.title('a < 5 AU, M > 0.05 MJup')\n",
    "plt.title('Eccentricity and Metallicity')\n",
    "#matplotlib.rcParams.update({'font.size': 14})\n",
    "ln1 = ax.scatter(good_spec_filter.fe, good_spec_filter.e, s=list(50*good_spec_filter.mass), \n",
    "                alpha=0.75, c='red', label=r'Size $\\propto$ Msini')\n",
    "\n",
    "#Accurately calculate median for planet hosts, don't duplicate metallicity for each planet.\n",
    "unique_fe = np.unique(good_spec_filter.fe)\n",
    "median_fe = np.median(unique_fe)\n",
    "mad_fe = astrostats.mad_std(unique_fe)\n",
    "#matplotlib.rcParams.update({'font.size': 14})\n",
    "ln2 = ax.axvline(x=median_fe, c='red', ls='--', label='Planet host med.')\n",
    "#matplotlib.rcParams.update({'font.size': 14})\n",
    "ax.set_xlabel('[Fe/H]')\n",
    "ax.set_ylabel('Eccentricity')\n",
    "ax.set_xlim([-0.75, 0.5])\n",
    "ax.set_ylim([0, 1])\n",
    "#matplotlib.rcParams.update({'font.size': 14})\n",
    "matplotlib.rcParams.update({'font.size': 10})\n",
    "ax2 = ax.twinx()\n",
    "ln3 = ax2.hist(fe_select, bins=40, histtype='step', color='purple', density=True, label='CLS Sample')\n",
    "median_sample_fe = np.median(fe_select)\n",
    "#mad_sample_fe = astrostats.median_absolute_deviation(specmatch.fe)\n",
    "mad_sample_fe = astrostats.mad_std(fe_select)\n",
    "ln4 = ax2.axvline(x=median_sample_fe, c='purple', ls='--', label='Sample med.')\n",
    "ax.axvline(x=median_sample_fe+mad_sample_fe, c='purple', ls=':', label=r'Sample $\\sigma$')\n",
    "ax.axvline(x=median_sample_fe-mad_sample_fe, c='purple', ls=':')\n",
    "ax2.set_ylabel('Number density')\n",
    "#ax2.set_ylim([0, 1])\n",
    "\n",
    "lines, labels = ax.get_legend_handles_labels()\n",
    "lines2, labels2 = ax2.get_legend_handles_labels()\n",
    "matplotlib.rcParams.update({'font.size': 10})\n",
    "ax2.legend(lines2 + lines, labels2 + labels, loc=2)\n",
    "\n",
    "fig.savefig('plots/fe_eccentricity_hist.png', dpi=1000)"
   ]
  },
  {
   "cell_type": "code",
   "execution_count": 42,
   "metadata": {},
   "outputs": [
    {
     "data": {
      "image/png": "[encoded data removed]",
      "text/plain": [
       "<Figure size 432x288 with 1 Axes>"
      ]
     },
     "metadata": {
      "needs_background": "light"
     },
     "output_type": "display_data"
    }
   ],
   "source": [
    "fig, ax = plt.subplots()\n",
    "#plt.title('a < 5 AU, M > 0.05 MJup')\n",
    "\n",
    "# Accurately calculate median for planet hosts, don't duplicate metallicity for each planet.\n",
    "unique_fe = np.unique(good_spec_filter.fe)\n",
    "median_fe = np.median(unique_fe)\n",
    "mad_fe = astrostats.mad_std(unique_fe)\n",
    "\n",
    "ln1 = ax.hist(unique_fe, bins=20, histtype='stepfilled', color='green', \n",
    "              alpha=1, density=False, label='Host stars')\n",
    "ln2 = ax.axvline(x=median_fe, c='green', ls='--', label='Planet host median')\n",
    "ax.set_xlabel('[Fe/H]')\n",
    "ax.set_ylabel('Number')\n",
    "\n",
    "ln3 = ax.hist(fe_select, bins=50, histtype='stepfilled', color='blue', \n",
    "               alpha=0.5, density=False, label='Sample')\n",
    "median_sample_fe = np.median(specmatch.fe)\n",
    "mad_sample_fe = astrostats.mad_std(specmatch.fe)\n",
    "ln4 = ax.axvline(x=median_sample_fe, c='purple', ls='--', label='Sample median')\n",
    "\n",
    "lines, labels = ax.get_legend_handles_labels()\n",
    "ax.legend()\n",
    "\n",
    "fig.savefig('plots/fe_two_hist_num.pdf')"
   ]
  },
  {
   "cell_type": "code",
   "execution_count": 27,
   "metadata": {},
   "outputs": [
    {
     "ename": "NameError",
     "evalue": "name 'good_spec_filter' is not defined",
     "output_type": "error",
     "traceback": [
      "\u001b[0;31m---------------------------------------------------------------------------\u001b[0m",
      "\u001b[0;31mNameError\u001b[0m                                 Traceback (most recent call last)",
      "\u001b[0;32m<ipython-input-27-362a23a7b108>\u001b[0m in \u001b[0;36m<module>\u001b[0;34m\u001b[0m\n\u001b[1;32m      5\u001b[0m \u001b[0mfig\u001b[0m\u001b[0;34m,\u001b[0m \u001b[0max\u001b[0m \u001b[0;34m=\u001b[0m \u001b[0mplt\u001b[0m\u001b[0;34m.\u001b[0m\u001b[0msubplots\u001b[0m\u001b[0;34m(\u001b[0m\u001b[0;34m)\u001b[0m\u001b[0;34m\u001b[0m\u001b[0;34m\u001b[0m\u001b[0m\n\u001b[1;32m      6\u001b[0m \u001b[0mplt\u001b[0m\u001b[0;34m.\u001b[0m\u001b[0mtitle\u001b[0m\u001b[0;34m(\u001b[0m\u001b[0;34m'a < 5 AU, M > 0.1 MJup'\u001b[0m\u001b[0;34m)\u001b[0m\u001b[0;34m\u001b[0m\u001b[0;34m\u001b[0m\u001b[0m\n\u001b[0;32m----> 7\u001b[0;31m im = ax.scatter(good_spec_filter.axis, good_spec_filter.e, s=list(50*good_spec_filter.mass), \n\u001b[0m\u001b[1;32m      8\u001b[0m                 c=good_spec_filter.fe, alpha=0.75, label=r'Size $\\propto$ Msini')\n\u001b[1;32m      9\u001b[0m \u001b[0max\u001b[0m\u001b[0;34m.\u001b[0m\u001b[0mplot\u001b[0m\u001b[0;34m(\u001b[0m\u001b[0maxes\u001b[0m\u001b[0;34m,\u001b[0m \u001b[0me_max\u001b[0m\u001b[0;34m,\u001b[0m \u001b[0mlabel\u001b[0m\u001b[0;34m=\u001b[0m\u001b[0;34mr'$e_{max}$ (0.03 AU)'\u001b[0m\u001b[0;34m)\u001b[0m\u001b[0;34m\u001b[0m\u001b[0;34m\u001b[0m\u001b[0m\n",
      "\u001b[0;31mNameError\u001b[0m: name 'good_spec_filter' is not defined"
     ]
    },
    {
     "data": {
      "image/png": "[encoded data removed]",
      "text/plain": [
       "<Figure size 432x288 with 1 Axes>"
      ]
     },
     "metadata": {
      "needs_background": "light"
     },
     "output_type": "display_data"
    }
   ],
   "source": [
    "# Overplot peri-distance limit 0.03 AU.\n",
    "axes = np.logspace(np.log10(0.03), np.log10(6))\n",
    "e_max = 1 - 0.03/axes\n",
    "\n",
    "fig, ax = plt.subplots()\n",
    "plt.title('a < 5 AU, M > 0.1 MJup')\n",
    "im = ax.scatter(good_spec_filter.axis, good_spec_filter.e, s=list(50*good_spec_filter.mass), \n",
    "                c=good_spec_filter.fe, alpha=0.75, label=r'Size $\\propto$ Msini')\n",
    "ax.plot(axes, e_max, label=r'$e_{max}$ (0.03 AU)')\n",
    "ax.set_xlabel('Semi-major axis (AU)')\n",
    "ax.set_ylabel('Eccentricity')\n",
    "ax.set_xlim([0.03,6])\n",
    "ax.set_ylim([-0.025,1])\n",
    "ax.set_xscale('log')\n",
    "ax.legend(loc=2)\n",
    "cbar = fig.colorbar(im)\n",
    "cbar.ax.set_ylabel('[Fe/H]')#, rotation=270)\n",
    "fig.savefig('plots/axis_eccentricity_log_lim.pdf')"
   ]
  },
  {
   "cell_type": "markdown",
   "metadata": {},
   "source": [
    "## Plot eccentricity with confidence intervals."
   ]
  },
  {
   "cell_type": "code",
   "execution_count": 40,
   "metadata": {},
   "outputs": [
    {
     "data": {
      "image/png": "[encoded data removed]",
      "text/plain": [
       "<Figure size 432x288 with 1 Axes>"
      ]
     },
     "metadata": {
      "needs_background": "light"
     },
     "output_type": "display_data"
    }
   ],
   "source": [
    "fig, ax = plt.subplots()\n",
    "matplotlib.rcParams.update({'font.size': 12})\n",
    "#plt.title('Axis and Eccentricity')\n",
    "matplotlib.rcParams.update({'font.size': 12})\n",
    "\n",
    "ax.set_xscale('log')\n",
    "ax.set_xticks((0.1, 1, 10))\n",
    "ax.get_xaxis().set_major_formatter(matplotlib.ticker.ScalarFormatter())\n",
    "ax.get_xaxis().set_minor_formatter(matplotlib.ticker.NullFormatter())\n",
    "\n",
    "ax.scatter(planets.axis, planets.e_med, #.axis_med, #.e_mode,\n",
    "           s=list(50*planets.mass_med), \n",
    "           c='blue', edgecolors='black', \n",
    "           alpha=0.75, linewidth=2,\n",
    "           label=r'$\\propto$ $M$sin$i$')\n",
    "ax.legend(loc=2)\n",
    "\n",
    "# Differentiate between circular-consistent and eccentric-consistent.\n",
    "ax.vlines(planets.axis, planets.e_minus,\n",
    "          planets.e_plus, alpha=0.5, color='black')\n",
    "\n",
    "ax.set_xlabel(r'$a$ (AU)')\n",
    "ax.set_ylabel('Eccentricity')\n",
    "ax.set_ylim([0, 1])\n",
    "ax.set_xlim([2.5*10**-2, 30])\n",
    "fig.savefig('plots/axis_eccentricity_ci.png', dpi=1000, bbox_inches='tight')\n",
    "fig.savefig('plots/axis_eccentricity_ci.pdf', bbox_inches='tight')"
   ]
  },
  {
   "cell_type": "code",
   "execution_count": 44,
   "metadata": {},
   "outputs": [
    {
     "data": {
      "text/html": [
       "<div>\n",
       "<style scoped>\n",
       "    .dataframe tbody tr th:only-of-type {\n",
       "        vertical-align: middle;\n",
       "    }\n",
       "\n",
       "    .dataframe tbody tr th {\n",
       "        vertical-align: top;\n",
       "    }\n",
       "\n",
       "    .dataframe thead th {\n",
       "        text-align: right;\n",
       "    }\n",
       "</style>\n",
       "<table border=\"1\" class=\"dataframe\">\n",
       "  <thead>\n",
       "    <tr style=\"text-align: right;\">\n",
       "      <th></th>\n",
       "      <th>hostname</th>\n",
       "      <th>e_minus</th>\n",
       "      <th>e_mode</th>\n",
       "      <th>e_plus</th>\n",
       "    </tr>\n",
       "  </thead>\n",
       "  <tbody>\n",
       "    <tr>\n",
       "      <th>16</th>\n",
       "      <td>120066</td>\n",
       "      <td>0.829928</td>\n",
       "      <td>0.940</td>\n",
       "      <td>0.934481</td>\n",
       "    </tr>\n",
       "    <tr>\n",
       "      <th>37</th>\n",
       "      <td>145675</td>\n",
       "      <td>0.303072</td>\n",
       "      <td>0.270</td>\n",
       "      <td>0.619581</td>\n",
       "    </tr>\n",
       "    <tr>\n",
       "      <th>77</th>\n",
       "      <td>213472</td>\n",
       "      <td>0.444000</td>\n",
       "      <td>0.529</td>\n",
       "      <td>0.649000</td>\n",
       "    </tr>\n",
       "    <tr>\n",
       "      <th>92</th>\n",
       "      <td>26161</td>\n",
       "      <td>0.770000</td>\n",
       "      <td>0.820</td>\n",
       "      <td>0.881000</td>\n",
       "    </tr>\n",
       "    <tr>\n",
       "      <th>117</th>\n",
       "      <td>50499</td>\n",
       "      <td>0.166044</td>\n",
       "      <td>0.240</td>\n",
       "      <td>0.330395</td>\n",
       "    </tr>\n",
       "    <tr>\n",
       "      <th>121</th>\n",
       "      <td>66428</td>\n",
       "      <td>0.167421</td>\n",
       "      <td>0.375</td>\n",
       "      <td>0.556626</td>\n",
       "    </tr>\n",
       "    <tr>\n",
       "      <th>123</th>\n",
       "      <td>68988</td>\n",
       "      <td>0.372318</td>\n",
       "      <td>0.400</td>\n",
       "      <td>0.587606</td>\n",
       "    </tr>\n",
       "    <tr>\n",
       "      <th>148</th>\n",
       "      <td>95128</td>\n",
       "      <td>0.229270</td>\n",
       "      <td>0.360</td>\n",
       "      <td>0.547707</td>\n",
       "    </tr>\n",
       "  </tbody>\n",
       "</table>\n",
       "</div>"
      ],
      "text/plain": [
       "    hostname   e_minus  e_mode    e_plus\n",
       "16    120066  0.829928   0.940  0.934481\n",
       "37    145675  0.303072   0.270  0.619581\n",
       "77    213472  0.444000   0.529  0.649000\n",
       "92     26161  0.770000   0.820  0.881000\n",
       "117    50499  0.166044   0.240  0.330395\n",
       "121    66428  0.167421   0.375  0.556626\n",
       "123    68988  0.372318   0.400  0.587606\n",
       "148    95128  0.229270   0.360  0.547707"
      ]
     },
     "execution_count": 44,
     "metadata": {},
     "output_type": "execute_result"
    }
   ],
   "source": [
    "planets.query('axis_med > 10')[['hostname', 'e_minus', 'e_mode', 'e_plus']]"
   ]
  },
  {
   "cell_type": "code",
   "execution_count": 196,
   "metadata": {
    "collapsed": true
   },
   "outputs": [
    {
     "data": {
      "text/html": [
       "<div>\n",
       "<style scoped>\n",
       "    .dataframe tbody tr th:only-of-type {\n",
       "        vertical-align: middle;\n",
       "    }\n",
       "\n",
       "    .dataframe tbody tr th {\n",
       "        vertical-align: top;\n",
       "    }\n",
       "\n",
       "    .dataframe thead th {\n",
       "        text-align: right;\n",
       "    }\n",
       "</style>\n",
       "<table border=\"1\" class=\"dataframe\">\n",
       "  <thead>\n",
       "    <tr style=\"text-align: right;\">\n",
       "      <th></th>\n",
       "      <th>hostname</th>\n",
       "      <th>mass_minus</th>\n",
       "      <th>mass_med</th>\n",
       "      <th>mass_plus</th>\n",
       "      <th>axis_med</th>\n",
       "      <th>e_minus</th>\n",
       "      <th>e_med</th>\n",
       "      <th>e_plus</th>\n",
       "    </tr>\n",
       "  </thead>\n",
       "  <tbody>\n",
       "    <tr>\n",
       "      <th>3</th>\n",
       "      <td>107148</td>\n",
       "      <td>0.052812</td>\n",
       "      <td>0.062632</td>\n",
       "      <td>0.072330</td>\n",
       "      <td>0.140635</td>\n",
       "      <td>0.180533</td>\n",
       "      <td>0.335719</td>\n",
       "      <td>0.470649</td>\n",
       "    </tr>\n",
       "    <tr>\n",
       "      <th>27</th>\n",
       "      <td>136925</td>\n",
       "      <td>0.885964</td>\n",
       "      <td>1.076818</td>\n",
       "      <td>1.281420</td>\n",
       "      <td>4.680605</td>\n",
       "      <td>0.367470</td>\n",
       "      <td>0.680105</td>\n",
       "      <td>0.750475</td>\n",
       "    </tr>\n",
       "    <tr>\n",
       "      <th>29</th>\n",
       "      <td>141004</td>\n",
       "      <td>0.038372</td>\n",
       "      <td>0.042840</td>\n",
       "      <td>0.047503</td>\n",
       "      <td>0.123790</td>\n",
       "      <td>0.059317</td>\n",
       "      <td>0.163534</td>\n",
       "      <td>0.273011</td>\n",
       "    </tr>\n",
       "    <tr>\n",
       "      <th>37</th>\n",
       "      <td>145675</td>\n",
       "      <td>4.811323</td>\n",
       "      <td>5.841370</td>\n",
       "      <td>7.203498</td>\n",
       "      <td>16.426313</td>\n",
       "      <td>0.303072</td>\n",
       "      <td>0.452164</td>\n",
       "      <td>0.619581</td>\n",
       "    </tr>\n",
       "    <tr>\n",
       "      <th>51</th>\n",
       "      <td>164922</td>\n",
       "      <td>0.012793</td>\n",
       "      <td>0.014872</td>\n",
       "      <td>0.016945</td>\n",
       "      <td>0.102329</td>\n",
       "      <td>0.055199</td>\n",
       "      <td>0.180095</td>\n",
       "      <td>0.349462</td>\n",
       "    </tr>\n",
       "    <tr>\n",
       "      <th>59</th>\n",
       "      <td>170469</td>\n",
       "      <td>0.482555</td>\n",
       "      <td>0.554716</td>\n",
       "      <td>0.629851</td>\n",
       "      <td>2.212173</td>\n",
       "      <td>0.048397</td>\n",
       "      <td>0.154503</td>\n",
       "      <td>0.312677</td>\n",
       "    </tr>\n",
       "    <tr>\n",
       "      <th>61</th>\n",
       "      <td>177830</td>\n",
       "      <td>0.089411</td>\n",
       "      <td>0.104277</td>\n",
       "      <td>0.120063</td>\n",
       "      <td>0.496229</td>\n",
       "      <td>0.389725</td>\n",
       "      <td>0.539209</td>\n",
       "      <td>0.660149</td>\n",
       "    </tr>\n",
       "    <tr>\n",
       "      <th>73</th>\n",
       "      <td>192310</td>\n",
       "      <td>0.039094</td>\n",
       "      <td>0.045073</td>\n",
       "      <td>0.051469</td>\n",
       "      <td>0.326237</td>\n",
       "      <td>0.047769</td>\n",
       "      <td>0.141149</td>\n",
       "      <td>0.262648</td>\n",
       "    </tr>\n",
       "    <tr>\n",
       "      <th>77</th>\n",
       "      <td>213472</td>\n",
       "      <td>2.885000</td>\n",
       "      <td>3.479000</td>\n",
       "      <td>4.553000</td>\n",
       "      <td>12.990000</td>\n",
       "      <td>0.444000</td>\n",
       "      <td>0.529000</td>\n",
       "      <td>0.649000</td>\n",
       "    </tr>\n",
       "    <tr>\n",
       "      <th>78</th>\n",
       "      <td>216520</td>\n",
       "      <td>0.028835</td>\n",
       "      <td>0.032621</td>\n",
       "      <td>0.036213</td>\n",
       "      <td>0.195377</td>\n",
       "      <td>0.067118</td>\n",
       "      <td>0.187106</td>\n",
       "      <td>0.314167</td>\n",
       "    </tr>\n",
       "    <tr>\n",
       "      <th>87</th>\n",
       "      <td>219134</td>\n",
       "      <td>0.009821</td>\n",
       "      <td>0.011232</td>\n",
       "      <td>0.012608</td>\n",
       "      <td>0.064659</td>\n",
       "      <td>0.051075</td>\n",
       "      <td>0.159784</td>\n",
       "      <td>0.283953</td>\n",
       "    </tr>\n",
       "    <tr>\n",
       "      <th>91</th>\n",
       "      <td>24040</td>\n",
       "      <td>0.174145</td>\n",
       "      <td>0.201119</td>\n",
       "      <td>0.228269</td>\n",
       "      <td>1.300008</td>\n",
       "      <td>0.032111</td>\n",
       "      <td>0.111044</td>\n",
       "      <td>0.233157</td>\n",
       "    </tr>\n",
       "    <tr>\n",
       "      <th>94</th>\n",
       "      <td>285968</td>\n",
       "      <td>0.024187</td>\n",
       "      <td>0.028531</td>\n",
       "      <td>0.032841</td>\n",
       "      <td>0.066490</td>\n",
       "      <td>0.053657</td>\n",
       "      <td>0.163448</td>\n",
       "      <td>0.299084</td>\n",
       "    </tr>\n",
       "    <tr>\n",
       "      <th>95</th>\n",
       "      <td>31253</td>\n",
       "      <td>0.383296</td>\n",
       "      <td>0.445807</td>\n",
       "      <td>0.508966</td>\n",
       "      <td>1.295621</td>\n",
       "      <td>0.275216</td>\n",
       "      <td>0.440430</td>\n",
       "      <td>0.559104</td>\n",
       "    </tr>\n",
       "    <tr>\n",
       "      <th>99</th>\n",
       "      <td>34445</td>\n",
       "      <td>0.144788</td>\n",
       "      <td>0.166367</td>\n",
       "      <td>0.188502</td>\n",
       "      <td>0.726717</td>\n",
       "      <td>0.073101</td>\n",
       "      <td>0.174406</td>\n",
       "      <td>0.280003</td>\n",
       "    </tr>\n",
       "    <tr>\n",
       "      <th>100</th>\n",
       "      <td>34445</td>\n",
       "      <td>0.100368</td>\n",
       "      <td>0.114473</td>\n",
       "      <td>0.129095</td>\n",
       "      <td>0.486722</td>\n",
       "      <td>0.148526</td>\n",
       "      <td>0.257892</td>\n",
       "      <td>0.379580</td>\n",
       "    </tr>\n",
       "    <tr>\n",
       "      <th>101</th>\n",
       "      <td>34445</td>\n",
       "      <td>0.055254</td>\n",
       "      <td>0.064727</td>\n",
       "      <td>0.075415</td>\n",
       "      <td>0.272246</td>\n",
       "      <td>0.179638</td>\n",
       "      <td>0.354213</td>\n",
       "      <td>0.544104</td>\n",
       "    </tr>\n",
       "    <tr>\n",
       "      <th>108</th>\n",
       "      <td>4203</td>\n",
       "      <td>2.441611</td>\n",
       "      <td>2.681533</td>\n",
       "      <td>3.667077</td>\n",
       "      <td>7.784331</td>\n",
       "      <td>0.100875</td>\n",
       "      <td>0.190164</td>\n",
       "      <td>0.480939</td>\n",
       "    </tr>\n",
       "    <tr>\n",
       "      <th>111</th>\n",
       "      <td>45184</td>\n",
       "      <td>0.033650</td>\n",
       "      <td>0.037449</td>\n",
       "      <td>0.041464</td>\n",
       "      <td>0.064122</td>\n",
       "      <td>0.083647</td>\n",
       "      <td>0.184753</td>\n",
       "      <td>0.284891</td>\n",
       "    </tr>\n",
       "    <tr>\n",
       "      <th>112</th>\n",
       "      <td>45184</td>\n",
       "      <td>0.028612</td>\n",
       "      <td>0.034463</td>\n",
       "      <td>0.040153</td>\n",
       "      <td>0.109533</td>\n",
       "      <td>0.246258</td>\n",
       "      <td>0.484646</td>\n",
       "      <td>0.664791</td>\n",
       "    </tr>\n",
       "    <tr>\n",
       "      <th>121</th>\n",
       "      <td>66428</td>\n",
       "      <td>9.784151</td>\n",
       "      <td>27.244769</td>\n",
       "      <td>48.999393</td>\n",
       "      <td>23.023208</td>\n",
       "      <td>0.167421</td>\n",
       "      <td>0.324164</td>\n",
       "      <td>0.556626</td>\n",
       "    </tr>\n",
       "    <tr>\n",
       "      <th>123</th>\n",
       "      <td>68988</td>\n",
       "      <td>13.433975</td>\n",
       "      <td>14.966295</td>\n",
       "      <td>17.815117</td>\n",
       "      <td>13.151161</td>\n",
       "      <td>0.372318</td>\n",
       "      <td>0.453138</td>\n",
       "      <td>0.587606</td>\n",
       "    </tr>\n",
       "    <tr>\n",
       "      <th>137</th>\n",
       "      <td>7924</td>\n",
       "      <td>0.017148</td>\n",
       "      <td>0.019180</td>\n",
       "      <td>0.021307</td>\n",
       "      <td>0.153170</td>\n",
       "      <td>0.066189</td>\n",
       "      <td>0.168675</td>\n",
       "      <td>0.271601</td>\n",
       "    </tr>\n",
       "    <tr>\n",
       "      <th>142</th>\n",
       "      <td>86728</td>\n",
       "      <td>0.024338</td>\n",
       "      <td>0.028879</td>\n",
       "      <td>0.033507</td>\n",
       "      <td>0.198213</td>\n",
       "      <td>0.038885</td>\n",
       "      <td>0.132257</td>\n",
       "      <td>0.288696</td>\n",
       "    </tr>\n",
       "    <tr>\n",
       "      <th>144</th>\n",
       "      <td>90156</td>\n",
       "      <td>0.031036</td>\n",
       "      <td>0.037047</td>\n",
       "      <td>0.043210</td>\n",
       "      <td>0.250846</td>\n",
       "      <td>0.046611</td>\n",
       "      <td>0.155711</td>\n",
       "      <td>0.331646</td>\n",
       "    </tr>\n",
       "    <tr>\n",
       "      <th>149</th>\n",
       "      <td>95128</td>\n",
       "      <td>1.339077</td>\n",
       "      <td>1.514869</td>\n",
       "      <td>1.738369</td>\n",
       "      <td>13.782922</td>\n",
       "      <td>0.229270</td>\n",
       "      <td>0.383690</td>\n",
       "      <td>0.547707</td>\n",
       "    </tr>\n",
       "    <tr>\n",
       "      <th>150</th>\n",
       "      <td>95735</td>\n",
       "      <td>0.048441</td>\n",
       "      <td>0.056769</td>\n",
       "      <td>0.065833</td>\n",
       "      <td>3.104151</td>\n",
       "      <td>0.042478</td>\n",
       "      <td>0.137213</td>\n",
       "      <td>0.296278</td>\n",
       "    </tr>\n",
       "    <tr>\n",
       "      <th>153</th>\n",
       "      <td>97101</td>\n",
       "      <td>0.028384</td>\n",
       "      <td>0.032219</td>\n",
       "      <td>0.036473</td>\n",
       "      <td>0.240303</td>\n",
       "      <td>0.146085</td>\n",
       "      <td>0.276135</td>\n",
       "      <td>0.403782</td>\n",
       "    </tr>\n",
       "    <tr>\n",
       "      <th>166</th>\n",
       "      <td>hip57050</td>\n",
       "      <td>0.230524</td>\n",
       "      <td>0.259932</td>\n",
       "      <td>0.289674</td>\n",
       "      <td>0.930202</td>\n",
       "      <td>0.100038</td>\n",
       "      <td>0.266747</td>\n",
       "      <td>0.404906</td>\n",
       "    </tr>\n",
       "    <tr>\n",
       "      <th>169</th>\n",
       "      <td>hip74995</td>\n",
       "      <td>0.013737</td>\n",
       "      <td>0.015934</td>\n",
       "      <td>0.018093</td>\n",
       "      <td>0.073581</td>\n",
       "      <td>0.037190</td>\n",
       "      <td>0.120737</td>\n",
       "      <td>0.238811</td>\n",
       "    </tr>\n",
       "    <tr>\n",
       "      <th>170</th>\n",
       "      <td>hip83043</td>\n",
       "      <td>0.253872</td>\n",
       "      <td>0.275242</td>\n",
       "      <td>0.297103</td>\n",
       "      <td>1.132498</td>\n",
       "      <td>0.071290</td>\n",
       "      <td>0.174831</td>\n",
       "      <td>0.275399</td>\n",
       "    </tr>\n",
       "    <tr>\n",
       "      <th>176</th>\n",
       "      <td>37124</td>\n",
       "      <td>0.622838</td>\n",
       "      <td>0.658914</td>\n",
       "      <td>0.692695</td>\n",
       "      <td>2.670433</td>\n",
       "      <td>0.054732</td>\n",
       "      <td>0.164653</td>\n",
       "      <td>0.284938</td>\n",
       "    </tr>\n",
       "  </tbody>\n",
       "</table>\n",
       "</div>"
      ],
      "text/plain": [
       "     hostname  mass_minus   mass_med  mass_plus   axis_med   e_minus  \\\n",
       "3      107148    0.052812   0.062632   0.072330   0.140635  0.180533   \n",
       "27     136925    0.885964   1.076818   1.281420   4.680605  0.367470   \n",
       "29     141004    0.038372   0.042840   0.047503   0.123790  0.059317   \n",
       "37     145675    4.811323   5.841370   7.203498  16.426313  0.303072   \n",
       "51     164922    0.012793   0.014872   0.016945   0.102329  0.055199   \n",
       "59     170469    0.482555   0.554716   0.629851   2.212173  0.048397   \n",
       "61     177830    0.089411   0.104277   0.120063   0.496229  0.389725   \n",
       "73     192310    0.039094   0.045073   0.051469   0.326237  0.047769   \n",
       "77     213472    2.885000   3.479000   4.553000  12.990000  0.444000   \n",
       "78     216520    0.028835   0.032621   0.036213   0.195377  0.067118   \n",
       "87     219134    0.009821   0.011232   0.012608   0.064659  0.051075   \n",
       "91      24040    0.174145   0.201119   0.228269   1.300008  0.032111   \n",
       "94     285968    0.024187   0.028531   0.032841   0.066490  0.053657   \n",
       "95      31253    0.383296   0.445807   0.508966   1.295621  0.275216   \n",
       "99      34445    0.144788   0.166367   0.188502   0.726717  0.073101   \n",
       "100     34445    0.100368   0.114473   0.129095   0.486722  0.148526   \n",
       "101     34445    0.055254   0.064727   0.075415   0.272246  0.179638   \n",
       "108      4203    2.441611   2.681533   3.667077   7.784331  0.100875   \n",
       "111     45184    0.033650   0.037449   0.041464   0.064122  0.083647   \n",
       "112     45184    0.028612   0.034463   0.040153   0.109533  0.246258   \n",
       "121     66428    9.784151  27.244769  48.999393  23.023208  0.167421   \n",
       "123     68988   13.433975  14.966295  17.815117  13.151161  0.372318   \n",
       "137      7924    0.017148   0.019180   0.021307   0.153170  0.066189   \n",
       "142     86728    0.024338   0.028879   0.033507   0.198213  0.038885   \n",
       "144     90156    0.031036   0.037047   0.043210   0.250846  0.046611   \n",
       "149     95128    1.339077   1.514869   1.738369  13.782922  0.229270   \n",
       "150     95735    0.048441   0.056769   0.065833   3.104151  0.042478   \n",
       "153     97101    0.028384   0.032219   0.036473   0.240303  0.146085   \n",
       "166  hip57050    0.230524   0.259932   0.289674   0.930202  0.100038   \n",
       "169  hip74995    0.013737   0.015934   0.018093   0.073581  0.037190   \n",
       "170  hip83043    0.253872   0.275242   0.297103   1.132498  0.071290   \n",
       "176     37124    0.622838   0.658914   0.692695   2.670433  0.054732   \n",
       "\n",
       "        e_med    e_plus  \n",
       "3    0.335719  0.470649  \n",
       "27   0.680105  0.750475  \n",
       "29   0.163534  0.273011  \n",
       "37   0.452164  0.619581  \n",
       "51   0.180095  0.349462  \n",
       "59   0.154503  0.312677  \n",
       "61   0.539209  0.660149  \n",
       "73   0.141149  0.262648  \n",
       "77   0.529000  0.649000  \n",
       "78   0.187106  0.314167  \n",
       "87   0.159784  0.283953  \n",
       "91   0.111044  0.233157  \n",
       "94   0.163448  0.299084  \n",
       "95   0.440430  0.559104  \n",
       "99   0.174406  0.280003  \n",
       "100  0.257892  0.379580  \n",
       "101  0.354213  0.544104  \n",
       "108  0.190164  0.480939  \n",
       "111  0.184753  0.284891  \n",
       "112  0.484646  0.664791  \n",
       "121  0.324164  0.556626  \n",
       "123  0.453138  0.587606  \n",
       "137  0.168675  0.271601  \n",
       "142  0.132257  0.288696  \n",
       "144  0.155711  0.331646  \n",
       "149  0.383690  0.547707  \n",
       "150  0.137213  0.296278  \n",
       "153  0.276135  0.403782  \n",
       "166  0.266747  0.404906  \n",
       "169  0.120737  0.238811  \n",
       "170  0.174831  0.275399  \n",
       "176  0.164653  0.284938  "
      ]
     },
     "execution_count": 196,
     "metadata": {},
     "output_type": "execute_result"
    }
   ],
   "source": [
    "#planets.query('e > 0.6')[['hostname', 'mass_med', 'e_minus', 'e_med', 'e_plus']]\n",
    "#planets.query('axis_med > 10')[['hostname', 'mass_minus', 'mass_med', 'mass_plus', \n",
    "#                                'axis_med', 'e_minus', 'e_med', 'e_plus']]\n",
    "planets.query('e_plus - e_minus > 0.2')[['hostname', 'mass_minus', 'mass_med', 'mass_plus', \n",
    "                                         'axis_med', 'e_minus', 'e_med', 'e_plus']]"
   ]
  },
  {
   "cell_type": "markdown",
   "metadata": {},
   "source": [
    "## Make observational stats histograms."
   ]
  },
  {
   "cell_type": "code",
   "execution_count": 9,
   "metadata": {},
   "outputs": [
    {
     "data": {
      "text/plain": [
       "Index(['Unnamed: 0', 'Nobs', 'Nobs_CORAVEL', 'Nobs_apf', 'Nobs_j', 'Nobs_k',\n",
       "       'Nobs_lick', 'Nobs_mcdonald', 'baseline', 'baseline_CORAVEL',\n",
       "       'baseline_apf', 'baseline_j', 'baseline_k', 'baseline_lick',\n",
       "       'baseline_mcdonald', 'med_err_CORAVEL', 'med_err_apf', 'med_err_j',\n",
       "       'med_err_k', 'med_err_lick', 'med_err_mcdonald', 'name'],\n",
       "      dtype='object')"
      ]
     },
     "execution_count": 9,
     "metadata": {},
     "output_type": "execute_result"
    }
   ],
   "source": [
    "obs_stats = pd.read_csv('legacy_tables/observation_stats.csv')\n",
    "obs_stats = obs_stats.query('baseline > 2922 and Nobs > 17')\n",
    "obs_stats.columns"
   ]
  },
  {
   "cell_type": "code",
   "execution_count": 10,
   "metadata": {},
   "outputs": [
    {
     "data": {
      "text/plain": [
       "59210.0"
      ]
     },
     "execution_count": 10,
     "metadata": {},
     "output_type": "execute_result"
    }
   ],
   "source": [
    "np.sum(obs_stats.Nobs_apf) + np.sum(obs_stats.Nobs_j) + \\\n",
    "    np.sum(obs_stats.Nobs_k) + np.sum(obs_stats.Nobs_lick)"
   ]
  },
  {
   "cell_type": "code",
   "execution_count": 75,
   "metadata": {},
   "outputs": [
    {
     "name": "stdout",
     "output_type": "stream",
     "text": [
      "1.0 44.0\n"
     ]
    },
    {
     "data": {
      "image/png": "[encoded data removed]",
      "text/plain": [
       "<Figure size 432x288 with 2 Axes>"
      ]
     },
     "metadata": {
      "needs_background": "light"
     },
     "output_type": "display_data"
    }
   ],
   "source": [
    "fig, ax = plt.subplots()\n",
    "\n",
    "logobs   = np.log10(obs_stats.Nobs)\n",
    "baseyear = obs_stats.baseline/365.25\n",
    "#extent=(8.5, 35, 16, 630)\n",
    "minobs  = np.amin(logobs)\n",
    "maxobs  = np.amax(logobs)\n",
    "minbase = np.amin(baseyear)\n",
    "maxbase = np.amax(baseyear)\n",
    "hard_extent = (minbase-2, maxbase+2, minobs-0.07, maxobs+0.06)\n",
    "\n",
    "hb = ax.hexbin(baseyear, logobs, gridsize=15, bins='log', \n",
    "               extent=hard_extent, vmin=1, vmax=44,\n",
    "               cmap='inferno', mincnt=1)\n",
    "print(np.amin(hb.get_array()), np.amax(hb.get_array()))\n",
    "\n",
    "matplotlib.rcParams.update({'font.size': 12})\n",
    "ax.set_title(\"All stars\")\n",
    "ax.set_xlabel('Baseline (yr)')\n",
    "ax.set_ylabel(r'N$_\\mathrm{obs}$')\n",
    "\n",
    "median_base = np.median(baseyear)\n",
    "median_obs  = np.log10(np.median(obs_stats.Nobs))\n",
    "ax.scatter([median_base], [median_obs], color='white', \n",
    "           s=500, alpha='0.6')\n",
    "\n",
    "# Manually set Nobs logarithmic tick marks.\n",
    "\n",
    "def format_fn(tick_val, tick_pos):\n",
    "    return str(int(10**tick_val))\n",
    "\n",
    "#ax.locator_params(axis='y', nbins=1)\n",
    "ax.yaxis.set_major_formatter(FuncFormatter(format_fn))\n",
    "ax.yaxis.set_major_locator(MaxNLocator(integer=True))\n",
    "\n",
    "formatter = LogFormatter(10, labelOnlyBase=False) \n",
    "cb = fig.colorbar(hb, ax=ax, format=formatter)\n",
    "cb.set_label('Number of stars')\n",
    "fig.savefig('legacy_tables/hist_base_nobs_2D.pdf')"
   ]
  },
  {
   "cell_type": "markdown",
   "metadata": {},
   "source": [
    "## Make same plot for stars with planets."
   ]
  },
  {
   "cell_type": "code",
   "execution_count": 16,
   "metadata": {},
   "outputs": [],
   "source": [
    "plnames = np.unique(objects_good.hostname)\n",
    "obs_known = obs_stats.loc[obs_stats['name'].isin(plnames)]\n",
    "obs_none = obs_stats.loc[~obs_stats['name'].isin(plnames)]"
   ]
  },
  {
   "cell_type": "code",
   "execution_count": 17,
   "metadata": {},
   "outputs": [
    {
     "data": {
      "text/plain": [
       "156"
      ]
     },
     "execution_count": 17,
     "metadata": {},
     "output_type": "execute_result"
    }
   ],
   "source": [
    "len(obs_known)"
   ]
  },
  {
   "cell_type": "code",
   "execution_count": 74,
   "metadata": {},
   "outputs": [
    {
     "data": {
      "image/png": "[encoded data removed]",
      "text/plain": [
       "<Figure size 432x288 with 2 Axes>"
      ]
     },
     "metadata": {
      "needs_background": "light"
     },
     "output_type": "display_data"
    }
   ],
   "source": [
    "fig, ax = plt.subplots()\n",
    "hb = ax.hexbin(obs_known.baseline/365.25, np.log10(obs_known.Nobs), \n",
    "               extent=hard_extent, vmin=1, vmax=44,\n",
    "               gridsize=15, bins='log', \n",
    "               cmap='inferno', mincnt=1)\n",
    "ax.set_title(\"Stars with detections\")\n",
    "ax.set_xlabel('Baseline (yr)')\n",
    "ax.set_ylabel(r'N$_\\mathrm{obs}$')\n",
    "\n",
    "median_base = np.median(obs_known.baseline/365.25)\n",
    "median_obs  = np.log10(np.median(obs_known.Nobs))\n",
    "ax.scatter([median_base], [median_obs], color='white', \n",
    "           s=500, alpha='0.6')\n",
    "\n",
    "# Manually set Nobs logarithmic tick marks.\n",
    "def format_fn(tick_val, tick_pos):\n",
    "    return str(int(10**tick_val))\n",
    "ax.yaxis.set_major_formatter(FuncFormatter(format_fn))\n",
    "ax.yaxis.set_major_locator(MaxNLocator(integer=True))\n",
    "\n",
    "# Make a colorbar.\n",
    "formatter = LogFormatter(10, labelOnlyBase=True, minor_thresholds=(0, 0))#, style='plain') \n",
    "cb        = fig.colorbar(hb, ax=ax, format=formatter)#ticks=[1, 10], \n",
    "#cb.ax.set_yticklabels(['1', '10'])\n",
    "#cb.set_ticks([1,2,3,4,6])\n",
    "#cb.set_ticklabels(['1', '2', '3', '4', '6'])\n",
    "cb.set_label('Number of stars')\n",
    "\n",
    "fig.savefig('legacy_tables/hist_base_nobs_2D_planets.pdf')"
   ]
  },
  {
   "cell_type": "code",
   "execution_count": 82,
   "metadata": {},
   "outputs": [
    {
     "name": "stdout",
     "output_type": "stream",
     "text": [
      "47.0 76.5 40.0\n"
     ]
    }
   ],
   "source": [
    "print(np.median(obs_stats.Nobs), np.median(obs_known.Nobs), np.median(obs_none.Nobs))"
   ]
  },
  {
   "cell_type": "code",
   "execution_count": 73,
   "metadata": {},
   "outputs": [
    {
     "data": {
      "image/png": "[encoded data removed]",
      "text/plain": [
       "<Figure size 432x288 with 2 Axes>"
      ]
     },
     "metadata": {
      "needs_background": "light"
     },
     "output_type": "display_data"
    }
   ],
   "source": [
    "fig, ax = plt.subplots()\n",
    "hb = ax.hexbin(obs_none.baseline/365.25, np.log10(obs_none.Nobs), \n",
    "               extent=hard_extent, vmin=1, vmax=44,\n",
    "               gridsize=15, bins='log', \n",
    "               cmap='inferno', mincnt=1)\n",
    "ax.set_title(\"Stars without detections\")\n",
    "ax.set_xlabel('Baseline (yr)')\n",
    "ax.set_ylabel(r'N$_\\mathrm{obs}$')\n",
    "\n",
    "median_base = np.median(obs_none.baseline/365.25)\n",
    "median_obs  = np.log10(np.median(obs_none.Nobs))\n",
    "ax.scatter([median_base], [median_obs], color='white', \n",
    "           s=500, alpha='0.6')\n",
    "\n",
    "# Manually set Nobs logarithmic tick marks.\n",
    "def format_fn(tick_val, tick_pos):\n",
    "    return str(int(10**tick_val))\n",
    "ax.yaxis.set_major_formatter(FuncFormatter(format_fn))\n",
    "ax.yaxis.set_major_locator(MaxNLocator(integer=True))\n",
    "\n",
    "formatter = LogFormatter(10, labelOnlyBase=False) \n",
    "cb = fig.colorbar(hb, ax=ax, format=formatter)\n",
    "cb.set_label('Number of stars')\n",
    "fig.savefig('legacy_tables/hist_base_nobs_2D_none.pdf')"
   ]
  },
  {
   "cell_type": "markdown",
   "metadata": {},
   "source": [
    "## Examine mass and period distributions."
   ]
  },
  {
   "cell_type": "code",
   "execution_count": 53,
   "metadata": {},
   "outputs": [
    {
     "data": {
      "image/png": "[encoded data removed]",
      "text/plain": [
       "<Figure size 432x288 with 1 Axes>"
      ]
     },
     "metadata": {
      "needs_background": "light"
     },
     "output_type": "display_data"
    }
   ],
   "source": [
    "fig, ax = plt.subplots()\n",
    "ax.hist(np.log10(masses_planet.query('mass < 15')['mass']), \n",
    "        bins=10, density=False, histtype='step',# range = (0, 1), \n",
    "        lw=3, color='black', alpha=1, label='All Planets')\n",
    "\n",
    "matplotlib.rcParams.update({'font.size': 11})\n",
    "ax.set(xlabel=r'$M\\mathrm{sin}i/M_J$', \n",
    "          ylabel='Number density')\n",
    "matplotlib.rcParams.update({'font.size': 11})\n",
    "#ax.set_title(r'$M$sin$i$ > 0.1 $M_J$, a > 0.1 AU')\n",
    "        \n",
    "def format_fn(tick_val, tick_pos):\n",
    "    return str(10**tick_val)\n",
    "    #return str(int(10**tick_val))\n",
    "ax.xaxis.set_major_formatter(FuncFormatter(format_fn))\n",
    "ax.xaxis.set_major_locator(MaxNLocator(integer=True))   \n",
    "matplotlib.rcParams.update({'font.size': 11})\n",
    "ax.legend(loc=2)\n",
    "\n",
    "fig.savefig('planet_candidates/mass_histogram_all.png', dpi=1000)"
   ]
  },
  {
   "cell_type": "code",
   "execution_count": 88,
   "metadata": {},
   "outputs": [],
   "source": [
    "masses_close = masses_planet.query('axis < 1 and mass < 15')\n",
    "masses_mid   = masses_planet.query('axis > 1 and axis < 3 and mass < 15')\n",
    "masses_far   = masses_planet.query('axis > 3 and mass < 15')"
   ]
  },
  {
   "cell_type": "code",
   "execution_count": 90,
   "metadata": {},
   "outputs": [
    {
     "data": {
      "image/png": "[encoded data removed]",
      "text/plain": [
       "<Figure size 432x288 with 1 Axes>"
      ]
     },
     "metadata": {
      "needs_background": "light"
     },
     "output_type": "display_data"
    }
   ],
   "source": [
    "mclose = masses_close.mass\n",
    "#thresh_close = np.log10(0.075) #50% completeness threshold\n",
    "\n",
    "fig, ax = plt.subplots()\n",
    "ax.hist(np.log10(mclose), bins=10, density=True, histtype='step',\n",
    "        lw=3, color='black', alpha=1, label='a < 1 AU')\n",
    "\n",
    "matplotlib.rcParams.update({'font.size': 11})\n",
    "ax.set(xlabel=r'$M\\mathrm{sin}i\\ (M_J)$', \n",
    "          ylabel='Number density')\n",
    "matplotlib.rcParams.update({'font.size': 11})\n",
    "#ax.set_title(r'$M$sin$i$ > 0.1 $M_J$, a > 0.1 AU')\n",
    "        \n",
    "def format_fn(tick_val, tick_pos):\n",
    "    return str(10**tick_val)\n",
    "    #return str(int(10**tick_val))\n",
    "ax.xaxis.set_major_formatter(FuncFormatter(format_fn))\n",
    "ax.xaxis.set_major_locator(MaxNLocator(integer=True))   \n",
    "matplotlib.rcParams.update({'font.size': 11})\n",
    "ax.legend(loc=1)\n",
    "\n",
    "fig.savefig('planet_candidates/close_histogram.png', dpi=1000)"
   ]
  },
  {
   "cell_type": "code",
   "execution_count": 17,
   "metadata": {},
   "outputs": [
    {
     "data": {
      "image/png": "[encoded data removed]",
      "text/plain": [
       "<Figure size 432x288 with 1 Axes>"
      ]
     },
     "metadata": {
      "needs_background": "light"
     },
     "output_type": "display_data"
    }
   ],
   "source": [
    "mmid = masses_mid.mass\n",
    "thresh_mid = np.log10(0.15) #50% completeness threshold\n",
    "\n",
    "fig, ax = plt.subplots()\n",
    "ax.hist(np.log10(mmid), bins=10, density=True, histtype='step',\n",
    "        lw=3, color='black', alpha=1, label='1 AU < a < 3 AU')\n",
    "\n",
    "matplotlib.rcParams.update({'font.size': 11})\n",
    "ax.set(xlabel=r'$M\\mathrm{sin}i\\ (M_J)$', \n",
    "          ylabel='Number density')\n",
    "matplotlib.rcParams.update({'font.size': 11})\n",
    "        \n",
    "def format_fn(tick_val, tick_pos):\n",
    "    return str(10**tick_val)\n",
    "    #return str(int(10**tick_val))\n",
    "ax.xaxis.set_major_formatter(FuncFormatter(format_fn))\n",
    "ax.xaxis.set_major_locator(MaxNLocator(integer=True))   \n",
    "matplotlib.rcParams.update({'font.size': 11})\n",
    "ax.legend(loc=2)\n",
    "\n",
    "fig.savefig('planet_candidates/mid_histogram.png', dpi=1000)"
   ]
  },
  {
   "cell_type": "code",
   "execution_count": 18,
   "metadata": {},
   "outputs": [
    {
     "data": {
      "image/png": "[encoded data removed]",
      "text/plain": [
       "<Figure size 432x288 with 1 Axes>"
      ]
     },
     "metadata": {
      "needs_background": "light"
     },
     "output_type": "display_data"
    }
   ],
   "source": [
    "mfar = masses_far.mass\n",
    "thresh_far = np.log10(1.2) #50% completeness threshold\n",
    "\n",
    "fig, ax = plt.subplots()\n",
    "ax.hist(np.log10(mfar), bins=10, density=True, histtype='step',\n",
    "        lw=3, color='black', alpha=1, label='a > 3 AU')\n",
    "\n",
    "matplotlib.rcParams.update({'font.size': 11})\n",
    "ax.set(xlabel=r'$M\\mathrm{sin}i\\ (M_J)$', \n",
    "          ylabel='Number density')\n",
    "matplotlib.rcParams.update({'font.size': 11})\n",
    "        \n",
    "def format_fn(tick_val, tick_pos):\n",
    "    return str(10**tick_val)\n",
    "    #return str(int(10**tick_val))\n",
    "ax.xaxis.set_major_formatter(FuncFormatter(format_fn))\n",
    "ax.xaxis.set_major_locator(MaxNLocator(integer=True))   \n",
    "matplotlib.rcParams.update({'font.size': 11})\n",
    "ax.legend(loc=2)\n",
    "\n",
    "fig.savefig('planet_candidates/far_histogram.png', dpi=1000)"
   ]
  },
  {
   "cell_type": "markdown",
   "metadata": {},
   "source": [
    "## Make distributions of periods and period ratios."
   ]
  },
  {
   "cell_type": "code",
   "execution_count": 48,
   "metadata": {},
   "outputs": [
    {
     "data": {
      "image/png": "[encoded data removed]",
      "text/plain": [
       "<Figure size 432x288 with 1 Axes>"
      ]
     },
     "metadata": {
      "needs_background": "light"
     },
     "output_type": "display_data"
    }
   ],
   "source": [
    "fig, ax = plt.subplots()\n",
    "ax.hist(np.log10(masses_planet.per), bins=10, density=True, histtype='step',\n",
    "        lw=3, color='black', alpha=1)#, label='1 AU < a < 3 AU')\n",
    "\n",
    "matplotlib.rcParams.update({'font.size': 18})\n",
    "ax.set(xlabel=r'$P$ (days)', \n",
    "          ylabel='Number density')\n",
    "matplotlib.rcParams.update({'font.size': 18})\n",
    "        \n",
    "def format_fn(tick_val, tick_pos):\n",
    "    #return str(10**tick_val)\n",
    "    return str(int(10**tick_val))\n",
    "ax.xaxis.set_major_formatter(FuncFormatter(format_fn))\n",
    "ax.xaxis.set_major_locator(MaxNLocator(integer=True))   \n",
    "matplotlib.rcParams.update({'font.size': 16})\n",
    "#ax.legend(loc=2)\n",
    "\n",
    "fig.savefig('planet_candidates/per_histogram.png', dpi=1000)"
   ]
  },
  {
   "cell_type": "code",
   "execution_count": 133,
   "metadata": {},
   "outputs": [],
   "source": [
    "def period_ratios(pers):\n",
    "    ratios = []\n",
    "    nplanets = len(pers)\n",
    "    sorted = np.sort(pers)\n",
    "    for i in np.arange(nplanets):\n",
    "        for j in np.arange(i):\n",
    "            ratios.append(sorted[i]/sorted[j])\n",
    "    return ratios"
   ]
  },
  {
   "cell_type": "code",
   "execution_count": 134,
   "metadata": {},
   "outputs": [],
   "source": [
    "systems = masses_planet.hostname.unique()"
   ]
  },
  {
   "cell_type": "code",
   "execution_count": 135,
   "metadata": {},
   "outputs": [],
   "source": [
    "all_ratios = []\n",
    "for system in systems:\n",
    "    sys_db = masses_planet.query('hostname == \"{}\"'.format(system))#    .loc[masses_planet.hostname == system]\n",
    "    if len(sys_db) > 1:\n",
    "        sys_ratios = period_ratios(sys_db.per)\n",
    "        all_ratios.append(sys_ratios)\n",
    "all_ratios = np.concatenate(all_ratios)"
   ]
  },
  {
   "cell_type": "code",
   "execution_count": 136,
   "metadata": {},
   "outputs": [
    {
     "data": {
      "image/png": "[encoded data removed]",
      "text/plain": [
       "<Figure size 432x288 with 1 Axes>"
      ]
     },
     "metadata": {
      "needs_background": "light"
     },
     "output_type": "display_data"
    }
   ],
   "source": [
    "# Only use ratios below 20.\n",
    "filtered_ratios = np.extract(all_ratios < 20, all_ratios)\n",
    "axper = sns.distplot(filtered_ratios, rug=True)\n",
    "axper.set_xlim([0,25])\n",
    "axper.set(xlabel='Period ratio', ylabel='Number density')\n",
    "axper.set_title('System period ratios (< 20)')\n",
    "\n",
    "figper = axper.get_figure()\n",
    "figper.savefig('planet_candidates/period_ratio_histogram.pdf')"
   ]
  },
  {
   "cell_type": "markdown",
   "metadata": {},
   "source": [
    "## Do some preliminary work on giant multis."
   ]
  },
  {
   "cell_type": "code",
   "execution_count": 31,
   "metadata": {},
   "outputs": [],
   "source": [
    "planets_big_all   = masses_planet.query('mass > 0.1')\n",
    "planets_small_all = masses_planet.query('mass <= 0.1')\n",
    "\n",
    "names_big_all = np.unique(planets_big_all.hostname)\n",
    "nplanets_big_all = np.array(planets_big_all.groupby('hostname').count()['status'])\n",
    "db_nplanets_big_all = pd.DataFrame({'hostname':names_big_all, 'nplanets':nplanets_big_all})\n",
    "\n",
    "names_small_all = np.unique(planets_small_all.hostname)\n",
    "nplanets_small_all = np.array(planets_small_all.groupby('hostname').count()['status'])\n",
    "db_nplanets_small_all = pd.DataFrame({'hostname':names_small_all, 'nplanets':nplanets_small_all})\n",
    "\n",
    "# Do same nplanets thingy for all planets, no mass cuts.\n",
    "names_all = np.unique(masses_planet.hostname)\n",
    "nplanets_all = np.array(masses_planet.groupby('hostname').count()['status'])\n",
    "db_nplanets_all = pd.DataFrame({'hostname':names_all, 'nplanets':nplanets_all})\n",
    "\n",
    "planets_all       = pd.merge(masses_planet, db_nplanets_all, on='hostname').reset_index()\n",
    "planets_big_all   = pd.merge(planets_big_all, db_nplanets_big_all, on='hostname').reset_index()\n",
    "planets_small_all = pd.merge(planets_small_all, db_nplanets_small_all, on='hostname').reset_index()\n",
    "\n",
    "db_nplanets_all       = None\n",
    "db_nplanets_big_all   = None\n",
    "db_nplanets_small_all = None"
   ]
  },
  {
   "cell_type": "code",
   "execution_count": 32,
   "metadata": {},
   "outputs": [],
   "source": [
    "planets_big_multi_all = planets_big_all.query('nplanets > 1')\n",
    "planets_multi_all     = planets_all.query('nplanets > 1')"
   ]
  },
  {
   "cell_type": "code",
   "execution_count": 33,
   "metadata": {},
   "outputs": [
    {
     "data": {
      "text/html": [
       "<div>\n",
       "<style scoped>\n",
       "    .dataframe tbody tr th:only-of-type {\n",
       "        vertical-align: middle;\n",
       "    }\n",
       "\n",
       "    .dataframe tbody tr th {\n",
       "        vertical-align: top;\n",
       "    }\n",
       "\n",
       "    .dataframe thead th {\n",
       "        text-align: right;\n",
       "    }\n",
       "</style>\n",
       "<table border=\"1\" class=\"dataframe\">\n",
       "  <thead>\n",
       "    <tr style=\"text-align: right;\">\n",
       "      <th></th>\n",
       "      <th>index</th>\n",
       "      <th>Unnamed: 0</th>\n",
       "      <th>hostname</th>\n",
       "      <th>status</th>\n",
       "      <th>mass</th>\n",
       "      <th>mass_med</th>\n",
       "      <th>mass_minus</th>\n",
       "      <th>mass_plus</th>\n",
       "      <th>axis</th>\n",
       "      <th>axis_med</th>\n",
       "      <th>...</th>\n",
       "      <th>per_plus</th>\n",
       "      <th>k</th>\n",
       "      <th>k_med</th>\n",
       "      <th>k_minus</th>\n",
       "      <th>k_plus</th>\n",
       "      <th>e</th>\n",
       "      <th>e_med</th>\n",
       "      <th>e_minus</th>\n",
       "      <th>e_plus</th>\n",
       "      <th>nplanets</th>\n",
       "    </tr>\n",
       "  </thead>\n",
       "  <tbody>\n",
       "    <tr>\n",
       "      <th>53</th>\n",
       "      <td>53</td>\n",
       "      <td>105</td>\n",
       "      <td>187123</td>\n",
       "      <td>K</td>\n",
       "      <td>0.506373</td>\n",
       "      <td>0.506559</td>\n",
       "      <td>0.486685</td>\n",
       "      <td>0.526043</td>\n",
       "      <td>0.042075</td>\n",
       "      <td>0.042076</td>\n",
       "      <td>...</td>\n",
       "      <td>3.096599</td>\n",
       "      <td>68.949742</td>\n",
       "      <td>68.975676</td>\n",
       "      <td>68.706070</td>\n",
       "      <td>69.243043</td>\n",
       "      <td>0.004495</td>\n",
       "      <td>0.003601</td>\n",
       "      <td>0.001081</td>\n",
       "      <td>0.007340</td>\n",
       "      <td>2</td>\n",
       "    </tr>\n",
       "    <tr>\n",
       "      <th>65</th>\n",
       "      <td>65</td>\n",
       "      <td>140</td>\n",
       "      <td>217107</td>\n",
       "      <td>K</td>\n",
       "      <td>1.431095</td>\n",
       "      <td>1.431618</td>\n",
       "      <td>1.364445</td>\n",
       "      <td>1.496929</td>\n",
       "      <td>0.075125</td>\n",
       "      <td>0.075134</td>\n",
       "      <td>...</td>\n",
       "      <td>7.126882</td>\n",
       "      <td>141.846736</td>\n",
       "      <td>141.870364</td>\n",
       "      <td>141.604159</td>\n",
       "      <td>142.138018</td>\n",
       "      <td>0.128338</td>\n",
       "      <td>0.128082</td>\n",
       "      <td>0.126377</td>\n",
       "      <td>0.129803</td>\n",
       "      <td>2</td>\n",
       "    </tr>\n",
       "    <tr>\n",
       "      <th>113</th>\n",
       "      <td>113</td>\n",
       "      <td>249</td>\n",
       "      <td>9826</td>\n",
       "      <td>K</td>\n",
       "      <td>0.661731</td>\n",
       "      <td>0.661570</td>\n",
       "      <td>0.626295</td>\n",
       "      <td>0.696077</td>\n",
       "      <td>0.058421</td>\n",
       "      <td>0.058415</td>\n",
       "      <td>...</td>\n",
       "      <td>4.617128</td>\n",
       "      <td>69.685089</td>\n",
       "      <td>69.687528</td>\n",
       "      <td>68.988786</td>\n",
       "      <td>70.382609</td>\n",
       "      <td>0.006143</td>\n",
       "      <td>0.007490</td>\n",
       "      <td>0.002219</td>\n",
       "      <td>0.015544</td>\n",
       "      <td>3</td>\n",
       "    </tr>\n",
       "    <tr>\n",
       "      <th>131</th>\n",
       "      <td>131</td>\n",
       "      <td>300</td>\n",
       "      <td>68988</td>\n",
       "      <td>K</td>\n",
       "      <td>1.969198</td>\n",
       "      <td>1.970428</td>\n",
       "      <td>1.885562</td>\n",
       "      <td>2.053510</td>\n",
       "      <td>0.071213</td>\n",
       "      <td>0.071212</td>\n",
       "      <td>...</td>\n",
       "      <td>6.276428</td>\n",
       "      <td>192.104859</td>\n",
       "      <td>192.214938</td>\n",
       "      <td>191.571474</td>\n",
       "      <td>192.855609</td>\n",
       "      <td>0.157166</td>\n",
       "      <td>0.156755</td>\n",
       "      <td>0.153332</td>\n",
       "      <td>0.160005</td>\n",
       "      <td>2</td>\n",
       "    </tr>\n",
       "  </tbody>\n",
       "</table>\n",
       "<p>4 rows × 25 columns</p>\n",
       "</div>"
      ],
      "text/plain": [
       "     index  Unnamed: 0 hostname status      mass  mass_med  mass_minus  \\\n",
       "53      53         105   187123      K  0.506373  0.506559    0.486685   \n",
       "65      65         140   217107      K  1.431095  1.431618    1.364445   \n",
       "113    113         249     9826      K  0.661731  0.661570    0.626295   \n",
       "131    131         300    68988      K  1.969198  1.970428    1.885562   \n",
       "\n",
       "     mass_plus      axis  axis_med  ...  per_plus           k       k_med  \\\n",
       "53    0.526043  0.042075  0.042076  ...  3.096599   68.949742   68.975676   \n",
       "65    1.496929  0.075125  0.075134  ...  7.126882  141.846736  141.870364   \n",
       "113   0.696077  0.058421  0.058415  ...  4.617128   69.685089   69.687528   \n",
       "131   2.053510  0.071213  0.071212  ...  6.276428  192.104859  192.214938   \n",
       "\n",
       "        k_minus      k_plus         e     e_med   e_minus    e_plus  nplanets  \n",
       "53    68.706070   69.243043  0.004495  0.003601  0.001081  0.007340         2  \n",
       "65   141.604159  142.138018  0.128338  0.128082  0.126377  0.129803         2  \n",
       "113   68.988786   70.382609  0.006143  0.007490  0.002219  0.015544         3  \n",
       "131  191.571474  192.855609  0.157166  0.156755  0.153332  0.160005         2  \n",
       "\n",
       "[4 rows x 25 columns]"
      ]
     },
     "execution_count": 33,
     "metadata": {},
     "output_type": "execute_result"
    }
   ],
   "source": [
    "planets_big_multi_all.query('axis < 0.1')"
   ]
  },
  {
   "cell_type": "code",
   "execution_count": 34,
   "metadata": {},
   "outputs": [
    {
     "data": {
      "text/html": [
       "<div>\n",
       "<style scoped>\n",
       "    .dataframe tbody tr th:only-of-type {\n",
       "        vertical-align: middle;\n",
       "    }\n",
       "\n",
       "    .dataframe tbody tr th {\n",
       "        vertical-align: top;\n",
       "    }\n",
       "\n",
       "    .dataframe thead th {\n",
       "        text-align: right;\n",
       "    }\n",
       "</style>\n",
       "<table border=\"1\" class=\"dataframe\">\n",
       "  <thead>\n",
       "    <tr style=\"text-align: right;\">\n",
       "      <th></th>\n",
       "      <th>index</th>\n",
       "      <th>Unnamed: 0</th>\n",
       "      <th>hostname</th>\n",
       "      <th>status</th>\n",
       "      <th>mass</th>\n",
       "      <th>mass_med</th>\n",
       "      <th>mass_minus</th>\n",
       "      <th>mass_plus</th>\n",
       "      <th>axis</th>\n",
       "      <th>axis_med</th>\n",
       "      <th>...</th>\n",
       "      <th>per_plus</th>\n",
       "      <th>k</th>\n",
       "      <th>k_med</th>\n",
       "      <th>k_minus</th>\n",
       "      <th>k_plus</th>\n",
       "      <th>e</th>\n",
       "      <th>e_med</th>\n",
       "      <th>e_minus</th>\n",
       "      <th>e_plus</th>\n",
       "      <th>nplanets</th>\n",
       "    </tr>\n",
       "  </thead>\n",
       "  <tbody>\n",
       "    <tr>\n",
       "      <th>132</th>\n",
       "      <td>132</td>\n",
       "      <td>301</td>\n",
       "      <td>68988</td>\n",
       "      <td>K</td>\n",
       "      <td>16.389258</td>\n",
       "      <td>17.617583</td>\n",
       "      <td>15.124601</td>\n",
       "      <td>19.992019</td>\n",
       "      <td>14.353306</td>\n",
       "      <td>16.508762</td>\n",
       "      <td>...</td>\n",
       "      <td>32532.222445</td>\n",
       "      <td>126.453866</td>\n",
       "      <td>132.159067</td>\n",
       "      <td>120.845171</td>\n",
       "      <td>141.813569</td>\n",
       "      <td>0.475855</td>\n",
       "      <td>0.533665</td>\n",
       "      <td>0.424231</td>\n",
       "      <td>0.623832</td>\n",
       "      <td>2</td>\n",
       "    </tr>\n",
       "  </tbody>\n",
       "</table>\n",
       "<p>1 rows × 25 columns</p>\n",
       "</div>"
      ],
      "text/plain": [
       "     index  Unnamed: 0 hostname status       mass   mass_med  mass_minus  \\\n",
       "132    132         301    68988      K  16.389258  17.617583   15.124601   \n",
       "\n",
       "     mass_plus       axis   axis_med  ...      per_plus           k  \\\n",
       "132  19.992019  14.353306  16.508762  ...  32532.222445  126.453866   \n",
       "\n",
       "          k_med     k_minus      k_plus         e     e_med   e_minus  \\\n",
       "132  132.159067  120.845171  141.813569  0.475855  0.533665  0.424231   \n",
       "\n",
       "       e_plus  nplanets  \n",
       "132  0.623832         2  \n",
       "\n",
       "[1 rows x 25 columns]"
      ]
     },
     "execution_count": 34,
     "metadata": {},
     "output_type": "execute_result"
    }
   ],
   "source": [
    "planets_big_multi_all.query('hostname in [\"187123\", \"217107\", \"9826\", \"68988\"] and axis > 10')"
   ]
  },
  {
   "cell_type": "markdown",
   "metadata": {},
   "source": [
    "## P(HJ | Outer > 10 AU)"
   ]
  },
  {
   "cell_type": "code",
   "execution_count": 35,
   "metadata": {},
   "outputs": [
    {
     "data": {
      "text/plain": [
       "1      145675\n",
       "89      50499\n",
       "94      66428\n",
       "132     68988\n",
       "Name: hostname, dtype: object"
      ]
     },
     "execution_count": 35,
     "metadata": {},
     "output_type": "execute_result"
    }
   ],
   "source": [
    "planets_outer = planets_big_multi_all.query('axis > 10')\n",
    "planets_outer.hostname"
   ]
  },
  {
   "cell_type": "code",
   "execution_count": 42,
   "metadata": {},
   "outputs": [
    {
     "name": "stdout",
     "output_type": "stream",
     "text": [
      "0.25 +\\- 0.25\n"
     ]
    }
   ],
   "source": [
    "prob_outer = len(planets_big_multi_all.query('hostname in @planets_outer.hostname \\\n",
    "                 and axis < 0.1'))/float(len(planets_outer))\n",
    "sig_outer = np.sqrt(float(len(planets_big_multi_all.query('hostname in @planets_outer.hostname \\\n",
    "                    and axis < 0.1')))) / len(planets_outer)\n",
    "print(prob_outer, '+\\-', sig_outer)"
   ]
  },
  {
   "cell_type": "markdown",
   "metadata": {},
   "source": [
    "## P(HJ | 10 AU > Outer > 4.64 AU)"
   ]
  },
  {
   "cell_type": "code",
   "execution_count": 44,
   "metadata": {},
   "outputs": [
    {
     "data": {
      "text/plain": [
       "15        114783\n",
       "26        134987\n",
       "37        156279\n",
       "51        183263\n",
       "66        217107\n",
       "71         24040\n",
       "83          4203\n",
       "99         75732\n",
       "107        92788\n",
       "121        gl317\n",
       "123    hip109388\n",
       "Name: hostname, dtype: object"
      ]
     },
     "execution_count": 44,
     "metadata": {},
     "output_type": "execute_result"
    }
   ],
   "source": [
    "planets_med = planets_big_multi_all.query('axis < 10 and axis > 4.64')\n",
    "planets_med.hostname"
   ]
  },
  {
   "cell_type": "code",
   "execution_count": 46,
   "metadata": {},
   "outputs": [
    {
     "name": "stdout",
     "output_type": "stream",
     "text": [
      "0.09090909090909091 +\\- 0.09090909090909091\n"
     ]
    }
   ],
   "source": [
    "prob_med = len(planets_big_multi_all.query('hostname in @planets_med.hostname \\\n",
    "               and axis < 0.1'))/float(len(planets_med))\n",
    "sig_med = np.sqrt(len(planets_big_multi_all.query('hostname in @planets_med.hostname \\\n",
    "                  and axis < 0.1')))/float(len(planets_med))\n",
    "print(prob_med, '+\\-', sig_med)"
   ]
  },
  {
   "cell_type": "markdown",
   "metadata": {},
   "source": [
    "## P(HJ | 4.64 AU > Outer > 2.15 AU)"
   ]
  },
  {
   "cell_type": "code",
   "execution_count": 47,
   "metadata": {},
   "outputs": [
    {
     "data": {
      "text/plain": [
       "0         145675\n",
       "10        108874\n",
       "20         12661\n",
       "32        141399\n",
       "43        168443\n",
       "46        169830\n",
       "54        187123\n",
       "79         38529\n",
       "88         50499\n",
       "92         52265\n",
       "93         66428\n",
       "96         74156\n",
       "111        95128\n",
       "115         9826\n",
       "122    hip109388\n",
       "130        37124\n",
       "Name: hostname, dtype: object"
      ]
     },
     "execution_count": 47,
     "metadata": {},
     "output_type": "execute_result"
    }
   ],
   "source": [
    "planets_inner = planets_big_multi_all.query('axis < 4.64 and axis > 2.15')\n",
    "planets_inner.hostname"
   ]
  },
  {
   "cell_type": "code",
   "execution_count": 48,
   "metadata": {},
   "outputs": [
    {
     "name": "stdout",
     "output_type": "stream",
     "text": [
      "0.18181818181818182 +\\- 0.128564869306645\n"
     ]
    }
   ],
   "source": [
    "prob_inner = len(planets_big_multi_all.query('hostname in @planets_inner.hostname \\\n",
    "                 and axis < 0.1'))/float(len(planets_med))\n",
    "sig_inner = np.sqrt(len(planets_big_multi_all.query('hostname in @planets_inner.hostname \\\n",
    "                 and axis < 0.1')))/float(len(planets_med))\n",
    "print(prob_inner, '+\\-', sig_inner)"
   ]
  },
  {
   "cell_type": "markdown",
   "metadata": {},
   "source": [
    "## Hot Jupiter Occurrence."
   ]
  },
  {
   "cell_type": "code",
   "execution_count": 19,
   "metadata": {},
   "outputs": [
    {
     "name": "stdout",
     "output_type": "stream",
     "text": [
      "14 0.019498607242339833 +/- 0.00520397411234206\n"
     ]
    }
   ],
   "source": [
    "hot_jupiters = planets.query('per < 10 and mass > 0.1 and hostname != \"102195\"')\n",
    "nhot = len(hot_jupiters)\n",
    "nstars = len(specmatch)\n",
    "print(nhot, nhot/(nstars - 1), '+/-', np.sqrt(nhot)/nstars)"
   ]
  },
  {
   "cell_type": "code",
   "execution_count": 85,
   "metadata": {},
   "outputs": [
    {
     "data": {
      "text/plain": [
       "13"
      ]
     },
     "execution_count": 85,
     "metadata": {},
     "output_type": "execute_result"
    }
   ],
   "source": [
    "nhot"
   ]
  },
  {
   "cell_type": "markdown",
   "metadata": {},
   "source": [
    "### Wright et al. finds 0.0120 +/- 0.0038. We find more Hot Jupiters, but our results are statistically consistent within ~1.5 sigma."
   ]
  },
  {
   "cell_type": "markdown",
   "metadata": {},
   "source": [
    "### Plot completeness contours."
   ]
  },
  {
   "cell_type": "code",
   "execution_count": 23,
   "metadata": {},
   "outputs": [],
   "source": [
    "cumming_20 = pd.read_csv('completeness_contours/cumming_20.csv', names=['logP', 'logM'])\n",
    "cumming_80 = pd.read_csv('completeness_contours/cumming_80.csv', names=['logP', 'logM'])\n",
    "mayor_20   = pd.read_csv('completeness_contours/mayor_20.csv', names=['logP', 'logM'])\n",
    "mayor_80   = pd.read_csv('completeness_contours/mayor_80.csv', names=['logP', 'logM'])"
   ]
  },
  {
   "cell_type": "code",
   "execution_count": 24,
   "metadata": {},
   "outputs": [
    {
     "data": {
      "text/html": [
       "<div>\n",
       "<style scoped>\n",
       "    .dataframe tbody tr th:only-of-type {\n",
       "        vertical-align: middle;\n",
       "    }\n",
       "\n",
       "    .dataframe tbody tr th {\n",
       "        vertical-align: top;\n",
       "    }\n",
       "\n",
       "    .dataframe thead th {\n",
       "        text-align: right;\n",
       "    }\n",
       "</style>\n",
       "<table border=\"1\" class=\"dataframe\">\n",
       "  <thead>\n",
       "    <tr style=\"text-align: right;\">\n",
       "      <th></th>\n",
       "      <th>logP</th>\n",
       "      <th>logM</th>\n",
       "    </tr>\n",
       "  </thead>\n",
       "  <tbody>\n",
       "    <tr>\n",
       "      <th>0</th>\n",
       "      <td>0.068881</td>\n",
       "      <td>-1.452504</td>\n",
       "    </tr>\n",
       "    <tr>\n",
       "      <th>1</th>\n",
       "      <td>0.142681</td>\n",
       "      <td>-1.435233</td>\n",
       "    </tr>\n",
       "    <tr>\n",
       "      <th>2</th>\n",
       "      <td>0.211562</td>\n",
       "      <td>-1.400691</td>\n",
       "    </tr>\n",
       "    <tr>\n",
       "      <th>3</th>\n",
       "      <td>0.275523</td>\n",
       "      <td>-1.369603</td>\n",
       "    </tr>\n",
       "    <tr>\n",
       "      <th>4</th>\n",
       "      <td>0.344403</td>\n",
       "      <td>-1.359240</td>\n",
       "    </tr>\n",
       "    <tr>\n",
       "      <th>...</th>\n",
       "      <td>...</td>\n",
       "      <td>...</td>\n",
       "    </tr>\n",
       "    <tr>\n",
       "      <th>69</th>\n",
       "      <td>3.842558</td>\n",
       "      <td>0.257340</td>\n",
       "    </tr>\n",
       "    <tr>\n",
       "      <th>70</th>\n",
       "      <td>3.891759</td>\n",
       "      <td>0.326425</td>\n",
       "    </tr>\n",
       "    <tr>\n",
       "      <th>71</th>\n",
       "      <td>3.916359</td>\n",
       "      <td>0.392055</td>\n",
       "    </tr>\n",
       "    <tr>\n",
       "      <th>72</th>\n",
       "      <td>3.950800</td>\n",
       "      <td>0.454231</td>\n",
       "    </tr>\n",
       "    <tr>\n",
       "      <th>73</th>\n",
       "      <td>3.985240</td>\n",
       "      <td>0.530225</td>\n",
       "    </tr>\n",
       "  </tbody>\n",
       "</table>\n",
       "<p>74 rows × 2 columns</p>\n",
       "</div>"
      ],
      "text/plain": [
       "        logP      logM\n",
       "0   0.068881 -1.452504\n",
       "1   0.142681 -1.435233\n",
       "2   0.211562 -1.400691\n",
       "3   0.275523 -1.369603\n",
       "4   0.344403 -1.359240\n",
       "..       ...       ...\n",
       "69  3.842558  0.257340\n",
       "70  3.891759  0.326425\n",
       "71  3.916359  0.392055\n",
       "72  3.950800  0.454231\n",
       "73  3.985240  0.530225\n",
       "\n",
       "[74 rows x 2 columns]"
      ]
     },
     "execution_count": 24,
     "metadata": {},
     "output_type": "execute_result"
    }
   ],
   "source": [
    "cumming_20"
   ]
  },
  {
   "cell_type": "code",
   "execution_count": 27,
   "metadata": {},
   "outputs": [
    {
     "data": {
      "image/png": "[encoded data removed]",
      "text/plain": [
       "<Figure size 432x288 with 1 Axes>"
      ]
     },
     "metadata": {
      "needs_background": "light"
     },
     "output_type": "display_data"
    }
   ],
   "source": [
    "fig, ax = plt.subplots()\n",
    "ax.plot(10**cumming_20.logP, 10**cumming_20.logM*317.8)\n",
    "ax.plot(10**mayor_20.logP, 10**mayor_20.logM)\n",
    "ax.set_xscale('log')\n",
    "ax.set_yscale('log')"
   ]
  }
 ],
 "metadata": {
  "kernelspec": {
   "display_name": "Python 3",
   "language": "python",
   "name": "python3"
  },
  "language_info": {
   "codemirror_mode": {
    "name": "ipython",
    "version": 3
   },
   "file_extension": ".py",
   "mimetype": "text/x-python",
   "name": "python",
   "nbconvert_exporter": "python",
   "pygments_lexer": "ipython3",
   "version": "3.7.5"
  }
 },
 "nbformat": 4,
 "nbformat_minor": 2
}
