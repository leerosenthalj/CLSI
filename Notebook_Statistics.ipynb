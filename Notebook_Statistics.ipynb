{
 "cells": [
  {
   "cell_type": "code",
   "execution_count": 1,
   "metadata": {},
   "outputs": [],
   "source": [
    "import pdb\n",
    "from math import log10, floor\n",
    "\n",
    "import numpy as np\n",
    "import scipy.optimize as op\n",
    "import scipy.special as spec\n",
    "from scipy import stats\n",
    "import pandas as pd\n",
    "\n",
    "import matplotlib\n",
    "import matplotlib.pyplot as plt\n",
    "from matplotlib.ticker import FuncFormatter, MaxNLocator\n",
    "import seaborn as sns\n",
    "import corner\n",
    "\n",
    "import astropy\n",
    "from astropy import stats as astrostats\n",
    "from astropy.timeseries import LombScargle\n",
    "\n",
    "import emcee\n",
    "import radvel\n",
    "\n",
    "%matplotlib inline"
   ]
  },
  {
   "cell_type": "markdown",
   "metadata": {},
   "source": [
    "# Assuming a polished list of known planets and candidates in the legacy sample, explore and visualize properties such as mass, host star metallicity, etc."
   ]
  },
  {
   "cell_type": "code",
   "execution_count": 2,
   "metadata": {},
   "outputs": [],
   "source": [
    "data = pd.read_csv('legacy_tables/system_props.csv')"
   ]
  },
  {
   "cell_type": "code",
   "execution_count": 3,
   "metadata": {},
   "outputs": [],
   "source": [
    "specmatch = pd.read_csv('/Users/lee/Academics/Astronomy/Planets/CLSI/legacy_tables/legacy_specmatch_medians.csv')\n",
    "smsyn = specmatch.query('teff_emp > 4700')\n",
    "smemp = specmatch.query('teff_emp <= 4700')\n",
    "fe_select = specmatch['fe_c'].to_list()"
   ]
  },
  {
   "cell_type": "code",
   "execution_count": 4,
   "metadata": {},
   "outputs": [],
   "source": [
    "specmatch['mass_precision'] = specmatch['mass_err_c']/specmatch['mass_c']"
   ]
  },
  {
   "cell_type": "code",
   "execution_count": 5,
   "metadata": {},
   "outputs": [
    {
     "name": "stdout",
     "output_type": "stream",
     "text": [
      "388 0.007943381536013443 0.03558714066329477 0.19931904677542944\n"
     ]
    }
   ],
   "source": [
    "print(np.argmin(specmatch['mass_precision']),\n",
    "      np.amin(specmatch['mass_precision']), \n",
    "      np.median(specmatch['mass_precision']),\n",
    "      np.amax(specmatch['mass_precision']))"
   ]
  },
  {
   "cell_type": "code",
   "execution_count": 7,
   "metadata": {},
   "outputs": [],
   "source": [
    "masses_only = pd.read_csv('legacy_tables/planet_list.csv')\n",
    "trends = pd.read_csv('legacy_tables/trend_list.csv')"
   ]
  },
  {
   "cell_type": "markdown",
   "metadata": {},
   "source": [
    "## Sort the planets into real, new candidates, known."
   ]
  },
  {
   "cell_type": "code",
   "execution_count": 8,
   "metadata": {},
   "outputs": [],
   "source": [
    "masses_real   = masses_only.query('status != \"N\" and status != \"A\" and status != \"R\"').reset_index(drop=True)\n",
    "masses_good   = masses_real.query('mass != \"nan\"').reset_index(drop=True)\n",
    "masses_s      = masses_good.query('status == \"S\" or status == \"SS\"').reset_index(drop=True)\n",
    "masses_planet = masses_good.query('status != \"S\" and status != \"SS\"').reset_index(drop=True)\n",
    "masses_old    = masses_planet.query('status == \"K\"').reset_index(drop=True)\n",
    "masses_new    = masses_planet.query('status == \"C\" or status == \"J\"').reset_index(drop=True)"
   ]
  },
  {
   "cell_type": "code",
   "execution_count": 9,
   "metadata": {},
   "outputs": [],
   "source": [
    "sub_20 = masses_real.query('mass < 20')"
   ]
  },
  {
   "cell_type": "code",
   "execution_count": 16,
   "metadata": {},
   "outputs": [
    {
     "data": {
      "text/plain": [
       "132"
      ]
     },
     "execution_count": 16,
     "metadata": {},
     "output_type": "execute_result"
    }
   ],
   "source": [
    "len()"
   ]
  },
  {
   "cell_type": "code",
   "execution_count": 12,
   "metadata": {},
   "outputs": [
    {
     "data": {
      "text/html": [
       "<div>\n",
       "<style scoped>\n",
       "    .dataframe tbody tr th:only-of-type {\n",
       "        vertical-align: middle;\n",
       "    }\n",
       "\n",
       "    .dataframe tbody tr th {\n",
       "        vertical-align: top;\n",
       "    }\n",
       "\n",
       "    .dataframe thead th {\n",
       "        text-align: right;\n",
       "    }\n",
       "</style>\n",
       "<table border=\"1\" class=\"dataframe\">\n",
       "  <thead>\n",
       "    <tr style=\"text-align: right;\">\n",
       "      <th></th>\n",
       "      <th>Unnamed: 0</th>\n",
       "      <th>hostname</th>\n",
       "      <th>status</th>\n",
       "      <th>pl_index</th>\n",
       "      <th>mass</th>\n",
       "      <th>mass_med</th>\n",
       "      <th>mass_minus</th>\n",
       "      <th>mass_plus</th>\n",
       "      <th>axis</th>\n",
       "      <th>axis_med</th>\n",
       "      <th>...</th>\n",
       "      <th>e_68</th>\n",
       "      <th>insol</th>\n",
       "      <th>insol_med</th>\n",
       "      <th>insols_minus</th>\n",
       "      <th>insols_plus</th>\n",
       "      <th>teq</th>\n",
       "      <th>teq_med</th>\n",
       "      <th>teq_minus</th>\n",
       "      <th>teq_plus</th>\n",
       "      <th>post_path</th>\n",
       "    </tr>\n",
       "  </thead>\n",
       "  <tbody>\n",
       "    <tr>\n",
       "      <th>116</th>\n",
       "      <td>171</td>\n",
       "      <td>28185</td>\n",
       "      <td>S</td>\n",
       "      <td>2.0</td>\n",
       "      <td>4.776824</td>\n",
       "      <td>39.775688</td>\n",
       "      <td>12.144566</td>\n",
       "      <td>83.238008</td>\n",
       "      <td>8.216415</td>\n",
       "      <td>15.885361</td>\n",
       "      <td>...</td>\n",
       "      <td>0.327267</td>\n",
       "      <td>0.015720</td>\n",
       "      <td>0.004211</td>\n",
       "      <td>0.001974</td>\n",
       "      <td>0.009168</td>\n",
       "      <td>1.826607</td>\n",
       "      <td>2.539057</td>\n",
       "      <td>0.001974</td>\n",
       "      <td>0.009168</td>\n",
       "      <td>/data/user/lrosenth/legacy/final_run/28185/281...</td>\n",
       "    </tr>\n",
       "    <tr>\n",
       "      <th>138</th>\n",
       "      <td>198</td>\n",
       "      <td>42581</td>\n",
       "      <td>S</td>\n",
       "      <td>1.0</td>\n",
       "      <td>1.270530</td>\n",
       "      <td>66.441761</td>\n",
       "      <td>-583.865870</td>\n",
       "      <td>849.297925</td>\n",
       "      <td>21.116403</td>\n",
       "      <td>71.504138</td>\n",
       "      <td>...</td>\n",
       "      <td>0.525278</td>\n",
       "      <td>0.000105</td>\n",
       "      <td>0.000009</td>\n",
       "      <td>0.000003</td>\n",
       "      <td>0.000086</td>\n",
       "      <td>6.382023</td>\n",
       "      <td>11.757467</td>\n",
       "      <td>0.000003</td>\n",
       "      <td>0.000086</td>\n",
       "      <td>/data/user/lrosenth/legacy/final_run/42581/425...</td>\n",
       "    </tr>\n",
       "    <tr>\n",
       "      <th>178</th>\n",
       "      <td>254</td>\n",
       "      <td>8375</td>\n",
       "      <td>S</td>\n",
       "      <td>2.0</td>\n",
       "      <td>19.875104</td>\n",
       "      <td>476.984403</td>\n",
       "      <td>22.231022</td>\n",
       "      <td>2686.497151</td>\n",
       "      <td>6.482856</td>\n",
       "      <td>27.444322</td>\n",
       "      <td>...</td>\n",
       "      <td>0.383029</td>\n",
       "      <td>0.218289</td>\n",
       "      <td>0.012154</td>\n",
       "      <td>0.004361</td>\n",
       "      <td>0.031455</td>\n",
       "      <td>0.946240</td>\n",
       "      <td>1.947977</td>\n",
       "      <td>0.004361</td>\n",
       "      <td>0.031455</td>\n",
       "      <td>/data/user/lrosenth/legacy/final_run/8375/8375...</td>\n",
       "    </tr>\n",
       "  </tbody>\n",
       "</table>\n",
       "<p>3 rows × 35 columns</p>\n",
       "</div>"
      ],
      "text/plain": [
       "     Unnamed: 0 hostname status  pl_index       mass    mass_med  mass_minus  \\\n",
       "116         171    28185      S       2.0   4.776824   39.775688   12.144566   \n",
       "138         198    42581      S       1.0   1.270530   66.441761 -583.865870   \n",
       "178         254     8375      S       2.0  19.875104  476.984403   22.231022   \n",
       "\n",
       "       mass_plus       axis   axis_med  ...      e_68     insol  insol_med  \\\n",
       "116    83.238008   8.216415  15.885361  ...  0.327267  0.015720   0.004211   \n",
       "138   849.297925  21.116403  71.504138  ...  0.525278  0.000105   0.000009   \n",
       "178  2686.497151   6.482856  27.444322  ...  0.383029  0.218289   0.012154   \n",
       "\n",
       "     insols_minus  insols_plus       teq    teq_med  teq_minus  teq_plus  \\\n",
       "116      0.001974     0.009168  1.826607   2.539057   0.001974  0.009168   \n",
       "138      0.000003     0.000086  6.382023  11.757467   0.000003  0.000086   \n",
       "178      0.004361     0.031455  0.946240   1.947977   0.004361  0.031455   \n",
       "\n",
       "                                             post_path  \n",
       "116  /data/user/lrosenth/legacy/final_run/28185/281...  \n",
       "138  /data/user/lrosenth/legacy/final_run/42581/425...  \n",
       "178  /data/user/lrosenth/legacy/final_run/8375/8375...  \n",
       "\n",
       "[3 rows x 35 columns]"
      ]
     },
     "execution_count": 12,
     "metadata": {},
     "output_type": "execute_result"
    }
   ],
   "source": [
    "sub_20.query('status == \"S\"')"
   ]
  },
  {
   "cell_type": "code",
   "execution_count": 13,
   "metadata": {},
   "outputs": [
    {
     "data": {
      "text/html": [
       "<div>\n",
       "<style scoped>\n",
       "    .dataframe tbody tr th:only-of-type {\n",
       "        vertical-align: middle;\n",
       "    }\n",
       "\n",
       "    .dataframe tbody tr th {\n",
       "        vertical-align: top;\n",
       "    }\n",
       "\n",
       "    .dataframe thead th {\n",
       "        text-align: right;\n",
       "    }\n",
       "</style>\n",
       "<table border=\"1\" class=\"dataframe\">\n",
       "  <thead>\n",
       "    <tr style=\"text-align: right;\">\n",
       "      <th></th>\n",
       "      <th>Unnamed: 0</th>\n",
       "      <th>hostname</th>\n",
       "      <th>status</th>\n",
       "      <th>pl_index</th>\n",
       "      <th>mass</th>\n",
       "      <th>mass_med</th>\n",
       "      <th>mass_minus</th>\n",
       "      <th>mass_plus</th>\n",
       "      <th>axis</th>\n",
       "      <th>axis_med</th>\n",
       "      <th>...</th>\n",
       "      <th>e_68</th>\n",
       "      <th>insol</th>\n",
       "      <th>insol_med</th>\n",
       "      <th>insols_minus</th>\n",
       "      <th>insols_plus</th>\n",
       "      <th>teq</th>\n",
       "      <th>teq_med</th>\n",
       "      <th>teq_minus</th>\n",
       "      <th>teq_plus</th>\n",
       "      <th>post_path</th>\n",
       "    </tr>\n",
       "  </thead>\n",
       "  <tbody>\n",
       "    <tr>\n",
       "      <th>0</th>\n",
       "      <td>6</td>\n",
       "      <td>107148</td>\n",
       "      <td>C</td>\n",
       "      <td>2.0</td>\n",
       "      <td>0.067845</td>\n",
       "      <td>0.062632</td>\n",
       "      <td>0.052812</td>\n",
       "      <td>0.072330</td>\n",
       "      <td>0.140652</td>\n",
       "      <td>1.406347e-01</td>\n",
       "      <td>...</td>\n",
       "      <td>0.401911</td>\n",
       "      <td>69.539101</td>\n",
       "      <td>6.951497e+01</td>\n",
       "      <td>6.363609e+01</td>\n",
       "      <td>7.576530e+01</td>\n",
       "      <td>0.223976</td>\n",
       "      <td>0.223996</td>\n",
       "      <td>6.363609e+01</td>\n",
       "      <td>7.576530e+01</td>\n",
       "      <td>/data/user/lrosenth/legacy/final_run/107148/10...</td>\n",
       "    </tr>\n",
       "    <tr>\n",
       "      <th>1</th>\n",
       "      <td>40</td>\n",
       "      <td>136925</td>\n",
       "      <td>C</td>\n",
       "      <td>1.0</td>\n",
       "      <td>1.074472</td>\n",
       "      <td>1.076818</td>\n",
       "      <td>0.885964</td>\n",
       "      <td>1.281420</td>\n",
       "      <td>4.638578</td>\n",
       "      <td>4.680605e+00</td>\n",
       "      <td>...</td>\n",
       "      <td>0.715150</td>\n",
       "      <td>0.060771</td>\n",
       "      <td>5.795191e-02</td>\n",
       "      <td>4.915876e-02</td>\n",
       "      <td>6.446792e-02</td>\n",
       "      <td>1.302672</td>\n",
       "      <td>1.318234</td>\n",
       "      <td>4.915876e-02</td>\n",
       "      <td>6.446792e-02</td>\n",
       "      <td>/data/user/lrosenth/legacy/final_run/136925/13...</td>\n",
       "    </tr>\n",
       "    <tr>\n",
       "      <th>2</th>\n",
       "      <td>44</td>\n",
       "      <td>141004</td>\n",
       "      <td>C</td>\n",
       "      <td>1.0</td>\n",
       "      <td>0.043896</td>\n",
       "      <td>0.042840</td>\n",
       "      <td>0.038372</td>\n",
       "      <td>0.047503</td>\n",
       "      <td>0.123777</td>\n",
       "      <td>1.237898e-01</td>\n",
       "      <td>...</td>\n",
       "      <td>0.215525</td>\n",
       "      <td>135.018671</td>\n",
       "      <td>1.350186e+02</td>\n",
       "      <td>1.234917e+02</td>\n",
       "      <td>1.474630e+02</td>\n",
       "      <td>0.189741</td>\n",
       "      <td>0.189741</td>\n",
       "      <td>1.234917e+02</td>\n",
       "      <td>1.474630e+02</td>\n",
       "      <td>/data/user/lrosenth/legacy/final_run/141004/14...</td>\n",
       "    </tr>\n",
       "    <tr>\n",
       "      <th>3</th>\n",
       "      <td>57</td>\n",
       "      <td>145675</td>\n",
       "      <td>C</td>\n",
       "      <td>2.0</td>\n",
       "      <td>5.691600</td>\n",
       "      <td>5.841370</td>\n",
       "      <td>4.811323</td>\n",
       "      <td>7.203498</td>\n",
       "      <td>15.949545</td>\n",
       "      <td>1.642631e+01</td>\n",
       "      <td>...</td>\n",
       "      <td>0.530049</td>\n",
       "      <td>0.002883</td>\n",
       "      <td>2.718023e-03</td>\n",
       "      <td>1.106413e-03</td>\n",
       "      <td>5.040733e-03</td>\n",
       "      <td>2.791166</td>\n",
       "      <td>2.832672</td>\n",
       "      <td>1.106413e-03</td>\n",
       "      <td>5.040733e-03</td>\n",
       "      <td>/data/user/lrosenth/legacy/final_run/145675/14...</td>\n",
       "    </tr>\n",
       "    <tr>\n",
       "      <th>4</th>\n",
       "      <td>71</td>\n",
       "      <td>156668</td>\n",
       "      <td>C</td>\n",
       "      <td>1.0</td>\n",
       "      <td>0.101324</td>\n",
       "      <td>0.099113</td>\n",
       "      <td>0.091371</td>\n",
       "      <td>0.107005</td>\n",
       "      <td>1.570776</td>\n",
       "      <td>1.570483e+00</td>\n",
       "      <td>...</td>\n",
       "      <td>0.127107</td>\n",
       "      <td>0.115864</td>\n",
       "      <td>1.158330e-01</td>\n",
       "      <td>1.056408e-01</td>\n",
       "      <td>1.269779e-01</td>\n",
       "      <td>1.108593</td>\n",
       "      <td>1.108668</td>\n",
       "      <td>1.056408e-01</td>\n",
       "      <td>1.269779e-01</td>\n",
       "      <td>/data/user/lrosenth/legacy/final_run/156668/15...</td>\n",
       "    </tr>\n",
       "    <tr>\n",
       "      <th>5</th>\n",
       "      <td>81</td>\n",
       "      <td>164922</td>\n",
       "      <td>C</td>\n",
       "      <td>3.0</td>\n",
       "      <td>0.034078</td>\n",
       "      <td>0.033098</td>\n",
       "      <td>0.030035</td>\n",
       "      <td>0.036199</td>\n",
       "      <td>0.229199</td>\n",
       "      <td>2.292044e-01</td>\n",
       "      <td>...</td>\n",
       "      <td>0.123719</td>\n",
       "      <td>14.011769</td>\n",
       "      <td>1.400652e+01</td>\n",
       "      <td>1.280288e+01</td>\n",
       "      <td>1.532656e+01</td>\n",
       "      <td>0.334300</td>\n",
       "      <td>0.334331</td>\n",
       "      <td>1.280288e+01</td>\n",
       "      <td>1.532656e+01</td>\n",
       "      <td>/data/user/lrosenth/legacy/final_run/164922/16...</td>\n",
       "    </tr>\n",
       "    <tr>\n",
       "      <th>6</th>\n",
       "      <td>82</td>\n",
       "      <td>164922</td>\n",
       "      <td>C</td>\n",
       "      <td>4.0</td>\n",
       "      <td>0.015214</td>\n",
       "      <td>0.014872</td>\n",
       "      <td>0.012793</td>\n",
       "      <td>0.016945</td>\n",
       "      <td>0.102336</td>\n",
       "      <td>1.023287e-01</td>\n",
       "      <td>...</td>\n",
       "      <td>0.255071</td>\n",
       "      <td>70.284937</td>\n",
       "      <td>7.027666e+01</td>\n",
       "      <td>6.423174e+01</td>\n",
       "      <td>7.689646e+01</td>\n",
       "      <td>0.223380</td>\n",
       "      <td>0.223386</td>\n",
       "      <td>6.423174e+01</td>\n",
       "      <td>7.689646e+01</td>\n",
       "      <td>/data/user/lrosenth/legacy/final_run/164922/16...</td>\n",
       "    </tr>\n",
       "    <tr>\n",
       "      <th>7</th>\n",
       "      <td>87</td>\n",
       "      <td>168009</td>\n",
       "      <td>C</td>\n",
       "      <td>2.0</td>\n",
       "      <td>0.030927</td>\n",
       "      <td>0.030038</td>\n",
       "      <td>0.026331</td>\n",
       "      <td>0.033825</td>\n",
       "      <td>0.119264</td>\n",
       "      <td>1.192519e-01</td>\n",
       "      <td>...</td>\n",
       "      <td>0.172219</td>\n",
       "      <td>102.504191</td>\n",
       "      <td>1.024703e+02</td>\n",
       "      <td>9.372066e+01</td>\n",
       "      <td>1.120860e+02</td>\n",
       "      <td>0.203270</td>\n",
       "      <td>0.203287</td>\n",
       "      <td>9.372066e+01</td>\n",
       "      <td>1.120860e+02</td>\n",
       "      <td>/data/user/lrosenth/legacy/final_run/168009/16...</td>\n",
       "    </tr>\n",
       "    <tr>\n",
       "      <th>8</th>\n",
       "      <td>136</td>\n",
       "      <td>213472</td>\n",
       "      <td>C</td>\n",
       "      <td>1.0</td>\n",
       "      <td>4.997914</td>\n",
       "      <td>-1091.641579</td>\n",
       "      <td>-1137.561113</td>\n",
       "      <td>-1006.543430</td>\n",
       "      <td>18.601278</td>\n",
       "      <td>5.417364e+10</td>\n",
       "      <td>...</td>\n",
       "      <td>0.637527</td>\n",
       "      <td>0.005693</td>\n",
       "      <td>6.770000e-22</td>\n",
       "      <td>1.480000e-22</td>\n",
       "      <td>2.460000e-12</td>\n",
       "      <td>2.354657</td>\n",
       "      <td>126802.763000</td>\n",
       "      <td>1.480000e-22</td>\n",
       "      <td>2.460000e-12</td>\n",
       "      <td>/data/user/lrosenth/legacy/final_run/213472/21...</td>\n",
       "    </tr>\n",
       "    <tr>\n",
       "      <th>9</th>\n",
       "      <td>167</td>\n",
       "      <td>26161</td>\n",
       "      <td>C</td>\n",
       "      <td>1.0</td>\n",
       "      <td>8.043191</td>\n",
       "      <td>13.488718</td>\n",
       "      <td>9.225735</td>\n",
       "      <td>20.141519</td>\n",
       "      <td>12.766910</td>\n",
       "      <td>1.802250e+01</td>\n",
       "      <td>...</td>\n",
       "      <td>0.901641</td>\n",
       "      <td>0.015781</td>\n",
       "      <td>7.918622e-03</td>\n",
       "      <td>2.553594e-03</td>\n",
       "      <td>1.668076e-02</td>\n",
       "      <td>1.824835</td>\n",
       "      <td>2.168189</td>\n",
       "      <td>2.553594e-03</td>\n",
       "      <td>1.668076e-02</td>\n",
       "      <td>/data/user/lrosenth/legacy/final_run/26161/261...</td>\n",
       "    </tr>\n",
       "    <tr>\n",
       "      <th>10</th>\n",
       "      <td>223</td>\n",
       "      <td>66428</td>\n",
       "      <td>C</td>\n",
       "      <td>2.0</td>\n",
       "      <td>3.812772</td>\n",
       "      <td>27.244769</td>\n",
       "      <td>9.784151</td>\n",
       "      <td>48.999393</td>\n",
       "      <td>10.059953</td>\n",
       "      <td>2.302321e+01</td>\n",
       "      <td>...</td>\n",
       "      <td>0.404989</td>\n",
       "      <td>0.012658</td>\n",
       "      <td>2.435008e-03</td>\n",
       "      <td>7.283668e-04</td>\n",
       "      <td>5.379797e-03</td>\n",
       "      <td>1.928283</td>\n",
       "      <td>2.911618</td>\n",
       "      <td>7.283668e-04</td>\n",
       "      <td>5.379797e-03</td>\n",
       "      <td>/data/user/lrosenth/legacy/final_run/66428/664...</td>\n",
       "    </tr>\n",
       "    <tr>\n",
       "      <th>11</th>\n",
       "      <td>227</td>\n",
       "      <td>68988</td>\n",
       "      <td>C</td>\n",
       "      <td>2.0</td>\n",
       "      <td>15.048702</td>\n",
       "      <td>14.966295</td>\n",
       "      <td>13.433975</td>\n",
       "      <td>17.815117</td>\n",
       "      <td>13.425650</td>\n",
       "      <td>1.315116e+01</td>\n",
       "      <td>...</td>\n",
       "      <td>0.517329</td>\n",
       "      <td>0.009529</td>\n",
       "      <td>9.857581e-03</td>\n",
       "      <td>5.056552e-03</td>\n",
       "      <td>1.384267e-02</td>\n",
       "      <td>2.070129</td>\n",
       "      <td>2.052660</td>\n",
       "      <td>5.056552e-03</td>\n",
       "      <td>1.384267e-02</td>\n",
       "      <td>/data/user/lrosenth/legacy/final_run/68988/689...</td>\n",
       "    </tr>\n",
       "    <tr>\n",
       "      <th>12</th>\n",
       "      <td>256</td>\n",
       "      <td>86728</td>\n",
       "      <td>C</td>\n",
       "      <td>1.0</td>\n",
       "      <td>0.029836</td>\n",
       "      <td>0.028879</td>\n",
       "      <td>0.024338</td>\n",
       "      <td>0.033507</td>\n",
       "      <td>0.198223</td>\n",
       "      <td>1.982126e-01</td>\n",
       "      <td>...</td>\n",
       "      <td>0.199059</td>\n",
       "      <td>35.971728</td>\n",
       "      <td>3.597555e+01</td>\n",
       "      <td>3.290269e+01</td>\n",
       "      <td>3.926215e+01</td>\n",
       "      <td>0.264100</td>\n",
       "      <td>0.264093</td>\n",
       "      <td>3.290269e+01</td>\n",
       "      <td>3.926215e+01</td>\n",
       "      <td>/data/user/lrosenth/legacy/final_run/86728/867...</td>\n",
       "    </tr>\n",
       "    <tr>\n",
       "      <th>13</th>\n",
       "      <td>269</td>\n",
       "      <td>95735</td>\n",
       "      <td>C</td>\n",
       "      <td>1.0</td>\n",
       "      <td>0.057407</td>\n",
       "      <td>0.056769</td>\n",
       "      <td>0.048441</td>\n",
       "      <td>0.065833</td>\n",
       "      <td>2.994804</td>\n",
       "      <td>3.104151e+00</td>\n",
       "      <td>...</td>\n",
       "      <td>0.202083</td>\n",
       "      <td>0.002075</td>\n",
       "      <td>1.924746e-03</td>\n",
       "      <td>1.705100e-03</td>\n",
       "      <td>2.158740e-03</td>\n",
       "      <td>3.030266</td>\n",
       "      <td>3.087921</td>\n",
       "      <td>1.705100e-03</td>\n",
       "      <td>2.158740e-03</td>\n",
       "      <td>/data/user/lrosenth/legacy/final_run/95735/957...</td>\n",
       "    </tr>\n",
       "  </tbody>\n",
       "</table>\n",
       "<p>14 rows × 35 columns</p>\n",
       "</div>"
      ],
      "text/plain": [
       "    Unnamed: 0 hostname status  pl_index       mass     mass_med   mass_minus  \\\n",
       "0            6   107148      C       2.0   0.067845     0.062632     0.052812   \n",
       "1           40   136925      C       1.0   1.074472     1.076818     0.885964   \n",
       "2           44   141004      C       1.0   0.043896     0.042840     0.038372   \n",
       "3           57   145675      C       2.0   5.691600     5.841370     4.811323   \n",
       "4           71   156668      C       1.0   0.101324     0.099113     0.091371   \n",
       "5           81   164922      C       3.0   0.034078     0.033098     0.030035   \n",
       "6           82   164922      C       4.0   0.015214     0.014872     0.012793   \n",
       "7           87   168009      C       2.0   0.030927     0.030038     0.026331   \n",
       "8          136   213472      C       1.0   4.997914 -1091.641579 -1137.561113   \n",
       "9          167    26161      C       1.0   8.043191    13.488718     9.225735   \n",
       "10         223    66428      C       2.0   3.812772    27.244769     9.784151   \n",
       "11         227    68988      C       2.0  15.048702    14.966295    13.433975   \n",
       "12         256    86728      C       1.0   0.029836     0.028879     0.024338   \n",
       "13         269    95735      C       1.0   0.057407     0.056769     0.048441   \n",
       "\n",
       "      mass_plus       axis      axis_med  ...      e_68       insol  \\\n",
       "0      0.072330   0.140652  1.406347e-01  ...  0.401911   69.539101   \n",
       "1      1.281420   4.638578  4.680605e+00  ...  0.715150    0.060771   \n",
       "2      0.047503   0.123777  1.237898e-01  ...  0.215525  135.018671   \n",
       "3      7.203498  15.949545  1.642631e+01  ...  0.530049    0.002883   \n",
       "4      0.107005   1.570776  1.570483e+00  ...  0.127107    0.115864   \n",
       "5      0.036199   0.229199  2.292044e-01  ...  0.123719   14.011769   \n",
       "6      0.016945   0.102336  1.023287e-01  ...  0.255071   70.284937   \n",
       "7      0.033825   0.119264  1.192519e-01  ...  0.172219  102.504191   \n",
       "8  -1006.543430  18.601278  5.417364e+10  ...  0.637527    0.005693   \n",
       "9     20.141519  12.766910  1.802250e+01  ...  0.901641    0.015781   \n",
       "10    48.999393  10.059953  2.302321e+01  ...  0.404989    0.012658   \n",
       "11    17.815117  13.425650  1.315116e+01  ...  0.517329    0.009529   \n",
       "12     0.033507   0.198223  1.982126e-01  ...  0.199059   35.971728   \n",
       "13     0.065833   2.994804  3.104151e+00  ...  0.202083    0.002075   \n",
       "\n",
       "       insol_med  insols_minus   insols_plus       teq        teq_med  \\\n",
       "0   6.951497e+01  6.363609e+01  7.576530e+01  0.223976       0.223996   \n",
       "1   5.795191e-02  4.915876e-02  6.446792e-02  1.302672       1.318234   \n",
       "2   1.350186e+02  1.234917e+02  1.474630e+02  0.189741       0.189741   \n",
       "3   2.718023e-03  1.106413e-03  5.040733e-03  2.791166       2.832672   \n",
       "4   1.158330e-01  1.056408e-01  1.269779e-01  1.108593       1.108668   \n",
       "5   1.400652e+01  1.280288e+01  1.532656e+01  0.334300       0.334331   \n",
       "6   7.027666e+01  6.423174e+01  7.689646e+01  0.223380       0.223386   \n",
       "7   1.024703e+02  9.372066e+01  1.120860e+02  0.203270       0.203287   \n",
       "8   6.770000e-22  1.480000e-22  2.460000e-12  2.354657  126802.763000   \n",
       "9   7.918622e-03  2.553594e-03  1.668076e-02  1.824835       2.168189   \n",
       "10  2.435008e-03  7.283668e-04  5.379797e-03  1.928283       2.911618   \n",
       "11  9.857581e-03  5.056552e-03  1.384267e-02  2.070129       2.052660   \n",
       "12  3.597555e+01  3.290269e+01  3.926215e+01  0.264100       0.264093   \n",
       "13  1.924746e-03  1.705100e-03  2.158740e-03  3.030266       3.087921   \n",
       "\n",
       "       teq_minus      teq_plus  \\\n",
       "0   6.363609e+01  7.576530e+01   \n",
       "1   4.915876e-02  6.446792e-02   \n",
       "2   1.234917e+02  1.474630e+02   \n",
       "3   1.106413e-03  5.040733e-03   \n",
       "4   1.056408e-01  1.269779e-01   \n",
       "5   1.280288e+01  1.532656e+01   \n",
       "6   6.423174e+01  7.689646e+01   \n",
       "7   9.372066e+01  1.120860e+02   \n",
       "8   1.480000e-22  2.460000e-12   \n",
       "9   2.553594e-03  1.668076e-02   \n",
       "10  7.283668e-04  5.379797e-03   \n",
       "11  5.056552e-03  1.384267e-02   \n",
       "12  3.290269e+01  3.926215e+01   \n",
       "13  1.705100e-03  2.158740e-03   \n",
       "\n",
       "                                            post_path  \n",
       "0   /data/user/lrosenth/legacy/final_run/107148/10...  \n",
       "1   /data/user/lrosenth/legacy/final_run/136925/13...  \n",
       "2   /data/user/lrosenth/legacy/final_run/141004/14...  \n",
       "3   /data/user/lrosenth/legacy/final_run/145675/14...  \n",
       "4   /data/user/lrosenth/legacy/final_run/156668/15...  \n",
       "5   /data/user/lrosenth/legacy/final_run/164922/16...  \n",
       "6   /data/user/lrosenth/legacy/final_run/164922/16...  \n",
       "7   /data/user/lrosenth/legacy/final_run/168009/16...  \n",
       "8   /data/user/lrosenth/legacy/final_run/213472/21...  \n",
       "9   /data/user/lrosenth/legacy/final_run/26161/261...  \n",
       "10  /data/user/lrosenth/legacy/final_run/66428/664...  \n",
       "11  /data/user/lrosenth/legacy/final_run/68988/689...  \n",
       "12  /data/user/lrosenth/legacy/final_run/86728/867...  \n",
       "13  /data/user/lrosenth/legacy/final_run/95735/957...  \n",
       "\n",
       "[14 rows x 35 columns]"
      ]
     },
     "execution_count": 13,
     "metadata": {},
     "output_type": "execute_result"
    }
   ],
   "source": [
    "masses_new"
   ]
  },
  {
   "cell_type": "code",
   "execution_count": 14,
   "metadata": {},
   "outputs": [
    {
     "data": {
      "text/html": [
       "<div>\n",
       "<style scoped>\n",
       "    .dataframe tbody tr th:only-of-type {\n",
       "        vertical-align: middle;\n",
       "    }\n",
       "\n",
       "    .dataframe tbody tr th {\n",
       "        vertical-align: top;\n",
       "    }\n",
       "\n",
       "    .dataframe thead th {\n",
       "        text-align: right;\n",
       "    }\n",
       "</style>\n",
       "<table border=\"1\" class=\"dataframe\">\n",
       "  <thead>\n",
       "    <tr style=\"text-align: right;\">\n",
       "      <th></th>\n",
       "      <th>Unnamed: 0</th>\n",
       "      <th>hostname</th>\n",
       "      <th>status</th>\n",
       "      <th>pl_index</th>\n",
       "      <th>mass</th>\n",
       "      <th>mass_med</th>\n",
       "      <th>mass_minus</th>\n",
       "      <th>mass_plus</th>\n",
       "      <th>axis</th>\n",
       "      <th>axis_med</th>\n",
       "      <th>...</th>\n",
       "      <th>e_68</th>\n",
       "      <th>insol</th>\n",
       "      <th>insol_med</th>\n",
       "      <th>insols_minus</th>\n",
       "      <th>insols_plus</th>\n",
       "      <th>teq</th>\n",
       "      <th>teq_med</th>\n",
       "      <th>teq_minus</th>\n",
       "      <th>teq_plus</th>\n",
       "      <th>post_path</th>\n",
       "    </tr>\n",
       "  </thead>\n",
       "  <tbody>\n",
       "    <tr>\n",
       "      <th>0</th>\n",
       "      <td>1</td>\n",
       "      <td>104067</td>\n",
       "      <td>K</td>\n",
       "      <td>1.0</td>\n",
       "      <td>0.205392</td>\n",
       "      <td>0.202460</td>\n",
       "      <td>0.185821</td>\n",
       "      <td>0.219199</td>\n",
       "      <td>0.267306</td>\n",
       "      <td>0.267314</td>\n",
       "      <td>...</td>\n",
       "      <td>0.285008</td>\n",
       "      <td>4.609411</td>\n",
       "      <td>4.608897</td>\n",
       "      <td>4.202890</td>\n",
       "      <td>5.052367</td>\n",
       "      <td>0.441416</td>\n",
       "      <td>0.441428</td>\n",
       "      <td>4.202890</td>\n",
       "      <td>5.052367</td>\n",
       "      <td>/data/user/lrosenth/legacy/final_run/104067/10...</td>\n",
       "    </tr>\n",
       "    <tr>\n",
       "      <th>1</th>\n",
       "      <td>4</td>\n",
       "      <td>10697</td>\n",
       "      <td>K</td>\n",
       "      <td>1.0</td>\n",
       "      <td>6.394219</td>\n",
       "      <td>6.392644</td>\n",
       "      <td>6.259086</td>\n",
       "      <td>6.526477</td>\n",
       "      <td>2.156211</td>\n",
       "      <td>2.156202</td>\n",
       "      <td>...</td>\n",
       "      <td>0.103728</td>\n",
       "      <td>0.676232</td>\n",
       "      <td>0.676107</td>\n",
       "      <td>0.618595</td>\n",
       "      <td>0.737182</td>\n",
       "      <td>0.713240</td>\n",
       "      <td>0.713273</td>\n",
       "      <td>0.618595</td>\n",
       "      <td>0.737182</td>\n",
       "      <td>/data/user/lrosenth/legacy/final_run/10697/106...</td>\n",
       "    </tr>\n",
       "    <tr>\n",
       "      <th>2</th>\n",
       "      <td>5</td>\n",
       "      <td>107148</td>\n",
       "      <td>K</td>\n",
       "      <td>1.0</td>\n",
       "      <td>0.205914</td>\n",
       "      <td>0.202517</td>\n",
       "      <td>0.187780</td>\n",
       "      <td>0.217026</td>\n",
       "      <td>0.366802</td>\n",
       "      <td>0.366761</td>\n",
       "      <td>...</td>\n",
       "      <td>0.208622</td>\n",
       "      <td>10.224926</td>\n",
       "      <td>10.221417</td>\n",
       "      <td>9.356731</td>\n",
       "      <td>11.140661</td>\n",
       "      <td>0.361697</td>\n",
       "      <td>0.361728</td>\n",
       "      <td>9.356731</td>\n",
       "      <td>11.140661</td>\n",
       "      <td>/data/user/lrosenth/legacy/final_run/107148/10...</td>\n",
       "    </tr>\n",
       "    <tr>\n",
       "      <th>3</th>\n",
       "      <td>6</td>\n",
       "      <td>107148</td>\n",
       "      <td>C</td>\n",
       "      <td>2.0</td>\n",
       "      <td>0.067845</td>\n",
       "      <td>0.062632</td>\n",
       "      <td>0.052812</td>\n",
       "      <td>0.072330</td>\n",
       "      <td>0.140652</td>\n",
       "      <td>0.140635</td>\n",
       "      <td>...</td>\n",
       "      <td>0.401911</td>\n",
       "      <td>69.539101</td>\n",
       "      <td>69.514971</td>\n",
       "      <td>63.636088</td>\n",
       "      <td>75.765303</td>\n",
       "      <td>0.223976</td>\n",
       "      <td>0.223996</td>\n",
       "      <td>63.636088</td>\n",
       "      <td>75.765303</td>\n",
       "      <td>/data/user/lrosenth/legacy/final_run/107148/10...</td>\n",
       "    </tr>\n",
       "    <tr>\n",
       "      <th>4</th>\n",
       "      <td>8</td>\n",
       "      <td>108874</td>\n",
       "      <td>K</td>\n",
       "      <td>1.0</td>\n",
       "      <td>1.322192</td>\n",
       "      <td>1.320065</td>\n",
       "      <td>1.272945</td>\n",
       "      <td>1.367516</td>\n",
       "      <td>1.052723</td>\n",
       "      <td>1.052742</td>\n",
       "      <td>...</td>\n",
       "      <td>0.152098</td>\n",
       "      <td>0.935309</td>\n",
       "      <td>0.934989</td>\n",
       "      <td>0.854582</td>\n",
       "      <td>1.023139</td>\n",
       "      <td>0.657689</td>\n",
       "      <td>0.657745</td>\n",
       "      <td>0.854582</td>\n",
       "      <td>1.023139</td>\n",
       "      <td>/data/user/lrosenth/legacy/final_run/108874/10...</td>\n",
       "    </tr>\n",
       "    <tr>\n",
       "      <th>...</th>\n",
       "      <td>...</td>\n",
       "      <td>...</td>\n",
       "      <td>...</td>\n",
       "      <td>...</td>\n",
       "      <td>...</td>\n",
       "      <td>...</td>\n",
       "      <td>...</td>\n",
       "      <td>...</td>\n",
       "      <td>...</td>\n",
       "      <td>...</td>\n",
       "      <td>...</td>\n",
       "      <td>...</td>\n",
       "      <td>...</td>\n",
       "      <td>...</td>\n",
       "      <td>...</td>\n",
       "      <td>...</td>\n",
       "      <td>...</td>\n",
       "      <td>...</td>\n",
       "      <td>...</td>\n",
       "      <td>...</td>\n",
       "      <td>...</td>\n",
       "    </tr>\n",
       "    <tr>\n",
       "      <th>180</th>\n",
       "      <td>319</td>\n",
       "      <td>gl876</td>\n",
       "      <td>K</td>\n",
       "      <td>1.0</td>\n",
       "      <td>2.107746</td>\n",
       "      <td>2.108306</td>\n",
       "      <td>2.072803</td>\n",
       "      <td>2.143973</td>\n",
       "      <td>0.217720</td>\n",
       "      <td>0.217715</td>\n",
       "      <td>...</td>\n",
       "      <td>0.002809</td>\n",
       "      <td>0.277139</td>\n",
       "      <td>0.276978</td>\n",
       "      <td>0.250924</td>\n",
       "      <td>0.305312</td>\n",
       "      <td>0.891425</td>\n",
       "      <td>0.891555</td>\n",
       "      <td>0.250924</td>\n",
       "      <td>0.305312</td>\n",
       "      <td>/data/user/lrosenth/legacy/final_run/gl876/gl8...</td>\n",
       "    </tr>\n",
       "    <tr>\n",
       "      <th>181</th>\n",
       "      <td>320</td>\n",
       "      <td>gl876</td>\n",
       "      <td>K</td>\n",
       "      <td>2.0</td>\n",
       "      <td>0.699044</td>\n",
       "      <td>0.698390</td>\n",
       "      <td>0.685790</td>\n",
       "      <td>0.710919</td>\n",
       "      <td>0.136289</td>\n",
       "      <td>0.136287</td>\n",
       "      <td>...</td>\n",
       "      <td>0.008292</td>\n",
       "      <td>0.707244</td>\n",
       "      <td>0.706835</td>\n",
       "      <td>0.640339</td>\n",
       "      <td>0.779133</td>\n",
       "      <td>0.705289</td>\n",
       "      <td>0.705391</td>\n",
       "      <td>0.640339</td>\n",
       "      <td>0.779133</td>\n",
       "      <td>/data/user/lrosenth/legacy/final_run/gl876/gl8...</td>\n",
       "    </tr>\n",
       "    <tr>\n",
       "      <th>182</th>\n",
       "      <td>325</td>\n",
       "      <td>83443</td>\n",
       "      <td>K</td>\n",
       "      <td>1.0</td>\n",
       "      <td>0.411787</td>\n",
       "      <td>0.409297</td>\n",
       "      <td>0.390567</td>\n",
       "      <td>0.427911</td>\n",
       "      <td>0.040673</td>\n",
       "      <td>0.040668</td>\n",
       "      <td>...</td>\n",
       "      <td>0.087886</td>\n",
       "      <td>508.639187</td>\n",
       "      <td>508.616774</td>\n",
       "      <td>464.796523</td>\n",
       "      <td>556.527407</td>\n",
       "      <td>0.136194</td>\n",
       "      <td>0.136195</td>\n",
       "      <td>464.796523</td>\n",
       "      <td>556.527407</td>\n",
       "      <td>/data/user/lrosenth/legacy/final_run/83443/834...</td>\n",
       "    </tr>\n",
       "    <tr>\n",
       "      <th>183</th>\n",
       "      <td>327</td>\n",
       "      <td>183263</td>\n",
       "      <td>K</td>\n",
       "      <td>1.0</td>\n",
       "      <td>3.704948</td>\n",
       "      <td>3.705455</td>\n",
       "      <td>3.605404</td>\n",
       "      <td>3.803586</td>\n",
       "      <td>1.507864</td>\n",
       "      <td>1.507938</td>\n",
       "      <td>...</td>\n",
       "      <td>0.380570</td>\n",
       "      <td>0.804752</td>\n",
       "      <td>0.804543</td>\n",
       "      <td>0.737547</td>\n",
       "      <td>0.876634</td>\n",
       "      <td>0.682879</td>\n",
       "      <td>0.682924</td>\n",
       "      <td>0.737547</td>\n",
       "      <td>0.876634</td>\n",
       "      <td>/data/user/lrosenth/legacy/final_run/183263/18...</td>\n",
       "    </tr>\n",
       "    <tr>\n",
       "      <th>184</th>\n",
       "      <td>328</td>\n",
       "      <td>183263</td>\n",
       "      <td>K</td>\n",
       "      <td>2.0</td>\n",
       "      <td>7.961930</td>\n",
       "      <td>7.966351</td>\n",
       "      <td>7.743680</td>\n",
       "      <td>8.184917</td>\n",
       "      <td>6.037813</td>\n",
       "      <td>6.038306</td>\n",
       "      <td>...</td>\n",
       "      <td>0.062467</td>\n",
       "      <td>0.050191</td>\n",
       "      <td>0.050186</td>\n",
       "      <td>0.045969</td>\n",
       "      <td>0.054685</td>\n",
       "      <td>1.366478</td>\n",
       "      <td>1.366511</td>\n",
       "      <td>0.045969</td>\n",
       "      <td>0.054685</td>\n",
       "      <td>/data/user/lrosenth/legacy/final_run/183263/18...</td>\n",
       "    </tr>\n",
       "  </tbody>\n",
       "</table>\n",
       "<p>185 rows × 35 columns</p>\n",
       "</div>"
      ],
      "text/plain": [
       "     Unnamed: 0 hostname status  pl_index      mass  mass_med  mass_minus  \\\n",
       "0             1   104067      K       1.0  0.205392  0.202460    0.185821   \n",
       "1             4    10697      K       1.0  6.394219  6.392644    6.259086   \n",
       "2             5   107148      K       1.0  0.205914  0.202517    0.187780   \n",
       "3             6   107148      C       2.0  0.067845  0.062632    0.052812   \n",
       "4             8   108874      K       1.0  1.322192  1.320065    1.272945   \n",
       "..          ...      ...    ...       ...       ...       ...         ...   \n",
       "180         319    gl876      K       1.0  2.107746  2.108306    2.072803   \n",
       "181         320    gl876      K       2.0  0.699044  0.698390    0.685790   \n",
       "182         325    83443      K       1.0  0.411787  0.409297    0.390567   \n",
       "183         327   183263      K       1.0  3.704948  3.705455    3.605404   \n",
       "184         328   183263      K       2.0  7.961930  7.966351    7.743680   \n",
       "\n",
       "     mass_plus      axis  axis_med  ...      e_68       insol   insol_med  \\\n",
       "0     0.219199  0.267306  0.267314  ...  0.285008    4.609411    4.608897   \n",
       "1     6.526477  2.156211  2.156202  ...  0.103728    0.676232    0.676107   \n",
       "2     0.217026  0.366802  0.366761  ...  0.208622   10.224926   10.221417   \n",
       "3     0.072330  0.140652  0.140635  ...  0.401911   69.539101   69.514971   \n",
       "4     1.367516  1.052723  1.052742  ...  0.152098    0.935309    0.934989   \n",
       "..         ...       ...       ...  ...       ...         ...         ...   \n",
       "180   2.143973  0.217720  0.217715  ...  0.002809    0.277139    0.276978   \n",
       "181   0.710919  0.136289  0.136287  ...  0.008292    0.707244    0.706835   \n",
       "182   0.427911  0.040673  0.040668  ...  0.087886  508.639187  508.616774   \n",
       "183   3.803586  1.507864  1.507938  ...  0.380570    0.804752    0.804543   \n",
       "184   8.184917  6.037813  6.038306  ...  0.062467    0.050191    0.050186   \n",
       "\n",
       "     insols_minus  insols_plus       teq   teq_med   teq_minus    teq_plus  \\\n",
       "0        4.202890     5.052367  0.441416  0.441428    4.202890    5.052367   \n",
       "1        0.618595     0.737182  0.713240  0.713273    0.618595    0.737182   \n",
       "2        9.356731    11.140661  0.361697  0.361728    9.356731   11.140661   \n",
       "3       63.636088    75.765303  0.223976  0.223996   63.636088   75.765303   \n",
       "4        0.854582     1.023139  0.657689  0.657745    0.854582    1.023139   \n",
       "..            ...          ...       ...       ...         ...         ...   \n",
       "180      0.250924     0.305312  0.891425  0.891555    0.250924    0.305312   \n",
       "181      0.640339     0.779133  0.705289  0.705391    0.640339    0.779133   \n",
       "182    464.796523   556.527407  0.136194  0.136195  464.796523  556.527407   \n",
       "183      0.737547     0.876634  0.682879  0.682924    0.737547    0.876634   \n",
       "184      0.045969     0.054685  1.366478  1.366511    0.045969    0.054685   \n",
       "\n",
       "                                             post_path  \n",
       "0    /data/user/lrosenth/legacy/final_run/104067/10...  \n",
       "1    /data/user/lrosenth/legacy/final_run/10697/106...  \n",
       "2    /data/user/lrosenth/legacy/final_run/107148/10...  \n",
       "3    /data/user/lrosenth/legacy/final_run/107148/10...  \n",
       "4    /data/user/lrosenth/legacy/final_run/108874/10...  \n",
       "..                                                 ...  \n",
       "180  /data/user/lrosenth/legacy/final_run/gl876/gl8...  \n",
       "181  /data/user/lrosenth/legacy/final_run/gl876/gl8...  \n",
       "182  /data/user/lrosenth/legacy/final_run/83443/834...  \n",
       "183  /data/user/lrosenth/legacy/final_run/183263/18...  \n",
       "184  /data/user/lrosenth/legacy/final_run/183263/18...  \n",
       "\n",
       "[185 rows x 35 columns]"
      ]
     },
     "execution_count": 14,
     "metadata": {},
     "output_type": "execute_result"
    }
   ],
   "source": [
    "masses_planet"
   ]
  },
  {
   "cell_type": "code",
   "execution_count": 26,
   "metadata": {},
   "outputs": [],
   "source": [
    "masses_new['mass_precision'] = 0.5*(masses_new['mass_plus'] - masses_new['mass_minus'])/masses_new['mass']\n",
    "masses_planet['mass_precision'] = 0.5*(masses_planet['mass_plus'] - masses_planet['mass_minus'])/masses_planet['mass']"
   ]
  },
  {
   "cell_type": "code",
   "execution_count": 31,
   "metadata": {},
   "outputs": [
    {
     "data": {
      "text/plain": [
       "0.024657637314082433"
      ]
     },
     "execution_count": 31,
     "metadata": {},
     "output_type": "execute_result"
    }
   ],
   "source": [
    "np.amin(masses_planet['mass_precision'])"
   ]
  },
  {
   "cell_type": "code",
   "execution_count": 10,
   "metadata": {
    "scrolled": false
   },
   "outputs": [
    {
     "data": {
      "text/html": [
       "<div>\n",
       "<style scoped>\n",
       "    .dataframe tbody tr th:only-of-type {\n",
       "        vertical-align: middle;\n",
       "    }\n",
       "\n",
       "    .dataframe tbody tr th {\n",
       "        vertical-align: top;\n",
       "    }\n",
       "\n",
       "    .dataframe thead th {\n",
       "        text-align: right;\n",
       "    }\n",
       "</style>\n",
       "<table border=\"1\" class=\"dataframe\">\n",
       "  <thead>\n",
       "    <tr style=\"text-align: right;\">\n",
       "      <th></th>\n",
       "      <th>Unnamed: 0</th>\n",
       "      <th>hostname</th>\n",
       "      <th>status</th>\n",
       "      <th>mass</th>\n",
       "      <th>mass_med</th>\n",
       "      <th>mass_minus</th>\n",
       "      <th>mass_plus</th>\n",
       "      <th>axis</th>\n",
       "      <th>axis_med</th>\n",
       "      <th>axis_minus</th>\n",
       "      <th>...</th>\n",
       "      <th>per_minus</th>\n",
       "      <th>per_plus</th>\n",
       "      <th>k</th>\n",
       "      <th>k_med</th>\n",
       "      <th>k_minus</th>\n",
       "      <th>k_plus</th>\n",
       "      <th>e</th>\n",
       "      <th>e_med</th>\n",
       "      <th>e_minus</th>\n",
       "      <th>e_plus</th>\n",
       "    </tr>\n",
       "  </thead>\n",
       "  <tbody>\n",
       "    <tr>\n",
       "      <th>27</th>\n",
       "      <td>32</td>\n",
       "      <td>116321</td>\n",
       "      <td>SS</td>\n",
       "      <td>50.662192</td>\n",
       "      <td>130.550149</td>\n",
       "      <td>74.569845</td>\n",
       "      <td>226.267222</td>\n",
       "      <td>7.726527</td>\n",
       "      <td>16.282146</td>\n",
       "      <td>8.735236</td>\n",
       "      <td>...</td>\n",
       "      <td>7879.896862</td>\n",
       "      <td>59098.778241</td>\n",
       "      <td>435.279112</td>\n",
       "      <td>844.464984</td>\n",
       "      <td>566.243664</td>\n",
       "      <td>1810.602398</td>\n",
       "      <td>0.107801</td>\n",
       "      <td>0.641658</td>\n",
       "      <td>0.308283</td>\n",
       "      <td>0.825405</td>\n",
       "    </tr>\n",
       "    <tr>\n",
       "      <th>59</th>\n",
       "      <td>71</td>\n",
       "      <td>157338</td>\n",
       "      <td>SS</td>\n",
       "      <td>124.416924</td>\n",
       "      <td>146.258736</td>\n",
       "      <td>99.582039</td>\n",
       "      <td>199.964474</td>\n",
       "      <td>17.543707</td>\n",
       "      <td>24.328158</td>\n",
       "      <td>17.277640</td>\n",
       "      <td>...</td>\n",
       "      <td>26447.880660</td>\n",
       "      <td>71035.054449</td>\n",
       "      <td>990.658489</td>\n",
       "      <td>1064.700778</td>\n",
       "      <td>752.437988</td>\n",
       "      <td>1436.283555</td>\n",
       "      <td>0.605454</td>\n",
       "      <td>0.680955</td>\n",
       "      <td>0.610324</td>\n",
       "      <td>0.748611</td>\n",
       "    </tr>\n",
       "    <tr>\n",
       "      <th>172</th>\n",
       "      <td>228</td>\n",
       "      <td>87359</td>\n",
       "      <td>SS</td>\n",
       "      <td>56.424887</td>\n",
       "      <td>147.143529</td>\n",
       "      <td>76.199497</td>\n",
       "      <td>261.851676</td>\n",
       "      <td>14.558902</td>\n",
       "      <td>20.789006</td>\n",
       "      <td>16.006022</td>\n",
       "      <td>...</td>\n",
       "      <td>23717.585175</td>\n",
       "      <td>48023.930877</td>\n",
       "      <td>427.305766</td>\n",
       "      <td>856.082769</td>\n",
       "      <td>522.898405</td>\n",
       "      <td>1327.831028</td>\n",
       "      <td>0.082663</td>\n",
       "      <td>0.160501</td>\n",
       "      <td>0.105506</td>\n",
       "      <td>0.220733</td>\n",
       "    </tr>\n",
       "    <tr>\n",
       "      <th>177</th>\n",
       "      <td>234</td>\n",
       "      <td>4747</td>\n",
       "      <td>SS</td>\n",
       "      <td>48.088313</td>\n",
       "      <td>49.144831</td>\n",
       "      <td>47.490647</td>\n",
       "      <td>50.825784</td>\n",
       "      <td>9.774699</td>\n",
       "      <td>9.855719</td>\n",
       "      <td>9.681936</td>\n",
       "      <td>...</td>\n",
       "      <td>12234.192754</td>\n",
       "      <td>12657.223719</td>\n",
       "      <td>702.272279</td>\n",
       "      <td>718.548083</td>\n",
       "      <td>706.691438</td>\n",
       "      <td>730.400474</td>\n",
       "      <td>0.728044</td>\n",
       "      <td>0.731333</td>\n",
       "      <td>0.729712</td>\n",
       "      <td>0.732968</td>\n",
       "    </tr>\n",
       "    <tr>\n",
       "      <th>195</th>\n",
       "      <td>261</td>\n",
       "      <td>139457</td>\n",
       "      <td>SS</td>\n",
       "      <td>102.148232</td>\n",
       "      <td>170.889676</td>\n",
       "      <td>85.346178</td>\n",
       "      <td>388.694105</td>\n",
       "      <td>21.942127</td>\n",
       "      <td>36.905780</td>\n",
       "      <td>22.828550</td>\n",
       "      <td>...</td>\n",
       "      <td>42910.648671</td>\n",
       "      <td>174533.785012</td>\n",
       "      <td>710.772357</td>\n",
       "      <td>1050.007873</td>\n",
       "      <td>579.015875</td>\n",
       "      <td>1977.587696</td>\n",
       "      <td>0.485541</td>\n",
       "      <td>0.617546</td>\n",
       "      <td>0.436024</td>\n",
       "      <td>0.769011</td>\n",
       "    </tr>\n",
       "    <tr>\n",
       "      <th>202</th>\n",
       "      <td>268</td>\n",
       "      <td>239960</td>\n",
       "      <td>SS</td>\n",
       "      <td>57.254745</td>\n",
       "      <td>81.777702</td>\n",
       "      <td>66.757646</td>\n",
       "      <td>94.061159</td>\n",
       "      <td>12.070671</td>\n",
       "      <td>19.112999</td>\n",
       "      <td>13.797723</td>\n",
       "      <td>...</td>\n",
       "      <td>23253.994026</td>\n",
       "      <td>59169.585587</td>\n",
       "      <td>648.584245</td>\n",
       "      <td>772.258323</td>\n",
       "      <td>686.727267</td>\n",
       "      <td>835.130096</td>\n",
       "      <td>0.441833</td>\n",
       "      <td>0.608797</td>\n",
       "      <td>0.494784</td>\n",
       "      <td>0.695354</td>\n",
       "    </tr>\n",
       "    <tr>\n",
       "      <th>216</th>\n",
       "      <td>282</td>\n",
       "      <td>hip63510</td>\n",
       "      <td>SS</td>\n",
       "      <td>NaN</td>\n",
       "      <td>NaN</td>\n",
       "      <td>NaN</td>\n",
       "      <td>NaN</td>\n",
       "      <td>NaN</td>\n",
       "      <td>NaN</td>\n",
       "      <td>NaN</td>\n",
       "      <td>...</td>\n",
       "      <td>4903.636525</td>\n",
       "      <td>5059.482569</td>\n",
       "      <td>1234.371120</td>\n",
       "      <td>1228.072497</td>\n",
       "      <td>1180.428573</td>\n",
       "      <td>1276.830851</td>\n",
       "      <td>0.312515</td>\n",
       "      <td>0.310288</td>\n",
       "      <td>0.282735</td>\n",
       "      <td>0.339570</td>\n",
       "    </tr>\n",
       "    <tr>\n",
       "      <th>222</th>\n",
       "      <td>289</td>\n",
       "      <td>127506</td>\n",
       "      <td>SS</td>\n",
       "      <td>35.571482</td>\n",
       "      <td>35.534868</td>\n",
       "      <td>34.587518</td>\n",
       "      <td>36.484234</td>\n",
       "      <td>3.370110</td>\n",
       "      <td>3.373408</td>\n",
       "      <td>3.325292</td>\n",
       "      <td>...</td>\n",
       "      <td>2641.600088</td>\n",
       "      <td>2683.585072</td>\n",
       "      <td>897.260818</td>\n",
       "      <td>896.184799</td>\n",
       "      <td>892.737748</td>\n",
       "      <td>899.745300</td>\n",
       "      <td>0.691646</td>\n",
       "      <td>0.691684</td>\n",
       "      <td>0.687659</td>\n",
       "      <td>0.695862</td>\n",
       "    </tr>\n",
       "  </tbody>\n",
       "</table>\n",
       "<p>8 rows × 23 columns</p>\n",
       "</div>"
      ],
      "text/plain": [
       "     Unnamed: 0  hostname status        mass    mass_med  mass_minus  \\\n",
       "27           32    116321     SS   50.662192  130.550149   74.569845   \n",
       "59           71    157338     SS  124.416924  146.258736   99.582039   \n",
       "172         228     87359     SS   56.424887  147.143529   76.199497   \n",
       "177         234      4747     SS   48.088313   49.144831   47.490647   \n",
       "195         261    139457     SS  102.148232  170.889676   85.346178   \n",
       "202         268    239960     SS   57.254745   81.777702   66.757646   \n",
       "216         282  hip63510     SS         NaN         NaN         NaN   \n",
       "222         289    127506     SS   35.571482   35.534868   34.587518   \n",
       "\n",
       "      mass_plus       axis   axis_med  axis_minus  ...     per_minus  \\\n",
       "27   226.267222   7.726527  16.282146    8.735236  ...   7879.896862   \n",
       "59   199.964474  17.543707  24.328158   17.277640  ...  26447.880660   \n",
       "172  261.851676  14.558902  20.789006   16.006022  ...  23717.585175   \n",
       "177   50.825784   9.774699   9.855719    9.681936  ...  12234.192754   \n",
       "195  388.694105  21.942127  36.905780   22.828550  ...  42910.648671   \n",
       "202   94.061159  12.070671  19.112999   13.797723  ...  23253.994026   \n",
       "216         NaN        NaN        NaN         NaN  ...   4903.636525   \n",
       "222   36.484234   3.370110   3.373408    3.325292  ...   2641.600088   \n",
       "\n",
       "          per_plus            k        k_med      k_minus       k_plus  \\\n",
       "27    59098.778241   435.279112   844.464984   566.243664  1810.602398   \n",
       "59    71035.054449   990.658489  1064.700778   752.437988  1436.283555   \n",
       "172   48023.930877   427.305766   856.082769   522.898405  1327.831028   \n",
       "177   12657.223719   702.272279   718.548083   706.691438   730.400474   \n",
       "195  174533.785012   710.772357  1050.007873   579.015875  1977.587696   \n",
       "202   59169.585587   648.584245   772.258323   686.727267   835.130096   \n",
       "216    5059.482569  1234.371120  1228.072497  1180.428573  1276.830851   \n",
       "222    2683.585072   897.260818   896.184799   892.737748   899.745300   \n",
       "\n",
       "            e     e_med   e_minus    e_plus  \n",
       "27   0.107801  0.641658  0.308283  0.825405  \n",
       "59   0.605454  0.680955  0.610324  0.748611  \n",
       "172  0.082663  0.160501  0.105506  0.220733  \n",
       "177  0.728044  0.731333  0.729712  0.732968  \n",
       "195  0.485541  0.617546  0.436024  0.769011  \n",
       "202  0.441833  0.608797  0.494784  0.695354  \n",
       "216  0.312515  0.310288  0.282735  0.339570  \n",
       "222  0.691646  0.691684  0.687659  0.695862  \n",
       "\n",
       "[8 rows x 23 columns]"
      ]
     },
     "execution_count": 10,
     "metadata": {},
     "output_type": "execute_result"
    }
   ],
   "source": [
    "masses_real.query('status == \"SS\"')"
   ]
  },
  {
   "cell_type": "code",
   "execution_count": 11,
   "metadata": {},
   "outputs": [
    {
     "name": "stdout",
     "output_type": "stream",
     "text": [
      "157 20\n"
     ]
    }
   ],
   "source": [
    "print(len(masses_old), len(masses_new))"
   ]
  },
  {
   "cell_type": "markdown",
   "metadata": {},
   "source": [
    "## Pull Specmatch metallicities into planet properties. In 'Masses_good_with_specmatch'."
   ]
  },
  {
   "cell_type": "code",
   "execution_count": 11,
   "metadata": {
    "scrolled": true
   },
   "outputs": [],
   "source": [
    "merge_columns = list(masses_good.columns)\n",
    "merge_columns.append('fe')\n",
    "m_good_spec = pd.DataFrame(columns=merge_columns)\n",
    "\n",
    "masses_good['name'] = masses_good['hostname']\n",
    "m_good_spec = pd.merge(masses_good, specmatch, on=['name'])"
   ]
  },
  {
   "cell_type": "code",
   "execution_count": 14,
   "metadata": {},
   "outputs": [],
   "source": [
    "m_good_spec['sep'] = m_good_spec['axis']*m_good_spec['iso_parallax_emp']\n",
    "m_good_spec['sep_med'] = m_good_spec['axis_med']*m_good_spec['iso_parallax_emp']\n",
    "m_good_spec['sep_minus'] = m_good_spec['axis_minus']*m_good_spec['iso_parallax_emp']\n",
    "m_good_spec['sep_plus'] = m_good_spec['axis_plus']*m_good_spec['iso_parallax_emp']"
   ]
  },
  {
   "cell_type": "code",
   "execution_count": 15,
   "metadata": {},
   "outputs": [],
   "source": [
    "for_imaging = m_good_spec.query('sep_med > 0.2 and mass_med < 15 and hostname != \"95128\" and\\\n",
    "        status != \"S\"')[['hostname', 'mass', 'mass_med', 'mass_minus', 'mass_plus',\n",
    "                        'axis', 'axis_med', 'axis_minus', 'axis_plus',\n",
    "                        'per', 'per_med', 'per_minus', 'per_plus',\n",
    "                        'e', 'e_med', 'e_minus', 'e_plus', 'status',\n",
    "                        'sep', 'sep_med', 'sep_minus', 'sep_plus',\n",
    "                        'teff_c', 'teff_err_c', 'fe_c', 'fe_err_c', \n",
    "                        'logg_c', 'logg_err_c', 'radius_c', 'radius_err_c', \n",
    "                        'mass_c', 'mass_err_c', 'iso_parallax_emp']].reset_index(drop=True)"
   ]
  },
  {
   "cell_type": "code",
   "execution_count": 18,
   "metadata": {},
   "outputs": [
    {
     "data": {
      "text/html": [
       "<div>\n",
       "<style scoped>\n",
       "    .dataframe tbody tr th:only-of-type {\n",
       "        vertical-align: middle;\n",
       "    }\n",
       "\n",
       "    .dataframe tbody tr th {\n",
       "        vertical-align: top;\n",
       "    }\n",
       "\n",
       "    .dataframe thead th {\n",
       "        text-align: right;\n",
       "    }\n",
       "</style>\n",
       "<table border=\"1\" class=\"dataframe\">\n",
       "  <thead>\n",
       "    <tr style=\"text-align: right;\">\n",
       "      <th></th>\n",
       "      <th>hostname</th>\n",
       "      <th>status</th>\n",
       "      <th>axis_med</th>\n",
       "      <th>per_med</th>\n",
       "      <th>mass_med</th>\n",
       "      <th>mass_plus</th>\n",
       "      <th>sep</th>\n",
       "      <th>sep_med</th>\n",
       "      <th>iso_parallax_emp</th>\n",
       "    </tr>\n",
       "  </thead>\n",
       "  <tbody>\n",
       "    <tr>\n",
       "      <th>5</th>\n",
       "      <td>213472</td>\n",
       "      <td>C</td>\n",
       "      <td>1.375000e+01</td>\n",
       "      <td>1.820500e+04</td>\n",
       "      <td>2.931000</td>\n",
       "      <td>3.368000</td>\n",
       "      <td>0.167723</td>\n",
       "      <td>2.129380e-01</td>\n",
       "      <td>0.015486</td>\n",
       "    </tr>\n",
       "    <tr>\n",
       "      <th>12</th>\n",
       "      <td>87883</td>\n",
       "      <td>K</td>\n",
       "      <td>4.081737e+00</td>\n",
       "      <td>3.313515e+03</td>\n",
       "      <td>2.285733</td>\n",
       "      <td>2.355144</td>\n",
       "      <td>0.222799</td>\n",
       "      <td>2.230347e-01</td>\n",
       "      <td>0.054642</td>\n",
       "    </tr>\n",
       "    <tr>\n",
       "      <th>3</th>\n",
       "      <td>154345</td>\n",
       "      <td>K</td>\n",
       "      <td>4.125304e+00</td>\n",
       "      <td>3.267915e+03</td>\n",
       "      <td>1.119474</td>\n",
       "      <td>1.163701</td>\n",
       "      <td>0.225517</td>\n",
       "      <td>2.255040e-01</td>\n",
       "      <td>0.054664</td>\n",
       "    </tr>\n",
       "    <tr>\n",
       "      <th>1</th>\n",
       "      <td>114783</td>\n",
       "      <td>K</td>\n",
       "      <td>4.981847e+00</td>\n",
       "      <td>4.358684e+03</td>\n",
       "      <td>0.639728</td>\n",
       "      <td>0.687432</td>\n",
       "      <td>0.235318</td>\n",
       "      <td>2.363797e-01</td>\n",
       "      <td>0.047448</td>\n",
       "    </tr>\n",
       "    <tr>\n",
       "      <th>13</th>\n",
       "      <td>92788</td>\n",
       "      <td>K</td>\n",
       "      <td>8.332286e+00</td>\n",
       "      <td>8.322224e+03</td>\n",
       "      <td>2.876057</td>\n",
       "      <td>3.096444</td>\n",
       "      <td>0.241198</td>\n",
       "      <td>2.402040e-01</td>\n",
       "      <td>0.028828</td>\n",
       "    </tr>\n",
       "    <tr>\n",
       "      <th>19</th>\n",
       "      <td>hip22627</td>\n",
       "      <td>K</td>\n",
       "      <td>2.998109e+00</td>\n",
       "      <td>2.332308e+03</td>\n",
       "      <td>1.162807</td>\n",
       "      <td>1.232546</td>\n",
       "      <td>0.242743</td>\n",
       "      <td>2.425578e-01</td>\n",
       "      <td>0.080904</td>\n",
       "    </tr>\n",
       "    <tr>\n",
       "      <th>4</th>\n",
       "      <td>190360</td>\n",
       "      <td>K</td>\n",
       "      <td>4.005626e+00</td>\n",
       "      <td>2.884034e+03</td>\n",
       "      <td>1.537087</td>\n",
       "      <td>1.600752</td>\n",
       "      <td>0.250123</td>\n",
       "      <td>2.501285e-01</td>\n",
       "      <td>0.062444</td>\n",
       "    </tr>\n",
       "    <tr>\n",
       "      <th>10</th>\n",
       "      <td>50499</td>\n",
       "      <td>K</td>\n",
       "      <td>1.172958e+01</td>\n",
       "      <td>1.282676e+04</td>\n",
       "      <td>3.659795</td>\n",
       "      <td>5.005800</td>\n",
       "      <td>0.216016</td>\n",
       "      <td>2.530832e-01</td>\n",
       "      <td>0.021576</td>\n",
       "    </tr>\n",
       "    <tr>\n",
       "      <th>2</th>\n",
       "      <td>134987</td>\n",
       "      <td>K</td>\n",
       "      <td>6.756415e+00</td>\n",
       "      <td>5.980288e+03</td>\n",
       "      <td>0.951600</td>\n",
       "      <td>1.032460</td>\n",
       "      <td>0.256581</td>\n",
       "      <td>2.578775e-01</td>\n",
       "      <td>0.038168</td>\n",
       "    </tr>\n",
       "    <tr>\n",
       "      <th>17</th>\n",
       "      <td>hip109388</td>\n",
       "      <td>K</td>\n",
       "      <td>2.605747e+00</td>\n",
       "      <td>1.942382e+03</td>\n",
       "      <td>1.036577</td>\n",
       "      <td>1.084759</td>\n",
       "      <td>0.295847</td>\n",
       "      <td>2.960129e-01</td>\n",
       "      <td>0.113600</td>\n",
       "    </tr>\n",
       "    <tr>\n",
       "      <th>6</th>\n",
       "      <td>217107</td>\n",
       "      <td>K</td>\n",
       "      <td>6.044655e+00</td>\n",
       "      <td>5.142934e+03</td>\n",
       "      <td>4.449288</td>\n",
       "      <td>4.660173</td>\n",
       "      <td>0.300792</td>\n",
       "      <td>3.011266e-01</td>\n",
       "      <td>0.049817</td>\n",
       "    </tr>\n",
       "    <tr>\n",
       "      <th>9</th>\n",
       "      <td>26161</td>\n",
       "      <td>J</td>\n",
       "      <td>1.494000e+01</td>\n",
       "      <td>2.044800e+04</td>\n",
       "      <td>4.672000</td>\n",
       "      <td>5.719000</td>\n",
       "      <td>0.364736</td>\n",
       "      <td>3.647362e-01</td>\n",
       "      <td>0.024413</td>\n",
       "    </tr>\n",
       "    <tr>\n",
       "      <th>7</th>\n",
       "      <td>219134</td>\n",
       "      <td>K</td>\n",
       "      <td>2.916761e+00</td>\n",
       "      <td>2.042731e+03</td>\n",
       "      <td>0.315538</td>\n",
       "      <td>0.329793</td>\n",
       "      <td>0.446183</td>\n",
       "      <td>4.465002e-01</td>\n",
       "      <td>0.153081</td>\n",
       "    </tr>\n",
       "    <tr>\n",
       "      <th>11</th>\n",
       "      <td>75732</td>\n",
       "      <td>K</td>\n",
       "      <td>5.836845e+00</td>\n",
       "      <td>5.190700e+03</td>\n",
       "      <td>4.407264</td>\n",
       "      <td>4.953757</td>\n",
       "      <td>0.464988</td>\n",
       "      <td>4.636054e-01</td>\n",
       "      <td>0.079427</td>\n",
       "    </tr>\n",
       "    <tr>\n",
       "      <th>18</th>\n",
       "      <td>hip109388</td>\n",
       "      <td>C</td>\n",
       "      <td>5.382638e+00</td>\n",
       "      <td>5.765703e+03</td>\n",
       "      <td>1.274642</td>\n",
       "      <td>1.341802</td>\n",
       "      <td>0.607446</td>\n",
       "      <td>6.114676e-01</td>\n",
       "      <td>0.113600</td>\n",
       "    </tr>\n",
       "    <tr>\n",
       "      <th>20</th>\n",
       "      <td>120066</td>\n",
       "      <td>K</td>\n",
       "      <td>2.447138e+01</td>\n",
       "      <td>4.230580e+04</td>\n",
       "      <td>3.262803</td>\n",
       "      <td>3.448550</td>\n",
       "      <td>0.500069</td>\n",
       "      <td>7.771329e-01</td>\n",
       "      <td>0.031757</td>\n",
       "    </tr>\n",
       "    <tr>\n",
       "      <th>16</th>\n",
       "      <td>gl317</td>\n",
       "      <td>K</td>\n",
       "      <td>1.376524e+01</td>\n",
       "      <td>2.260619e+04</td>\n",
       "      <td>2.558979</td>\n",
       "      <td>2.915386</td>\n",
       "      <td>0.524046</td>\n",
       "      <td>9.054006e-01</td>\n",
       "      <td>0.065774</td>\n",
       "    </tr>\n",
       "    <tr>\n",
       "      <th>0</th>\n",
       "      <td>145675</td>\n",
       "      <td>C</td>\n",
       "      <td>1.750513e+01</td>\n",
       "      <td>2.680141e+04</td>\n",
       "      <td>6.186677</td>\n",
       "      <td>7.168676</td>\n",
       "      <td>0.888850</td>\n",
       "      <td>9.756709e-01</td>\n",
       "      <td>0.055736</td>\n",
       "    </tr>\n",
       "    <tr>\n",
       "      <th>8</th>\n",
       "      <td>22049</td>\n",
       "      <td>K</td>\n",
       "      <td>3.507676e+00</td>\n",
       "      <td>2.637815e+03</td>\n",
       "      <td>0.694983</td>\n",
       "      <td>0.734756</td>\n",
       "      <td>1.092301</td>\n",
       "      <td>1.090677e+00</td>\n",
       "      <td>0.310940</td>\n",
       "    </tr>\n",
       "    <tr>\n",
       "      <th>14</th>\n",
       "      <td>95735</td>\n",
       "      <td>C</td>\n",
       "      <td>3.386528e+00</td>\n",
       "      <td>2.961690e+03</td>\n",
       "      <td>0.077636</td>\n",
       "      <td>0.089377</td>\n",
       "      <td>1.290801</td>\n",
       "      <td>1.329687e+00</td>\n",
       "      <td>0.392640</td>\n",
       "    </tr>\n",
       "    <tr>\n",
       "      <th>15</th>\n",
       "      <td>181234</td>\n",
       "      <td>K</td>\n",
       "      <td>1.615457e+10</td>\n",
       "      <td>7.467263e+17</td>\n",
       "      <td>-1010.326479</td>\n",
       "      <td>-971.500328</td>\n",
       "      <td>0.120319</td>\n",
       "      <td>3.378809e+08</td>\n",
       "      <td>0.020916</td>\n",
       "    </tr>\n",
       "  </tbody>\n",
       "</table>\n",
       "</div>"
      ],
      "text/plain": [
       "     hostname status      axis_med       per_med     mass_med   mass_plus  \\\n",
       "5      213472      C  1.375000e+01  1.820500e+04     2.931000    3.368000   \n",
       "12      87883      K  4.081737e+00  3.313515e+03     2.285733    2.355144   \n",
       "3      154345      K  4.125304e+00  3.267915e+03     1.119474    1.163701   \n",
       "1      114783      K  4.981847e+00  4.358684e+03     0.639728    0.687432   \n",
       "13      92788      K  8.332286e+00  8.322224e+03     2.876057    3.096444   \n",
       "19   hip22627      K  2.998109e+00  2.332308e+03     1.162807    1.232546   \n",
       "4      190360      K  4.005626e+00  2.884034e+03     1.537087    1.600752   \n",
       "10      50499      K  1.172958e+01  1.282676e+04     3.659795    5.005800   \n",
       "2      134987      K  6.756415e+00  5.980288e+03     0.951600    1.032460   \n",
       "17  hip109388      K  2.605747e+00  1.942382e+03     1.036577    1.084759   \n",
       "6      217107      K  6.044655e+00  5.142934e+03     4.449288    4.660173   \n",
       "9       26161      J  1.494000e+01  2.044800e+04     4.672000    5.719000   \n",
       "7      219134      K  2.916761e+00  2.042731e+03     0.315538    0.329793   \n",
       "11      75732      K  5.836845e+00  5.190700e+03     4.407264    4.953757   \n",
       "18  hip109388      C  5.382638e+00  5.765703e+03     1.274642    1.341802   \n",
       "20     120066      K  2.447138e+01  4.230580e+04     3.262803    3.448550   \n",
       "16      gl317      K  1.376524e+01  2.260619e+04     2.558979    2.915386   \n",
       "0      145675      C  1.750513e+01  2.680141e+04     6.186677    7.168676   \n",
       "8       22049      K  3.507676e+00  2.637815e+03     0.694983    0.734756   \n",
       "14      95735      C  3.386528e+00  2.961690e+03     0.077636    0.089377   \n",
       "15     181234      K  1.615457e+10  7.467263e+17 -1010.326479 -971.500328   \n",
       "\n",
       "         sep       sep_med  iso_parallax_emp  \n",
       "5   0.167723  2.129380e-01          0.015486  \n",
       "12  0.222799  2.230347e-01          0.054642  \n",
       "3   0.225517  2.255040e-01          0.054664  \n",
       "1   0.235318  2.363797e-01          0.047448  \n",
       "13  0.241198  2.402040e-01          0.028828  \n",
       "19  0.242743  2.425578e-01          0.080904  \n",
       "4   0.250123  2.501285e-01          0.062444  \n",
       "10  0.216016  2.530832e-01          0.021576  \n",
       "2   0.256581  2.578775e-01          0.038168  \n",
       "17  0.295847  2.960129e-01          0.113600  \n",
       "6   0.300792  3.011266e-01          0.049817  \n",
       "9   0.364736  3.647362e-01          0.024413  \n",
       "7   0.446183  4.465002e-01          0.153081  \n",
       "11  0.464988  4.636054e-01          0.079427  \n",
       "18  0.607446  6.114676e-01          0.113600  \n",
       "20  0.500069  7.771329e-01          0.031757  \n",
       "16  0.524046  9.054006e-01          0.065774  \n",
       "0   0.888850  9.756709e-01          0.055736  \n",
       "8   1.092301  1.090677e+00          0.310940  \n",
       "14  1.290801  1.329687e+00          0.392640  \n",
       "15  0.120319  3.378809e+08          0.020916  "
      ]
     },
     "execution_count": 18,
     "metadata": {},
     "output_type": "execute_result"
    }
   ],
   "source": [
    "for_imaging[['hostname', 'status', 'axis_med', 'per_med', 'mass_med', 'mass_plus', 'sep', 'sep_med', 'iso_parallax_emp']].sort_values(by='sep_med')"
   ]
  },
  {
   "cell_type": "markdown",
   "metadata": {},
   "source": [
    "## Filter out planet candidates beyond 2 AU and above 0.1 M_Jup, and stars with measured metallicity < -0.6 (bad measurement)."
   ]
  },
  {
   "cell_type": "code",
   "execution_count": 17,
   "metadata": {
    "scrolled": true
   },
   "outputs": [
    {
     "name": "stdout",
     "output_type": "stream",
     "text": [
      "225 103\n"
     ]
    }
   ],
   "source": [
    "good_spec_filter = m_good_spec.query('fe > -0.6 and axis < 5 and mass > 0.1 and (status == \"K\" or status == \"C\")')#('fe > -0.6 and axis < 5 and mass > 0.1')\n",
    "print(len(m_good_spec), len(good_spec_filter))"
   ]
  },
  {
   "cell_type": "markdown",
   "metadata": {},
   "source": [
    "## Overplot total sample histogram in metallicity, and eccentricity/metallicity scatterplot for planets."
   ]
  },
  {
   "cell_type": "code",
   "execution_count": 72,
   "metadata": {},
   "outputs": [
    {
     "data": {
      "image/png": "[encoded data removed]",
      "text/plain": [
       "<Figure size 432x288 with 2 Axes>"
      ]
     },
     "metadata": {
      "needs_background": "light"
     },
     "output_type": "display_data"
    }
   ],
   "source": [
    "fig, ax = plt.subplots()\n",
    "matplotlib.rcParams.update({'font.size': 14})\n",
    "#plt.title('a < 5 AU, M > 0.05 MJup')\n",
    "plt.title('Eccentricity and Metallicity')\n",
    "#matplotlib.rcParams.update({'font.size': 14})\n",
    "ln1 = ax.scatter(good_spec_filter.fe, good_spec_filter.e, s=list(50*good_spec_filter.mass), \n",
    "                alpha=0.75, c='red', label=r'Size $\\propto$ Msini')\n",
    "\n",
    "#Accurately calculate median for planet hosts, don't duplicate metallicity for each planet.\n",
    "unique_fe = np.unique(good_spec_filter.fe)\n",
    "median_fe = np.median(unique_fe)\n",
    "mad_fe = astrostats.mad_std(unique_fe)\n",
    "#matplotlib.rcParams.update({'font.size': 14})\n",
    "ln2 = ax.axvline(x=median_fe, c='red', ls='--', label='Planet host med.')\n",
    "#matplotlib.rcParams.update({'font.size': 14})\n",
    "ax.set_xlabel('[Fe/H]')\n",
    "ax.set_ylabel('Eccentricity')\n",
    "ax.set_xlim([-0.75, 0.5])\n",
    "ax.set_ylim([0, 1])\n",
    "#matplotlib.rcParams.update({'font.size': 14})\n",
    "matplotlib.rcParams.update({'font.size': 10})\n",
    "ax2 = ax.twinx()\n",
    "ln3 = ax2.hist(fe_select, bins=40, histtype='step', color='purple', density=True, label='CLS Sample')\n",
    "median_sample_fe = np.median(fe_select)\n",
    "#mad_sample_fe = astrostats.median_absolute_deviation(specmatch.fe)\n",
    "mad_sample_fe = astrostats.mad_std(fe_select)\n",
    "ln4 = ax2.axvline(x=median_sample_fe, c='purple', ls='--', label='Sample med.')\n",
    "ax.axvline(x=median_sample_fe+mad_sample_fe, c='purple', ls=':', label=r'Sample $\\sigma$')\n",
    "ax.axvline(x=median_sample_fe-mad_sample_fe, c='purple', ls=':')\n",
    "ax2.set_ylabel('Number density')\n",
    "#ax2.set_ylim([0, 1])\n",
    "\n",
    "lines, labels = ax.get_legend_handles_labels()\n",
    "lines2, labels2 = ax2.get_legend_handles_labels()\n",
    "matplotlib.rcParams.update({'font.size': 10})\n",
    "ax2.legend(lines2 + lines, labels2 + labels, loc=2)\n",
    "\n",
    "fig.savefig('analysis_plots/fe_eccentricity_hist.png', dpi=1000)"
   ]
  },
  {
   "cell_type": "code",
   "execution_count": 12,
   "metadata": {},
   "outputs": [
    {
     "data": {
      "image/png": "[encoded data removed]",
      "text/plain": [
       "<Figure size 432x288 with 1 Axes>"
      ]
     },
     "metadata": {
      "needs_background": "light"
     },
     "output_type": "display_data"
    }
   ],
   "source": [
    "fig, ax = plt.subplots()\n",
    "plt.title('a < 5 AU, M > 0.05 MJup')\n",
    "\n",
    "# Accurately calculate median for planet hosts, don't duplicate metallicity for each planet.\n",
    "unique_fe = np.unique(good_spec_filter.fe)\n",
    "median_fe = np.median(unique_fe)\n",
    "mad_fe = astrostats.mad_std(unique_fe)\n",
    "\n",
    "ln1 = ax.hist(unique_fe, bins=20, histtype='stepfilled', color='green', \n",
    "              alpha=1, density=False, label='Host stars')\n",
    "ln2 = ax.axvline(x=median_fe, c='green', ls='--', label='Planet host median')\n",
    "ax.set_xlabel('[Fe/H]')\n",
    "ax.set_ylabel('Number')\n",
    "\n",
    "ln3 = ax.hist(fe_select, bins=50, histtype='stepfilled', color='blue', \n",
    "               alpha=0.5, density=False, label='Sample')\n",
    "median_sample_fe = np.median(specmatch.fe)\n",
    "mad_sample_fe = astrostats.mad_std(specmatch.fe)\n",
    "ln4 = ax.axvline(x=median_sample_fe, c='purple', ls='--', label='Sample median')\n",
    "\n",
    "lines, labels = ax.get_legend_handles_labels()\n",
    "ax.legend()\n",
    "\n",
    "fig.savefig('planet_candidates/fe_two_hist_num.pdf')"
   ]
  },
  {
   "cell_type": "code",
   "execution_count": 73,
   "metadata": {},
   "outputs": [
    {
     "data": {
      "image/png": "[encoded data removed]",
      "text/plain": [
       "<Figure size 432x288 with 2 Axes>"
      ]
     },
     "metadata": {
      "needs_background": "light"
     },
     "output_type": "display_data"
    }
   ],
   "source": [
    "# Overplot peri-distance limit 0.03 AU.\n",
    "axes = np.logspace(np.log10(0.03), np.log10(6))\n",
    "e_max = 1 - 0.03/axes\n",
    "\n",
    "fig, ax = plt.subplots()\n",
    "plt.title('a < 5 AU, M > 0.1 MJup')\n",
    "im = ax.scatter(good_spec_filter.axis, good_spec_filter.e, s=list(50*good_spec_filter.mass), \n",
    "                c=good_spec_filter.fe, alpha=0.75, label=r'Size $\\propto$ Msini')\n",
    "ax.plot(axes, e_max, label=r'$e_{max}$ (0.03 AU)')\n",
    "ax.set_xlabel('Semi-major axis (AU)')\n",
    "ax.set_ylabel('Eccentricity')\n",
    "ax.set_xlim([0.03,6])\n",
    "ax.set_ylim([-0.025,1])\n",
    "ax.set_xscale('log')\n",
    "ax.legend(loc=2)\n",
    "cbar = fig.colorbar(im)\n",
    "cbar.ax.set_ylabel('[Fe/H]')#, rotation=270)\n",
    "fig.savefig('planet_candidates/axis_eccentricity_log_lim.pdf')"
   ]
  },
  {
   "cell_type": "markdown",
   "metadata": {},
   "source": [
    "## Plot eccentricity with confidence intervals."
   ]
  },
  {
   "cell_type": "code",
   "execution_count": 69,
   "metadata": {},
   "outputs": [
    {
     "data": {
      "image/png": "[encoded data removed]",
      "text/plain": [
       "<Figure size 432x288 with 1 Axes>"
      ]
     },
     "metadata": {
      "needs_background": "light"
     },
     "output_type": "display_data"
    }
   ],
   "source": [
    "fig, ax = plt.subplots()\n",
    "matplotlib.rcParams.update({'font.size': 12})\n",
    "plt.title('Axis and Eccentricity')\n",
    "#plt.title('a < 5 AU, M > 0.1 MJup')\n",
    "matplotlib.rcParams.update({'font.size': 12})\n",
    "\n",
    "masses_plot = masses_planet.query('axis_plus/axis_minus < 10 and axis < 10')\n",
    "\n",
    "'''\n",
    "axerr = [masses_plot.axis_med - masses_plot.axis_minus,\n",
    "         masses_plot.axis_plus - masses_plot.axis_med]\n",
    "ecerr = [masses_plot.e_med - masses_plot.e_minus,\n",
    "         masses_plot.e_plus - masses_plot.e_med]\n",
    "\n",
    "ax.errorbar(masses_plot.axis, masses_plot.e_med, \n",
    "            xerr = axerr, yerr = ecerr, fmt='o',\n",
    "            alpha=0.75, c='black')\n",
    "            #size=list(50*masses_planet.mass), \n",
    "            #label=r'Size $\\propto$ Msini')\n",
    "'''\n",
    "ax.scatter(masses_planet.axis_med, masses_planet.e_med, \n",
    "           s=list(30*masses_planet.mass), \n",
    "           c='blue', edgecolors='black', \n",
    "           alpha=0.75, linewidth=2,\n",
    "           label=r'Size $\\propto$ Msini')\n",
    "\n",
    "# Differentiate between circular-consistent and eccentric-consistent.\n",
    "ax.vlines(masses_planet.axis_med, masses_planet.e_minus,\n",
    "          masses_planet.e_plus, alpha=0.5, color='black')\n",
    "\n",
    "ax.set_xlabel('Semi-major axis (AU)')\n",
    "ax.set_ylabel('Eccentricity')\n",
    "ax.set_xlim([0.03, 30])\n",
    "ax.set_ylim([0, 1])\n",
    "ax.set_xscale('log')\n",
    "#ax.legend(loc=2)\n",
    "fig.savefig('analysis_plots/axis_eccentricity_ci.png', dpi=1000)"
   ]
  },
  {
   "cell_type": "markdown",
   "metadata": {},
   "source": [
    "## Make observational stats histograms."
   ]
  },
  {
   "cell_type": "code",
   "execution_count": 76,
   "metadata": {},
   "outputs": [
    {
     "data": {
      "text/plain": [
       "Index(['Unnamed: 0', 'Nobs', 'Nobs_CORAVEL', 'Nobs_apf', 'Nobs_j', 'Nobs_k',\n",
       "       'Nobs_lick', 'Nobs_mcdonald', 'baseline', 'baseline_CORAVEL',\n",
       "       'baseline_apf', 'baseline_j', 'baseline_k', 'baseline_lick',\n",
       "       'baseline_mcdonald', 'med_err_CORAVEL', 'med_err_apf', 'med_err_j',\n",
       "       'med_err_k', 'med_err_lick', 'med_err_mcdonald', 'name'],\n",
       "      dtype='object')"
      ]
     },
     "execution_count": 76,
     "metadata": {},
     "output_type": "execute_result"
    }
   ],
   "source": [
    "obs_stats = pd.read_csv('legacy_tables/observation_stats.csv')\n",
    "obs_stats = obs_stats.query('baseline > 2922 and Nobs > 17')\n",
    "obs_stats.columns"
   ]
  },
  {
   "cell_type": "code",
   "execution_count": 77,
   "metadata": {},
   "outputs": [
    {
     "data": {
      "text/plain": [
       "59210.0"
      ]
     },
     "execution_count": 77,
     "metadata": {},
     "output_type": "execute_result"
    }
   ],
   "source": [
    "np.sum(obs_stats.Nobs_apf) + np.sum(obs_stats.Nobs_j) + \\\n",
    "    np.sum(obs_stats.Nobs_k) + np.sum(obs_stats.Nobs_lick)"
   ]
  },
  {
   "cell_type": "code",
   "execution_count": 78,
   "metadata": {},
   "outputs": [
    {
     "data": {
      "image/png": "[encoded data removed]",
      "text/plain": [
       "<Figure size 432x288 with 2 Axes>"
      ]
     },
     "metadata": {
      "needs_background": "light"
     },
     "output_type": "display_data"
    }
   ],
   "source": [
    "fig, ax = plt.subplots()\n",
    "\n",
    "logobs   = np.log10(obs_stats.Nobs)\n",
    "baseyear = obs_stats.baseline/365.25\n",
    "#extent=(8.5, 35, 16, 630)\n",
    "minobs  = np.amin(logobs)\n",
    "maxobs  = np.amax(logobs)\n",
    "minbase = np.amin(baseyear)\n",
    "maxbase = np.amax(baseyear)\n",
    "hard_extent = (minbase-2, maxbase+2, minobs-0.07, maxobs+0.06)\n",
    "\n",
    "hb = ax.hexbin(baseyear, logobs, gridsize=15, bins='log', \n",
    "               extent=hard_extent, cmap='inferno', mincnt=1)\n",
    "\n",
    "matplotlib.rcParams.update({'font.size': 12})\n",
    "ax.set_title(\"All stars\")\n",
    "ax.set_xlabel('Baseline (yr)')\n",
    "ax.set_ylabel(r'N$_\\mathrm{obs}$')\n",
    "\n",
    "median_base = np.median(baseyear)\n",
    "median_obs  = np.log10(np.median(obs_stats.Nobs))\n",
    "ax.scatter([median_base], [median_obs], color='black', \n",
    "           s=500, alpha='0.5')\n",
    "\n",
    "# Manually set Nobs logarithmic tick marks.\n",
    "\n",
    "def format_fn(tick_val, tick_pos):\n",
    "    return str(int(10**tick_val))\n",
    "\n",
    "#ax.locator_params(axis='y', nbins=1)\n",
    "ax.yaxis.set_major_formatter(FuncFormatter(format_fn))\n",
    "ax.yaxis.set_major_locator(MaxNLocator(integer=True))\n",
    "\n",
    "cb = fig.colorbar(hb, ax=ax)\n",
    "cb.set_label('Number of stars')\n",
    "fig.savefig('legacy_tables/hist_base_nobs_2D.pdf')"
   ]
  },
  {
   "cell_type": "markdown",
   "metadata": {},
   "source": [
    "## Make same plot for stars with planets."
   ]
  },
  {
   "cell_type": "code",
   "execution_count": 79,
   "metadata": {},
   "outputs": [],
   "source": [
    "plnames = np.unique(masses_good.hostname)\n",
    "obs_known = obs_stats.loc[obs_stats['name'].isin(plnames)]\n",
    "obs_none = obs_stats.loc[~obs_stats['name'].isin(plnames)]"
   ]
  },
  {
   "cell_type": "code",
   "execution_count": 80,
   "metadata": {},
   "outputs": [
    {
     "data": {
      "text/plain": [
       "160"
      ]
     },
     "execution_count": 80,
     "metadata": {},
     "output_type": "execute_result"
    }
   ],
   "source": [
    "len(obs_known)"
   ]
  },
  {
   "cell_type": "code",
   "execution_count": 81,
   "metadata": {},
   "outputs": [
    {
     "data": {
      "image/png": "[encoded data removed]",
      "text/plain": [
       "<Figure size 432x288 with 2 Axes>"
      ]
     },
     "metadata": {
      "needs_background": "light"
     },
     "output_type": "display_data"
    }
   ],
   "source": [
    "fig, ax = plt.subplots()\n",
    "hb = ax.hexbin(obs_known.baseline/365.25, np.log10(obs_known.Nobs), \n",
    "               extent=hard_extent, gridsize=15, bins='log', \n",
    "               cmap='inferno', mincnt=1)\n",
    "ax.set_title(\"Stars with detections\")\n",
    "ax.set_xlabel('Baseline (yr)')\n",
    "ax.set_ylabel(r'N$_\\mathrm{obs}$')\n",
    "\n",
    "median_base = np.median(obs_known.baseline/365.25)\n",
    "median_obs  = np.log10(np.median(obs_known.Nobs))\n",
    "ax.scatter([median_base], [median_obs], color='black', \n",
    "           s=500, alpha='0.5')\n",
    "\n",
    "# Manually set Nobs logarithmic tick marks.\n",
    "def format_fn(tick_val, tick_pos):\n",
    "    return str(int(10**tick_val))\n",
    "\n",
    "#ax.locator_params(axis='y', nbins=1)\n",
    "ax.yaxis.set_major_formatter(FuncFormatter(format_fn))\n",
    "ax.yaxis.set_major_locator(MaxNLocator(integer=True))\n",
    "\n",
    "cb = fig.colorbar(hb, ax=ax)\n",
    "cb.set_label('Number of stars')\n",
    "fig.savefig('legacy_tables/hist_base_nobs_2D_planets.pdf')"
   ]
  },
  {
   "cell_type": "code",
   "execution_count": 82,
   "metadata": {},
   "outputs": [
    {
     "name": "stdout",
     "output_type": "stream",
     "text": [
      "47.0 76.5 40.0\n"
     ]
    }
   ],
   "source": [
    "print(np.median(obs_stats.Nobs), np.median(obs_known.Nobs), np.median(obs_none.Nobs))"
   ]
  },
  {
   "cell_type": "code",
   "execution_count": 83,
   "metadata": {},
   "outputs": [
    {
     "data": {
      "image/png": "[encoded data removed]",
      "text/plain": [
       "<Figure size 432x288 with 2 Axes>"
      ]
     },
     "metadata": {
      "needs_background": "light"
     },
     "output_type": "display_data"
    }
   ],
   "source": [
    "fig, ax = plt.subplots()\n",
    "hb = ax.hexbin(obs_none.baseline/365.25, np.log10(obs_none.Nobs), \n",
    "               extent=hard_extent, gridsize=15, bins='log', \n",
    "               cmap='inferno', mincnt=1)\n",
    "ax.set_title(\"Stars without detections\")\n",
    "ax.set_xlabel('Baseline (yr)')\n",
    "ax.set_ylabel(r'N$_\\mathrm{obs}$')\n",
    "#ax.set_ylabel(r'log$_{10}$(N$_\\mathrm{obs}$)')\n",
    "\n",
    "median_base = np.median(obs_none.baseline/365.25)\n",
    "median_obs  = np.log10(np.median(obs_none.Nobs))\n",
    "ax.scatter([median_base], [median_obs], color='black', \n",
    "           s=500, alpha='0.5')\n",
    "\n",
    "# Manually set Nobs logarithmic tick marks.\n",
    "def format_fn(tick_val, tick_pos):\n",
    "    return str(int(10**tick_val))\n",
    "ax.yaxis.set_major_formatter(FuncFormatter(format_fn))\n",
    "ax.yaxis.set_major_locator(MaxNLocator(integer=True))\n",
    "\n",
    "cb = fig.colorbar(hb, ax=ax)\n",
    "cb.set_label('Number of stars')\n",
    "fig.savefig('legacy_tables/hist_base_nobs_2D_none.pdf')"
   ]
  },
  {
   "cell_type": "code",
   "execution_count": 20,
   "metadata": {},
   "outputs": [
    {
     "data": {
      "image/png": "[encoded data removed]",
      "text/plain": [
       "<Figure size 432x288 with 1 Axes>"
      ]
     },
     "metadata": {
      "needs_background": "light"
     },
     "output_type": "display_data"
    }
   ],
   "source": [
    "fig, ax = plt.subplots()\n",
    "ax.hist(obs_stats.query('med_err_j < 5').med_err_j, bins=25, histtype='step', \n",
    "        color='blue', alpha=0.8, density=False, label='Host stars')\n",
    "ax.set(xlabel='Median error (m/s)', ylabel='Number')\n",
    "ax.set_title('HIRES post-upgrade median errors, excluding outliers')\n",
    "fig.savefig('legacy_tables/hist_HIRES_post_err.pdf')"
   ]
  },
  {
   "cell_type": "code",
   "execution_count": 21,
   "metadata": {},
   "outputs": [
    {
     "data": {
      "image/png": "[encoded data removed]",
      "text/plain": [
       "<Figure size 432x288 with 1 Axes>"
      ]
     },
     "metadata": {
      "needs_background": "light"
     },
     "output_type": "display_data"
    }
   ],
   "source": [
    "fig, ax = plt.subplots() #.query('med_err_j < 5')\n",
    "ax.hist(obs_stats.med_err_apf, bins=15, histtype='step', color='green', \n",
    "              alpha=0.8, density=False, label='Host stars')\n",
    "ax.set(xlabel='Median error (m/s)', ylabel='Number')\n",
    "ax.set_title('APF median errors')\n",
    "fig.savefig('legacy_tables/hist_APF_err.pdf')"
   ]
  },
  {
   "cell_type": "code",
   "execution_count": 180,
   "metadata": {},
   "outputs": [
    {
     "data": {
      "image/png": "[encoded data removed]",
      "text/plain": [
       "<Figure size 432x288 with 1 Axes>"
      ]
     },
     "metadata": {
      "needs_background": "light"
     },
     "output_type": "display_data"
    }
   ],
   "source": [
    "fig, ax = plt.subplots()\n",
    "ax.hist(obs_stats.Nobs_j + obs_stats.Nobs_k, bins=20, histtype='stepfilled', color='blue', \n",
    "              alpha=0.8, density=False, label='Host stars')\n",
    "ax.set(xlabel='Number of observations', ylabel='Number')\n",
    "ax.set_xlim([20,350])\n",
    "ax.set_title('HIRES observations')\n",
    "fig.savefig('legacy_tables/hist_HIRES_nobs.pdf')"
   ]
  },
  {
   "cell_type": "code",
   "execution_count": 143,
   "metadata": {},
   "outputs": [
    {
     "data": {
      "image/png": "[encoded data removed]",
      "text/plain": [
       "<Figure size 432x288 with 1 Axes>"
      ]
     },
     "metadata": {
      "needs_background": "light"
     },
     "output_type": "display_data"
    }
   ],
   "source": [
    "fig, ax = plt.subplots()\n",
    "ax.hist(obs_stats.Nobs_apf, bins=20, histtype='stepfilled', color='green', \n",
    "              alpha=0.8, density=False, label='Host stars')\n",
    "ax.set(xlabel='Number of observations', ylabel='Number')\n",
    "ax.set_xlim([20,350])\n",
    "ax.set_title('APF observations')\n",
    "fig.savefig('legacy_tables/hist_APF_nobs.pdf')"
   ]
  },
  {
   "cell_type": "code",
   "execution_count": 145,
   "metadata": {},
   "outputs": [
    {
     "data": {
      "image/png": "[encoded data removed]",
      "text/plain": [
       "<Figure size 432x288 with 1 Axes>"
      ]
     },
     "metadata": {
      "needs_background": "light"
     },
     "output_type": "display_data"
    }
   ],
   "source": [
    "fig, ax = plt.subplots()\n",
    "ax.hist(obs_stats.baseline_apf/365.25, bins=10, histtype='stepfilled', color='green', \n",
    "              alpha=0.8, density=False, label='Host stars')\n",
    "ax.set(xlabel='Baseline (yr)', ylabel='Number')\n",
    "ax.set_title('APF baselines')\n",
    "fig.savefig('legacy_tables/hist_APF_base.pdf')"
   ]
  },
  {
   "cell_type": "markdown",
   "metadata": {},
   "source": [
    "## Examine mass and period distributions."
   ]
  },
  {
   "cell_type": "code",
   "execution_count": 53,
   "metadata": {},
   "outputs": [
    {
     "data": {
      "image/png": "[encoded data removed]",
      "text/plain": [
       "<Figure size 432x288 with 1 Axes>"
      ]
     },
     "metadata": {
      "needs_background": "light"
     },
     "output_type": "display_data"
    }
   ],
   "source": [
    "fig, ax = plt.subplots()\n",
    "ax.hist(np.log10(masses_planet.query('mass < 15')['mass']), \n",
    "        bins=10, density=False, histtype='step',# range = (0, 1), \n",
    "        lw=3, color='black', alpha=1, label='All Planets')\n",
    "\n",
    "matplotlib.rcParams.update({'font.size': 11})\n",
    "ax.set(xlabel=r'$M\\mathrm{sin}i/M_J$', \n",
    "          ylabel='Number density')\n",
    "matplotlib.rcParams.update({'font.size': 11})\n",
    "#ax.set_title(r'$M$sin$i$ > 0.1 $M_J$, a > 0.1 AU')\n",
    "        \n",
    "def format_fn(tick_val, tick_pos):\n",
    "    return str(10**tick_val)\n",
    "    #return str(int(10**tick_val))\n",
    "ax.xaxis.set_major_formatter(FuncFormatter(format_fn))\n",
    "ax.xaxis.set_major_locator(MaxNLocator(integer=True))   \n",
    "matplotlib.rcParams.update({'font.size': 11})\n",
    "ax.legend(loc=2)\n",
    "\n",
    "fig.savefig('planet_candidates/mass_histogram_all.png', dpi=1000)"
   ]
  },
  {
   "cell_type": "code",
   "execution_count": 88,
   "metadata": {},
   "outputs": [],
   "source": [
    "masses_close = masses_planet.query('axis < 1 and mass < 15')\n",
    "masses_mid   = masses_planet.query('axis > 1 and axis < 3 and mass < 15')\n",
    "masses_far   = masses_planet.query('axis > 3 and mass < 15')"
   ]
  },
  {
   "cell_type": "code",
   "execution_count": 90,
   "metadata": {},
   "outputs": [
    {
     "data": {
      "image/png": "[encoded data removed]",
      "text/plain": [
       "<Figure size 432x288 with 1 Axes>"
      ]
     },
     "metadata": {
      "needs_background": "light"
     },
     "output_type": "display_data"
    }
   ],
   "source": [
    "mclose = masses_close.mass\n",
    "#thresh_close = np.log10(0.075) #50% completeness threshold\n",
    "\n",
    "fig, ax = plt.subplots()\n",
    "ax.hist(np.log10(mclose), bins=10, density=True, histtype='step',\n",
    "        lw=3, color='black', alpha=1, label='a < 1 AU')\n",
    "\n",
    "matplotlib.rcParams.update({'font.size': 11})\n",
    "ax.set(xlabel=r'$M\\mathrm{sin}i\\ (M_J)$', \n",
    "          ylabel='Number density')\n",
    "matplotlib.rcParams.update({'font.size': 11})\n",
    "#ax.set_title(r'$M$sin$i$ > 0.1 $M_J$, a > 0.1 AU')\n",
    "        \n",
    "def format_fn(tick_val, tick_pos):\n",
    "    return str(10**tick_val)\n",
    "    #return str(int(10**tick_val))\n",
    "ax.xaxis.set_major_formatter(FuncFormatter(format_fn))\n",
    "ax.xaxis.set_major_locator(MaxNLocator(integer=True))   \n",
    "matplotlib.rcParams.update({'font.size': 11})\n",
    "ax.legend(loc=1)\n",
    "\n",
    "fig.savefig('planet_candidates/close_histogram.png', dpi=1000)"
   ]
  },
  {
   "cell_type": "code",
   "execution_count": 17,
   "metadata": {},
   "outputs": [
    {
     "data": {
      "image/png": "[encoded data removed]",
      "text/plain": [
       "<Figure size 432x288 with 1 Axes>"
      ]
     },
     "metadata": {
      "needs_background": "light"
     },
     "output_type": "display_data"
    }
   ],
   "source": [
    "mmid = masses_mid.mass\n",
    "thresh_mid = np.log10(0.15) #50% completeness threshold\n",
    "\n",
    "fig, ax = plt.subplots()\n",
    "ax.hist(np.log10(mmid), bins=10, density=True, histtype='step',\n",
    "        lw=3, color='black', alpha=1, label='1 AU < a < 3 AU')\n",
    "\n",
    "matplotlib.rcParams.update({'font.size': 11})\n",
    "ax.set(xlabel=r'$M\\mathrm{sin}i\\ (M_J)$', \n",
    "          ylabel='Number density')\n",
    "matplotlib.rcParams.update({'font.size': 11})\n",
    "        \n",
    "def format_fn(tick_val, tick_pos):\n",
    "    return str(10**tick_val)\n",
    "    #return str(int(10**tick_val))\n",
    "ax.xaxis.set_major_formatter(FuncFormatter(format_fn))\n",
    "ax.xaxis.set_major_locator(MaxNLocator(integer=True))   \n",
    "matplotlib.rcParams.update({'font.size': 11})\n",
    "ax.legend(loc=2)\n",
    "\n",
    "fig.savefig('planet_candidates/mid_histogram.png', dpi=1000)"
   ]
  },
  {
   "cell_type": "code",
   "execution_count": 18,
   "metadata": {},
   "outputs": [
    {
     "data": {
      "image/png": "[encoded data removed]",
      "text/plain": [
       "<Figure size 432x288 with 1 Axes>"
      ]
     },
     "metadata": {
      "needs_background": "light"
     },
     "output_type": "display_data"
    }
   ],
   "source": [
    "mfar = masses_far.mass\n",
    "thresh_far = np.log10(1.2) #50% completeness threshold\n",
    "\n",
    "fig, ax = plt.subplots()\n",
    "ax.hist(np.log10(mfar), bins=10, density=True, histtype='step',\n",
    "        lw=3, color='black', alpha=1, label='a > 3 AU')\n",
    "\n",
    "matplotlib.rcParams.update({'font.size': 11})\n",
    "ax.set(xlabel=r'$M\\mathrm{sin}i\\ (M_J)$', \n",
    "          ylabel='Number density')\n",
    "matplotlib.rcParams.update({'font.size': 11})\n",
    "        \n",
    "def format_fn(tick_val, tick_pos):\n",
    "    return str(10**tick_val)\n",
    "    #return str(int(10**tick_val))\n",
    "ax.xaxis.set_major_formatter(FuncFormatter(format_fn))\n",
    "ax.xaxis.set_major_locator(MaxNLocator(integer=True))   \n",
    "matplotlib.rcParams.update({'font.size': 11})\n",
    "ax.legend(loc=2)\n",
    "\n",
    "fig.savefig('planet_candidates/far_histogram.png', dpi=1000)"
   ]
  },
  {
   "cell_type": "markdown",
   "metadata": {},
   "source": [
    "## Make distributions of periods and period ratios."
   ]
  },
  {
   "cell_type": "code",
   "execution_count": 48,
   "metadata": {},
   "outputs": [
    {
     "data": {
      "image/png": "[encoded data removed]",
      "text/plain": [
       "<Figure size 432x288 with 1 Axes>"
      ]
     },
     "metadata": {
      "needs_background": "light"
     },
     "output_type": "display_data"
    }
   ],
   "source": [
    "fig, ax = plt.subplots()\n",
    "ax.hist(np.log10(masses_planet.per), bins=10, density=True, histtype='step',\n",
    "        lw=3, color='black', alpha=1)#, label='1 AU < a < 3 AU')\n",
    "\n",
    "matplotlib.rcParams.update({'font.size': 18})\n",
    "ax.set(xlabel=r'$P$ (days)', \n",
    "          ylabel='Number density')\n",
    "matplotlib.rcParams.update({'font.size': 18})\n",
    "        \n",
    "def format_fn(tick_val, tick_pos):\n",
    "    #return str(10**tick_val)\n",
    "    return str(int(10**tick_val))\n",
    "ax.xaxis.set_major_formatter(FuncFormatter(format_fn))\n",
    "ax.xaxis.set_major_locator(MaxNLocator(integer=True))   \n",
    "matplotlib.rcParams.update({'font.size': 16})\n",
    "#ax.legend(loc=2)\n",
    "\n",
    "fig.savefig('planet_candidates/per_histogram.png', dpi=1000)"
   ]
  },
  {
   "cell_type": "code",
   "execution_count": 133,
   "metadata": {},
   "outputs": [],
   "source": [
    "def period_ratios(pers):\n",
    "    ratios = []\n",
    "    nplanets = len(pers)\n",
    "    sorted = np.sort(pers)\n",
    "    for i in np.arange(nplanets):\n",
    "        for j in np.arange(i):\n",
    "            ratios.append(sorted[i]/sorted[j])\n",
    "    return ratios"
   ]
  },
  {
   "cell_type": "code",
   "execution_count": 134,
   "metadata": {},
   "outputs": [],
   "source": [
    "systems = masses_planet.hostname.unique()"
   ]
  },
  {
   "cell_type": "code",
   "execution_count": 135,
   "metadata": {},
   "outputs": [],
   "source": [
    "all_ratios = []\n",
    "for system in systems:\n",
    "    sys_db = masses_planet.query('hostname == \"{}\"'.format(system))#    .loc[masses_planet.hostname == system]\n",
    "    if len(sys_db) > 1:\n",
    "        sys_ratios = period_ratios(sys_db.per)\n",
    "        all_ratios.append(sys_ratios)\n",
    "all_ratios = np.concatenate(all_ratios)"
   ]
  },
  {
   "cell_type": "code",
   "execution_count": 136,
   "metadata": {},
   "outputs": [
    {
     "data": {
      "image/png": "[encoded data removed]",
      "text/plain": [
       "<Figure size 432x288 with 1 Axes>"
      ]
     },
     "metadata": {
      "needs_background": "light"
     },
     "output_type": "display_data"
    }
   ],
   "source": [
    "# Only use ratios below 20.\n",
    "filtered_ratios = np.extract(all_ratios < 20, all_ratios)\n",
    "axper = sns.distplot(filtered_ratios, rug=True)\n",
    "axper.set_xlim([0,25])\n",
    "axper.set(xlabel='Period ratio', ylabel='Number density')\n",
    "axper.set_title('System period ratios (< 20)')\n",
    "\n",
    "figper = axper.get_figure()\n",
    "figper.savefig('planet_candidates/period_ratio_histogram.pdf')"
   ]
  },
  {
   "cell_type": "markdown",
   "metadata": {},
   "source": [
    "## Do some preliminary work on giant multis."
   ]
  },
  {
   "cell_type": "code",
   "execution_count": 31,
   "metadata": {},
   "outputs": [],
   "source": [
    "planets_big_all   = masses_planet.query('mass > 0.1')\n",
    "planets_small_all = masses_planet.query('mass <= 0.1')\n",
    "\n",
    "names_big_all = np.unique(planets_big_all.hostname)\n",
    "nplanets_big_all = np.array(planets_big_all.groupby('hostname').count()['status'])\n",
    "db_nplanets_big_all = pd.DataFrame({'hostname':names_big_all, 'nplanets':nplanets_big_all})\n",
    "\n",
    "names_small_all = np.unique(planets_small_all.hostname)\n",
    "nplanets_small_all = np.array(planets_small_all.groupby('hostname').count()['status'])\n",
    "db_nplanets_small_all = pd.DataFrame({'hostname':names_small_all, 'nplanets':nplanets_small_all})\n",
    "\n",
    "# Do same nplanets thingy for all planets, no mass cuts.\n",
    "names_all = np.unique(masses_planet.hostname)\n",
    "nplanets_all = np.array(masses_planet.groupby('hostname').count()['status'])\n",
    "db_nplanets_all = pd.DataFrame({'hostname':names_all, 'nplanets':nplanets_all})\n",
    "\n",
    "planets_all       = pd.merge(masses_planet, db_nplanets_all, on='hostname').reset_index()\n",
    "planets_big_all   = pd.merge(planets_big_all, db_nplanets_big_all, on='hostname').reset_index()\n",
    "planets_small_all = pd.merge(planets_small_all, db_nplanets_small_all, on='hostname').reset_index()\n",
    "\n",
    "db_nplanets_all       = None\n",
    "db_nplanets_big_all   = None\n",
    "db_nplanets_small_all = None"
   ]
  },
  {
   "cell_type": "code",
   "execution_count": 32,
   "metadata": {},
   "outputs": [],
   "source": [
    "planets_big_multi_all = planets_big_all.query('nplanets > 1')\n",
    "planets_multi_all     = planets_all.query('nplanets > 1')"
   ]
  },
  {
   "cell_type": "code",
   "execution_count": 33,
   "metadata": {},
   "outputs": [
    {
     "data": {
      "text/html": [
       "<div>\n",
       "<style scoped>\n",
       "    .dataframe tbody tr th:only-of-type {\n",
       "        vertical-align: middle;\n",
       "    }\n",
       "\n",
       "    .dataframe tbody tr th {\n",
       "        vertical-align: top;\n",
       "    }\n",
       "\n",
       "    .dataframe thead th {\n",
       "        text-align: right;\n",
       "    }\n",
       "</style>\n",
       "<table border=\"1\" class=\"dataframe\">\n",
       "  <thead>\n",
       "    <tr style=\"text-align: right;\">\n",
       "      <th></th>\n",
       "      <th>index</th>\n",
       "      <th>Unnamed: 0</th>\n",
       "      <th>hostname</th>\n",
       "      <th>status</th>\n",
       "      <th>mass</th>\n",
       "      <th>mass_med</th>\n",
       "      <th>mass_minus</th>\n",
       "      <th>mass_plus</th>\n",
       "      <th>axis</th>\n",
       "      <th>axis_med</th>\n",
       "      <th>...</th>\n",
       "      <th>per_plus</th>\n",
       "      <th>k</th>\n",
       "      <th>k_med</th>\n",
       "      <th>k_minus</th>\n",
       "      <th>k_plus</th>\n",
       "      <th>e</th>\n",
       "      <th>e_med</th>\n",
       "      <th>e_minus</th>\n",
       "      <th>e_plus</th>\n",
       "      <th>nplanets</th>\n",
       "    </tr>\n",
       "  </thead>\n",
       "  <tbody>\n",
       "    <tr>\n",
       "      <th>53</th>\n",
       "      <td>53</td>\n",
       "      <td>105</td>\n",
       "      <td>187123</td>\n",
       "      <td>K</td>\n",
       "      <td>0.506373</td>\n",
       "      <td>0.506559</td>\n",
       "      <td>0.486685</td>\n",
       "      <td>0.526043</td>\n",
       "      <td>0.042075</td>\n",
       "      <td>0.042076</td>\n",
       "      <td>...</td>\n",
       "      <td>3.096599</td>\n",
       "      <td>68.949742</td>\n",
       "      <td>68.975676</td>\n",
       "      <td>68.706070</td>\n",
       "      <td>69.243043</td>\n",
       "      <td>0.004495</td>\n",
       "      <td>0.003601</td>\n",
       "      <td>0.001081</td>\n",
       "      <td>0.007340</td>\n",
       "      <td>2</td>\n",
       "    </tr>\n",
       "    <tr>\n",
       "      <th>65</th>\n",
       "      <td>65</td>\n",
       "      <td>140</td>\n",
       "      <td>217107</td>\n",
       "      <td>K</td>\n",
       "      <td>1.431095</td>\n",
       "      <td>1.431618</td>\n",
       "      <td>1.364445</td>\n",
       "      <td>1.496929</td>\n",
       "      <td>0.075125</td>\n",
       "      <td>0.075134</td>\n",
       "      <td>...</td>\n",
       "      <td>7.126882</td>\n",
       "      <td>141.846736</td>\n",
       "      <td>141.870364</td>\n",
       "      <td>141.604159</td>\n",
       "      <td>142.138018</td>\n",
       "      <td>0.128338</td>\n",
       "      <td>0.128082</td>\n",
       "      <td>0.126377</td>\n",
       "      <td>0.129803</td>\n",
       "      <td>2</td>\n",
       "    </tr>\n",
       "    <tr>\n",
       "      <th>113</th>\n",
       "      <td>113</td>\n",
       "      <td>249</td>\n",
       "      <td>9826</td>\n",
       "      <td>K</td>\n",
       "      <td>0.661731</td>\n",
       "      <td>0.661570</td>\n",
       "      <td>0.626295</td>\n",
       "      <td>0.696077</td>\n",
       "      <td>0.058421</td>\n",
       "      <td>0.058415</td>\n",
       "      <td>...</td>\n",
       "      <td>4.617128</td>\n",
       "      <td>69.685089</td>\n",
       "      <td>69.687528</td>\n",
       "      <td>68.988786</td>\n",
       "      <td>70.382609</td>\n",
       "      <td>0.006143</td>\n",
       "      <td>0.007490</td>\n",
       "      <td>0.002219</td>\n",
       "      <td>0.015544</td>\n",
       "      <td>3</td>\n",
       "    </tr>\n",
       "    <tr>\n",
       "      <th>131</th>\n",
       "      <td>131</td>\n",
       "      <td>300</td>\n",
       "      <td>68988</td>\n",
       "      <td>K</td>\n",
       "      <td>1.969198</td>\n",
       "      <td>1.970428</td>\n",
       "      <td>1.885562</td>\n",
       "      <td>2.053510</td>\n",
       "      <td>0.071213</td>\n",
       "      <td>0.071212</td>\n",
       "      <td>...</td>\n",
       "      <td>6.276428</td>\n",
       "      <td>192.104859</td>\n",
       "      <td>192.214938</td>\n",
       "      <td>191.571474</td>\n",
       "      <td>192.855609</td>\n",
       "      <td>0.157166</td>\n",
       "      <td>0.156755</td>\n",
       "      <td>0.153332</td>\n",
       "      <td>0.160005</td>\n",
       "      <td>2</td>\n",
       "    </tr>\n",
       "  </tbody>\n",
       "</table>\n",
       "<p>4 rows × 25 columns</p>\n",
       "</div>"
      ],
      "text/plain": [
       "     index  Unnamed: 0 hostname status      mass  mass_med  mass_minus  \\\n",
       "53      53         105   187123      K  0.506373  0.506559    0.486685   \n",
       "65      65         140   217107      K  1.431095  1.431618    1.364445   \n",
       "113    113         249     9826      K  0.661731  0.661570    0.626295   \n",
       "131    131         300    68988      K  1.969198  1.970428    1.885562   \n",
       "\n",
       "     mass_plus      axis  axis_med  ...  per_plus           k       k_med  \\\n",
       "53    0.526043  0.042075  0.042076  ...  3.096599   68.949742   68.975676   \n",
       "65    1.496929  0.075125  0.075134  ...  7.126882  141.846736  141.870364   \n",
       "113   0.696077  0.058421  0.058415  ...  4.617128   69.685089   69.687528   \n",
       "131   2.053510  0.071213  0.071212  ...  6.276428  192.104859  192.214938   \n",
       "\n",
       "        k_minus      k_plus         e     e_med   e_minus    e_plus  nplanets  \n",
       "53    68.706070   69.243043  0.004495  0.003601  0.001081  0.007340         2  \n",
       "65   141.604159  142.138018  0.128338  0.128082  0.126377  0.129803         2  \n",
       "113   68.988786   70.382609  0.006143  0.007490  0.002219  0.015544         3  \n",
       "131  191.571474  192.855609  0.157166  0.156755  0.153332  0.160005         2  \n",
       "\n",
       "[4 rows x 25 columns]"
      ]
     },
     "execution_count": 33,
     "metadata": {},
     "output_type": "execute_result"
    }
   ],
   "source": [
    "planets_big_multi_all.query('axis < 0.1')"
   ]
  },
  {
   "cell_type": "code",
   "execution_count": 34,
   "metadata": {},
   "outputs": [
    {
     "data": {
      "text/html": [
       "<div>\n",
       "<style scoped>\n",
       "    .dataframe tbody tr th:only-of-type {\n",
       "        vertical-align: middle;\n",
       "    }\n",
       "\n",
       "    .dataframe tbody tr th {\n",
       "        vertical-align: top;\n",
       "    }\n",
       "\n",
       "    .dataframe thead th {\n",
       "        text-align: right;\n",
       "    }\n",
       "</style>\n",
       "<table border=\"1\" class=\"dataframe\">\n",
       "  <thead>\n",
       "    <tr style=\"text-align: right;\">\n",
       "      <th></th>\n",
       "      <th>index</th>\n",
       "      <th>Unnamed: 0</th>\n",
       "      <th>hostname</th>\n",
       "      <th>status</th>\n",
       "      <th>mass</th>\n",
       "      <th>mass_med</th>\n",
       "      <th>mass_minus</th>\n",
       "      <th>mass_plus</th>\n",
       "      <th>axis</th>\n",
       "      <th>axis_med</th>\n",
       "      <th>...</th>\n",
       "      <th>per_plus</th>\n",
       "      <th>k</th>\n",
       "      <th>k_med</th>\n",
       "      <th>k_minus</th>\n",
       "      <th>k_plus</th>\n",
       "      <th>e</th>\n",
       "      <th>e_med</th>\n",
       "      <th>e_minus</th>\n",
       "      <th>e_plus</th>\n",
       "      <th>nplanets</th>\n",
       "    </tr>\n",
       "  </thead>\n",
       "  <tbody>\n",
       "    <tr>\n",
       "      <th>132</th>\n",
       "      <td>132</td>\n",
       "      <td>301</td>\n",
       "      <td>68988</td>\n",
       "      <td>K</td>\n",
       "      <td>16.389258</td>\n",
       "      <td>17.617583</td>\n",
       "      <td>15.124601</td>\n",
       "      <td>19.992019</td>\n",
       "      <td>14.353306</td>\n",
       "      <td>16.508762</td>\n",
       "      <td>...</td>\n",
       "      <td>32532.222445</td>\n",
       "      <td>126.453866</td>\n",
       "      <td>132.159067</td>\n",
       "      <td>120.845171</td>\n",
       "      <td>141.813569</td>\n",
       "      <td>0.475855</td>\n",
       "      <td>0.533665</td>\n",
       "      <td>0.424231</td>\n",
       "      <td>0.623832</td>\n",
       "      <td>2</td>\n",
       "    </tr>\n",
       "  </tbody>\n",
       "</table>\n",
       "<p>1 rows × 25 columns</p>\n",
       "</div>"
      ],
      "text/plain": [
       "     index  Unnamed: 0 hostname status       mass   mass_med  mass_minus  \\\n",
       "132    132         301    68988      K  16.389258  17.617583   15.124601   \n",
       "\n",
       "     mass_plus       axis   axis_med  ...      per_plus           k  \\\n",
       "132  19.992019  14.353306  16.508762  ...  32532.222445  126.453866   \n",
       "\n",
       "          k_med     k_minus      k_plus         e     e_med   e_minus  \\\n",
       "132  132.159067  120.845171  141.813569  0.475855  0.533665  0.424231   \n",
       "\n",
       "       e_plus  nplanets  \n",
       "132  0.623832         2  \n",
       "\n",
       "[1 rows x 25 columns]"
      ]
     },
     "execution_count": 34,
     "metadata": {},
     "output_type": "execute_result"
    }
   ],
   "source": [
    "planets_big_multi_all.query('hostname in [\"187123\", \"217107\", \"9826\", \"68988\"] and axis > 10')"
   ]
  },
  {
   "cell_type": "markdown",
   "metadata": {},
   "source": [
    "## P(HJ | Outer > 10 AU)"
   ]
  },
  {
   "cell_type": "code",
   "execution_count": 35,
   "metadata": {},
   "outputs": [
    {
     "data": {
      "text/plain": [
       "1      145675\n",
       "89      50499\n",
       "94      66428\n",
       "132     68988\n",
       "Name: hostname, dtype: object"
      ]
     },
     "execution_count": 35,
     "metadata": {},
     "output_type": "execute_result"
    }
   ],
   "source": [
    "planets_outer = planets_big_multi_all.query('axis > 10')\n",
    "planets_outer.hostname"
   ]
  },
  {
   "cell_type": "code",
   "execution_count": 42,
   "metadata": {},
   "outputs": [
    {
     "name": "stdout",
     "output_type": "stream",
     "text": [
      "0.25 +\\- 0.25\n"
     ]
    }
   ],
   "source": [
    "prob_outer = len(planets_big_multi_all.query('hostname in @planets_outer.hostname \\\n",
    "                 and axis < 0.1'))/float(len(planets_outer))\n",
    "sig_outer = np.sqrt(float(len(planets_big_multi_all.query('hostname in @planets_outer.hostname \\\n",
    "                    and axis < 0.1')))) / len(planets_outer)\n",
    "print(prob_outer, '+\\-', sig_outer)"
   ]
  },
  {
   "cell_type": "markdown",
   "metadata": {},
   "source": [
    "## P(HJ | 10 AU > Outer > 4.64 AU)"
   ]
  },
  {
   "cell_type": "code",
   "execution_count": 44,
   "metadata": {},
   "outputs": [
    {
     "data": {
      "text/plain": [
       "15        114783\n",
       "26        134987\n",
       "37        156279\n",
       "51        183263\n",
       "66        217107\n",
       "71         24040\n",
       "83          4203\n",
       "99         75732\n",
       "107        92788\n",
       "121        gl317\n",
       "123    hip109388\n",
       "Name: hostname, dtype: object"
      ]
     },
     "execution_count": 44,
     "metadata": {},
     "output_type": "execute_result"
    }
   ],
   "source": [
    "planets_med = planets_big_multi_all.query('axis < 10 and axis > 4.64')\n",
    "planets_med.hostname"
   ]
  },
  {
   "cell_type": "code",
   "execution_count": 46,
   "metadata": {},
   "outputs": [
    {
     "name": "stdout",
     "output_type": "stream",
     "text": [
      "0.09090909090909091 +\\- 0.09090909090909091\n"
     ]
    }
   ],
   "source": [
    "prob_med = len(planets_big_multi_all.query('hostname in @planets_med.hostname \\\n",
    "               and axis < 0.1'))/float(len(planets_med))\n",
    "sig_med = np.sqrt(len(planets_big_multi_all.query('hostname in @planets_med.hostname \\\n",
    "                  and axis < 0.1')))/float(len(planets_med))\n",
    "print(prob_med, '+\\-', sig_med)"
   ]
  },
  {
   "cell_type": "markdown",
   "metadata": {},
   "source": [
    "## P(HJ | 4.64 AU > Outer > 2.15 AU)"
   ]
  },
  {
   "cell_type": "code",
   "execution_count": 47,
   "metadata": {},
   "outputs": [
    {
     "data": {
      "text/plain": [
       "0         145675\n",
       "10        108874\n",
       "20         12661\n",
       "32        141399\n",
       "43        168443\n",
       "46        169830\n",
       "54        187123\n",
       "79         38529\n",
       "88         50499\n",
       "92         52265\n",
       "93         66428\n",
       "96         74156\n",
       "111        95128\n",
       "115         9826\n",
       "122    hip109388\n",
       "130        37124\n",
       "Name: hostname, dtype: object"
      ]
     },
     "execution_count": 47,
     "metadata": {},
     "output_type": "execute_result"
    }
   ],
   "source": [
    "planets_inner = planets_big_multi_all.query('axis < 4.64 and axis > 2.15')\n",
    "planets_inner.hostname"
   ]
  },
  {
   "cell_type": "code",
   "execution_count": 48,
   "metadata": {},
   "outputs": [
    {
     "name": "stdout",
     "output_type": "stream",
     "text": [
      "0.18181818181818182 +\\- 0.128564869306645\n"
     ]
    }
   ],
   "source": [
    "prob_inner = len(planets_big_multi_all.query('hostname in @planets_inner.hostname \\\n",
    "                 and axis < 0.1'))/float(len(planets_med))\n",
    "sig_inner = np.sqrt(len(planets_big_multi_all.query('hostname in @planets_inner.hostname \\\n",
    "                 and axis < 0.1')))/float(len(planets_med))\n",
    "print(prob_inner, '+\\-', sig_inner)"
   ]
  },
  {
   "cell_type": "markdown",
   "metadata": {},
   "source": [
    "## Hot Jupiter Occurrence."
   ]
  },
  {
   "cell_type": "code",
   "execution_count": 86,
   "metadata": {},
   "outputs": [
    {
     "name": "stdout",
     "output_type": "stream",
     "text": [
      "0.018055555555555554 +/- 0.0050007645984243955\n"
     ]
    }
   ],
   "source": [
    "hot_jupiters = masses_planet.query('axis < 0.1 and mass > 0.1 and hostname != \"102195\"')\n",
    "#hot_jupiters = masses_planet.query('per < 10 and mass > 0.1')\n",
    "nhot = len(hot_jupiters)\n",
    "nstars = len(specmatch)\n",
    "print(nhot/(nstars-1), '+/-', np.sqrt(nhot)/nstars)"
   ]
  },
  {
   "cell_type": "code",
   "execution_count": 85,
   "metadata": {},
   "outputs": [
    {
     "data": {
      "text/plain": [
       "13"
      ]
     },
     "execution_count": 85,
     "metadata": {},
     "output_type": "execute_result"
    }
   ],
   "source": [
    "nhot"
   ]
  },
  {
   "cell_type": "markdown",
   "metadata": {},
   "source": [
    "### Wright et al. finds 0.0120 +/- 0.0038. We find more Hot Jupiters, but our results are statistically consistent within ~1.5 sigma."
   ]
  },
  {
   "cell_type": "markdown",
   "metadata": {},
   "source": [
    "### Plot completeness contours."
   ]
  },
  {
   "cell_type": "code",
   "execution_count": 23,
   "metadata": {},
   "outputs": [],
   "source": [
    "cumming_20 = pd.read_csv('completeness_contours/cumming_20.csv', names=['logP', 'logM'])\n",
    "cumming_80 = pd.read_csv('completeness_contours/cumming_80.csv', names=['logP', 'logM'])\n",
    "mayor_20   = pd.read_csv('completeness_contours/mayor_20.csv', names=['logP', 'logM'])\n",
    "mayor_80   = pd.read_csv('completeness_contours/mayor_80.csv', names=['logP', 'logM'])"
   ]
  },
  {
   "cell_type": "code",
   "execution_count": 24,
   "metadata": {},
   "outputs": [
    {
     "data": {
      "text/html": [
       "<div>\n",
       "<style scoped>\n",
       "    .dataframe tbody tr th:only-of-type {\n",
       "        vertical-align: middle;\n",
       "    }\n",
       "\n",
       "    .dataframe tbody tr th {\n",
       "        vertical-align: top;\n",
       "    }\n",
       "\n",
       "    .dataframe thead th {\n",
       "        text-align: right;\n",
       "    }\n",
       "</style>\n",
       "<table border=\"1\" class=\"dataframe\">\n",
       "  <thead>\n",
       "    <tr style=\"text-align: right;\">\n",
       "      <th></th>\n",
       "      <th>logP</th>\n",
       "      <th>logM</th>\n",
       "    </tr>\n",
       "  </thead>\n",
       "  <tbody>\n",
       "    <tr>\n",
       "      <th>0</th>\n",
       "      <td>0.068881</td>\n",
       "      <td>-1.452504</td>\n",
       "    </tr>\n",
       "    <tr>\n",
       "      <th>1</th>\n",
       "      <td>0.142681</td>\n",
       "      <td>-1.435233</td>\n",
       "    </tr>\n",
       "    <tr>\n",
       "      <th>2</th>\n",
       "      <td>0.211562</td>\n",
       "      <td>-1.400691</td>\n",
       "    </tr>\n",
       "    <tr>\n",
       "      <th>3</th>\n",
       "      <td>0.275523</td>\n",
       "      <td>-1.369603</td>\n",
       "    </tr>\n",
       "    <tr>\n",
       "      <th>4</th>\n",
       "      <td>0.344403</td>\n",
       "      <td>-1.359240</td>\n",
       "    </tr>\n",
       "    <tr>\n",
       "      <th>...</th>\n",
       "      <td>...</td>\n",
       "      <td>...</td>\n",
       "    </tr>\n",
       "    <tr>\n",
       "      <th>69</th>\n",
       "      <td>3.842558</td>\n",
       "      <td>0.257340</td>\n",
       "    </tr>\n",
       "    <tr>\n",
       "      <th>70</th>\n",
       "      <td>3.891759</td>\n",
       "      <td>0.326425</td>\n",
       "    </tr>\n",
       "    <tr>\n",
       "      <th>71</th>\n",
       "      <td>3.916359</td>\n",
       "      <td>0.392055</td>\n",
       "    </tr>\n",
       "    <tr>\n",
       "      <th>72</th>\n",
       "      <td>3.950800</td>\n",
       "      <td>0.454231</td>\n",
       "    </tr>\n",
       "    <tr>\n",
       "      <th>73</th>\n",
       "      <td>3.985240</td>\n",
       "      <td>0.530225</td>\n",
       "    </tr>\n",
       "  </tbody>\n",
       "</table>\n",
       "<p>74 rows × 2 columns</p>\n",
       "</div>"
      ],
      "text/plain": [
       "        logP      logM\n",
       "0   0.068881 -1.452504\n",
       "1   0.142681 -1.435233\n",
       "2   0.211562 -1.400691\n",
       "3   0.275523 -1.369603\n",
       "4   0.344403 -1.359240\n",
       "..       ...       ...\n",
       "69  3.842558  0.257340\n",
       "70  3.891759  0.326425\n",
       "71  3.916359  0.392055\n",
       "72  3.950800  0.454231\n",
       "73  3.985240  0.530225\n",
       "\n",
       "[74 rows x 2 columns]"
      ]
     },
     "execution_count": 24,
     "metadata": {},
     "output_type": "execute_result"
    }
   ],
   "source": [
    "cumming_20"
   ]
  },
  {
   "cell_type": "code",
   "execution_count": 27,
   "metadata": {},
   "outputs": [
    {
     "data": {
      "image/png": "[encoded data removed]",
      "text/plain": [
       "<Figure size 432x288 with 1 Axes>"
      ]
     },
     "metadata": {
      "needs_background": "light"
     },
     "output_type": "display_data"
    }
   ],
   "source": [
    "fig, ax = plt.subplots()\n",
    "ax.plot(10**cumming_20.logP, 10**cumming_20.logM*317.8)\n",
    "ax.plot(10**mayor_20.logP, 10**mayor_20.logM)\n",
    "ax.set_xscale('log')\n",
    "ax.set_yscale('log')"
   ]
  }
 ],
 "metadata": {
  "kernelspec": {
   "display_name": "Python 3",
   "language": "python",
   "name": "python3"
  },
  "language_info": {
   "codemirror_mode": {
    "name": "ipython",
    "version": 3
   },
   "file_extension": ".py",
   "mimetype": "text/x-python",
   "name": "python",
   "nbconvert_exporter": "python",
   "pygments_lexer": "ipython3",
   "version": "3.7.5"
  }
 },
 "nbformat": 4,
 "nbformat_minor": 2
}
