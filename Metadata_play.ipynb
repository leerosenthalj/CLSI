{
 "cells": [
  {
   "cell_type": "code",
   "execution_count": 1,
   "metadata": {},
   "outputs": [
    {
     "name": "stderr",
     "output_type": "stream",
     "text": [
      "/Users/lee/anaconda/lib/python3.6/importlib/_bootstrap.py:219: ImportWarning: can't resolve package from __spec__ or __package__, falling back on __name__ and __path__\n",
      "  return f(*args, **kwds)\n"
     ]
    }
   ],
   "source": [
    "import numpy as np\n",
    "import pandas as pd\n",
    "import matplotlib.pyplot as plt\n",
    "import radvel\n",
    "\n",
    "import rvsearch\n",
    "\n",
    "%matplotlib inline"
   ]
  },
  {
   "cell_type": "code",
   "execution_count": 9,
   "metadata": {},
   "outputs": [],
   "source": [
    "metadata = pd.read_csv('../legacy_starlist.csv')"
   ]
  },
  {
   "cell_type": "code",
   "execution_count": 11,
   "metadata": {},
   "outputs": [
    {
     "name": "stderr",
     "output_type": "stream",
     "text": [
      "/Users/lee/anaconda/lib/python3.6/site-packages/ipykernel_launcher.py:2: ResourceWarning: unclosed file <_io.TextIOWrapper name='legacy_search.sh' mode='w+' encoding='UTF-8'>\n",
      "  \n"
     ]
    }
   ],
   "source": [
    "filename = 'legacy_search.sh'\n",
    "legacy_search = open(filename, 'w+')\n",
    "for name in metadata['name']:\n",
    "    legacy_search.write('python search_away.py \\'{}\\' \\n'.format(name))"
   ]
  },
  {
   "cell_type": "code",
   "execution_count": 12,
   "metadata": {},
   "outputs": [
    {
     "data": {
      "text/plain": [
       "775"
      ]
     },
     "execution_count": 12,
     "metadata": {},
     "output_type": "execute_result"
    }
   ],
   "source": [
    "names = metadata['name'].tolist()\n",
    "len(names)"
   ]
  },
  {
   "cell_type": "code",
   "execution_count": 11,
   "metadata": {},
   "outputs": [
    {
     "data": {
      "text/plain": [
       "775"
      ]
     },
     "execution_count": 11,
     "metadata": {},
     "output_type": "execute_result"
    }
   ],
   "source": [
    "def file_len(fname):\n",
    "    with open(fname) as f:\n",
    "        for i, l in enumerate(f):\n",
    "            pass\n",
    "    return i + 1\n",
    "file_len('legacy_search.sh')"
   ]
  },
  {
   "cell_type": "code",
   "execution_count": 11,
   "metadata": {},
   "outputs": [],
   "source": [
    "test = scrape(done)"
   ]
  },
  {
   "cell_type": "code",
   "execution_count": 12,
   "metadata": {},
   "outputs": [
    {
     "data": {
      "text/plain": [
       "[{'star': '1326',\n",
       "  'num_planets': 1,\n",
       "  'per1': 11.44249922805173,\n",
       "  'tc1': -5.747149562318226,\n",
       "  'secosw1': -0.13470370626650957,\n",
       "  'sesinw1': 0.1355450732264826,\n",
       "  'k1': 2.931246731066709,\n",
       "  'gamma_j': 0.6626024831790128,\n",
       "  'jit_k': 2.6698605079031945,\n",
       "  'jit_apf': 1.1043236277294453,\n",
       "  'gamma_apf': 1.932825696942148,\n",
       "  'gamma_k': 1.1932088279252633,\n",
       "  'jit_j': 1.9649490467490995,\n",
       "  'dvdt': -0.0008883548323190264,\n",
       "  'curv': 4.38622433361013e-08},\n",
       " {'star': '42618',\n",
       "  'num_planets': 1,\n",
       "  'per1': 2813.154238349782,\n",
       "  'tc1': 1515.419164524498,\n",
       "  'secosw1': 0.03821660864298257,\n",
       "  'sesinw1': -0.7245105060616197,\n",
       "  'k1': 2.8959163750662373,\n",
       "  \"gamma_b'k'\": 3.1216949473726547,\n",
       "  \"gamma_b'j'\": -2.6576441530426798,\n",
       "  \"jit_b'j'\": 2.7177022900911187,\n",
       "  \"jit_b'k'\": 3.8365278225272474,\n",
       "  'dvdt': 0.001405874764913878,\n",
       "  'curv': -6.831252527689229e-08},\n",
       " {'star': '95128',\n",
       "  'num_planets': 2,\n",
       "  'per1': 1087.1728762539049,\n",
       "  'tc1': 655.1160865195303,\n",
       "  'secosw1': -0.009662999780191243,\n",
       "  'sesinw1': -0.20081772563812927,\n",
       "  'k1': 49.38829877740652,\n",
       "  'per2': 1731.8578773925183,\n",
       "  'tc2': 2455558.638905921,\n",
       "  'secosw2': 0.6262258898981341,\n",
       "  'sesinw2': -0.13942990858103463,\n",
       "  'k2': 6.697584920525492,\n",
       "  'gamma_Inst.': -0.937038529071735,\n",
       "  'jit_Inst.': 2.5918712681199167,\n",
       "  'dvdt': 0.0020431579337680775,\n",
       "  'curv': 2.9828250056561007e-06},\n",
       " {'star': '114783',\n",
       "  'num_planets': 2,\n",
       "  'per1': 491.46611825657106,\n",
       "  'tc1': -82.35458106458947,\n",
       "  'secosw1': -0.14807590754456826,\n",
       "  'sesinw1': 0.3319362385493941,\n",
       "  'k1': 29.774869569399673,\n",
       "  'per2': 4371.233266142803,\n",
       "  'tc2': 2454990.897519097,\n",
       "  'secosw2': -0.4240598869026153,\n",
       "  'sesinw2': -0.13486532281052196,\n",
       "  'k2': 8.566343812890707,\n",
       "  \"gamma_b'j'\": -7.185459144563777,\n",
       "  \"jit_b'k'\": 3.413000685112266,\n",
       "  \"gamma_b'k'\": -12.579484735930105,\n",
       "  \"jit_b'j'\": 3.636422361082645,\n",
       "  'dvdt': -0.0014629241768999235,\n",
       "  'curv': 2.1323444105530336e-07},\n",
       " {'star': '128311',\n",
       "  'num_planets': 2,\n",
       "  'per1': 912.3551526459064,\n",
       "  'tc1': -1774.4706327595848,\n",
       "  'secosw1': 0.4680233606699511,\n",
       "  'sesinw1': -0.11784103177742732,\n",
       "  'k1': 78.29634696983325,\n",
       "  'per2': 453.43742060957123,\n",
       "  'tc2': 2455211.2828050693,\n",
       "  'secosw2': 0.33328197602709686,\n",
       "  'sesinw2': 0.4445483671089905,\n",
       "  'k2': 60.58806340965012,\n",
       "  \"jit_b'j'\": 13.640573990468335,\n",
       "  \"gamma_b'j'\": 14.195572198949007,\n",
       "  \"gamma_b'k'\": 5.859153543291498,\n",
       "  \"jit_b'k'\": 16.660484610689288,\n",
       "  'dvdt': -0.0015633448878957497,\n",
       "  'curv': -4.297167314654653e-07},\n",
       " {'star': '143761',\n",
       "  'num_planets': 2,\n",
       "  'per1': 39.84534158038369,\n",
       "  'tc1': 50.835753530669145,\n",
       "  'secosw1': 0.0004853016654854331,\n",
       "  'sesinw1': -0.1860163972316494,\n",
       "  'k1': 66.90564899057327,\n",
       "  'per2': 102.72132058907488,\n",
       "  'tc2': 2455202.802589204,\n",
       "  'secosw2': 0.24636109627208672,\n",
       "  'sesinw2': 0.11838280468644827,\n",
       "  'k2': 4.02355181942484,\n",
       "  \"gamma_b'j'\": 0.5302983567438408,\n",
       "  \"jit_b'j'\": 2.7170706664771713,\n",
       "  \"gamma_b'k'\": 16.877222016126414,\n",
       "  \"jit_b'k'\": 3.2629663601071806,\n",
       "  'dvdt': 0.001662101285321848,\n",
       "  'curv': -4.5100640807129736e-07},\n",
       " {'star': '168009',\n",
       "  'num_planets': 0,\n",
       "  'gamma_Inst.': 0.0,\n",
       "  'jit_Inst.': 2.0,\n",
       "  'dvdt': 0.0,\n",
       "  'curv': 0.0},\n",
       " {'star': '190360',\n",
       "  'num_planets': 2,\n",
       "  'per1': 2896.600836951756,\n",
       "  'tc1': 455.15601749535824,\n",
       "  'secosw1': 0.5264882685197985,\n",
       "  'sesinw1': 0.16485581698486365,\n",
       "  'k1': 21.78253585662844,\n",
       "  'per2': 17.11724971501672,\n",
       "  'tc2': 2455198.356792579,\n",
       "  'secosw2': 0.35491722297902,\n",
       "  'sesinw2': -0.20815109683715657,\n",
       "  'k2': 5.353110436358306,\n",
       "  \"jit_b'j'\": 2.5648168564945855,\n",
       "  \"gamma_b'j'\": -1.4143638147763546,\n",
       "  \"gamma_b'k'\": -3.7548246076042866,\n",
       "  \"jit_b'k'\": 2.821294547984013,\n",
       "  'dvdt': -0.0008027807104804774,\n",
       "  'curv': 9.930360465683932e-08}]"
      ]
     },
     "execution_count": 12,
     "metadata": {},
     "output_type": "execute_result"
    }
   ],
   "source": [
    "test"
   ]
  },
  {
   "cell_type": "markdown",
   "metadata": {},
   "source": [
    "# Compute planet masses and semi-major axes."
   ]
  },
  {
   "cell_type": "code",
   "execution_count": 2,
   "metadata": {},
   "outputs": [],
   "source": [
    "massdata = pd.read_csv('../legacy_with_masses_mod.csv')"
   ]
  },
  {
   "cell_type": "code",
   "execution_count": 7,
   "metadata": {},
   "outputs": [],
   "source": [
    "starlist = ['1326','42618','95128','114783','128311','143761','168009','190360']"
   ]
  },
  {
   "cell_type": "code",
   "execution_count": 25,
   "metadata": {},
   "outputs": [],
   "source": [
    "def scrape(starlist, mass_db_name=None, save=True):\n",
    "    \"\"\"This takes data from completed searches and compiles it into one database.\n",
    "    \"\"\"\n",
    "    all_params = []\n",
    "    nplanets = []\n",
    "\n",
    "    for star in starlist:\n",
    "        params = {}\n",
    "        params['name'] = star\n",
    "        try:\n",
    "            post = radvel.posterior.load(star+'/post_final.pkl')\n",
    "        except RuntimeError:\n",
    "            print('I am not done looking for planets around {} yet, \\\n",
    "                                try again later.'.format(star))\n",
    "            continue\n",
    "            \n",
    "        if post.params.num_planets == 1:\n",
    "            if post.params['k1'].value == 0.:\n",
    "                num_planets = 0\n",
    "            else:\n",
    "                num_planets = 1\n",
    "            nplanets.append(num_planets)\n",
    "        else:\n",
    "            num_planets = post.params.num_planets\n",
    "            nplanets.append(num_planets)\n",
    "        params['num_planets'] = num_planets\n",
    "\n",
    "        for k in post.params.keys():\n",
    "            params[k] = post.params[k].value\n",
    "        all_params.append(params)\n",
    "\n",
    "    # Save radvel parameters as a pandas dataframe.\n",
    "    props = pd.DataFrame(all_params)\n",
    "\n",
    "    if mass_db_name is not None:\n",
    "        try:\n",
    "            mass_db = pd.read_csv(mass_db_name)\n",
    "        except RuntimeError:\n",
    "            print('That is not a pandas dataframe. Try again.')\n",
    "        \n",
    "        # Add enough columns to compute masses & semi-major axes for system with most planets.\n",
    "        max_num_planets = np.amax(nplanets)\n",
    "        for n in np.arange(1, max_num_planets+1):\n",
    "            props['Mstar'] = np.nan\n",
    "            props['uMstar1'] = np.nan\n",
    "            props['uMstar1'] = np.nan\n",
    "            props['M{}'.format(n)] = np.nan\n",
    "            props['a{}'.format(n)] = np.nan\n",
    "\n",
    "        # Save median star mass, uncertainties\n",
    "        for star in starlist:\n",
    "            star_index = props.index[props['name'] == str(star)][0]\n",
    "            mass_index = mass_db.index[mass_db['name'] == str(star)][0]\n",
    "            # Save star mass, to be used in planet mass & semi-major axis calculations.\n",
    "            Mtot = mass_db.loc[mass_index, 'mstar']\n",
    "            props.loc[star_index, 'Mstar'] = Mtot\n",
    "            props.loc[star_index, 'uMstar1'] = mass_db.loc[mass_index, 'umass1']\n",
    "            props.loc[star_index, 'uMstar1'] = mass_db.loc[mass_index, 'umass2']\n",
    "            \n",
    "            # For each found planet, compute mass and semi-major axis\n",
    "            if props.loc[star_index, 'num_planets'] != 0:\n",
    "                for n in np.arange(1, props.loc[star_index, 'num_planets']+1):\n",
    "                    K = props.loc[star_index, 'k{}'.format(n)]\n",
    "                    P = props.loc[star_index, 'per{}'.format(n)]\n",
    "                    e = props.loc[star_index, 'secosw{}'.format(n)]**2 + props.loc[star_index, 'sesinw{}'.format(n)]**2\n",
    "                    props.loc[star_index, 'M{}'.format(n)] = radvel.utils.Msini(K, P, Mtot, e, Msini_units='jupiter')\n",
    "                    props.loc[star_index, 'a{}'.format(n)] = radvel.utils.semi_major_axis(P, Mtot)\n",
    "\n",
    "    if save:\n",
    "        props.to_csv('system_props.csv')\n",
    "    return props"
   ]
  },
  {
   "cell_type": "code",
   "execution_count": 24,
   "metadata": {},
   "outputs": [],
   "source": [
    "system_props = scrape(starlist, 'legacy_with_masses.csv')"
   ]
  },
  {
   "cell_type": "code",
   "execution_count": null,
   "metadata": {},
   "outputs": [],
   "source": []
  }
 ],
 "metadata": {
  "kernelspec": {
   "display_name": "Python 3",
   "language": "python",
   "name": "python3"
  },
  "language_info": {
   "codemirror_mode": {
    "name": "ipython",
    "version": 3
   },
   "file_extension": ".py",
   "mimetype": "text/x-python",
   "name": "python",
   "nbconvert_exporter": "python",
   "pygments_lexer": "ipython3",
   "version": "3.6.6"
  }
 },
 "nbformat": 4,
 "nbformat_minor": 2
}
