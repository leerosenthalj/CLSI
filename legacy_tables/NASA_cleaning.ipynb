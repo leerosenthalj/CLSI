{
 "cells": [
  {
   "cell_type": "markdown",
   "metadata": {},
   "source": [
    "# Clean NASA confirmed exoplanet database. Remove Kepler stars and others that definitely are not in our sample."
   ]
  },
  {
   "cell_type": "code",
   "execution_count": 1,
   "metadata": {},
   "outputs": [
    {
     "name": "stderr",
     "output_type": "stream",
     "text": [
      "/Users/lee/anaconda/lib/python3.6/importlib/_bootstrap.py:219: ImportWarning: can't resolve package from __spec__ or __package__, falling back on __name__ and __path__\n",
      "  return f(*args, **kwds)\n"
     ]
    }
   ],
   "source": [
    "import numpy as np\n",
    "import pandas as pd\n",
    "import matplotlib.pyplot as plt\n",
    "\n",
    "import analysis"
   ]
  },
  {
   "cell_type": "code",
   "execution_count": 2,
   "metadata": {},
   "outputs": [],
   "source": [
    "props = pd.read_csv('system_props_third.csv')\n",
    "nasa = pd.read_csv('NASA_planets.csv')"
   ]
  },
  {
   "cell_type": "code",
   "execution_count": 3,
   "metadata": {},
   "outputs": [],
   "source": [
    "mask = ['K' not in nasa.pl_hostname[i] for i in np.arange(len(nasa))]\n",
    "nasa = nasa[mask]\n",
    "nasa = nasa.reset_index(drop=True)"
   ]
  },
  {
   "cell_type": "code",
   "execution_count": 4,
   "metadata": {},
   "outputs": [],
   "source": [
    "#nasa"
   ]
  },
  {
   "cell_type": "markdown",
   "metadata": {},
   "source": [
    "# Clean names. Convert non-HD and GL names to names used in the legacy dataset. Start with individual cases."
   ]
  },
  {
   "cell_type": "code",
   "execution_count": 4,
   "metadata": {},
   "outputs": [
    {
     "name": "stderr",
     "output_type": "stream",
     "text": [
      "/Users/lee/anaconda/lib/python3.6/site-packages/ipykernel_launcher.py:3: DeprecationWarning: \n",
      ".ix is deprecated. Please use\n",
      ".loc for label based indexing or\n",
      ".iloc for positional indexing\n",
      "\n",
      "See the documentation here:\n",
      "http://pandas.pydata.org/pandas-docs/stable/indexing.html#ix-indexer-is-deprecated\n",
      "  This is separate from the ipykernel package so we can avoid doing imports until\n"
     ]
    }
   ],
   "source": [
    "cnc = nasa.index[nasa['pl_hostname'] == '55 Cnc'].tolist()\n",
    "for i in cnc:\n",
    "    nasa.ix[i, 'pl_hostname'] = '75732'\n",
    "    \n",
    "ursa = nasa.index[nasa['pl_hostname'] == '47 UMa'].tolist()\n",
    "for i in ursa:\n",
    "    nasa.ix[i, 'pl_hostname'] = '95128'\n",
    "    \n",
    "gl1148 = nasa.index[nasa['pl_hostname'] == 'GJ 1148'].tolist()\n",
    "for i in gl1148:\n",
    "    nasa.ix[i, 'pl_hostname'] = 'hip57050'\n",
    "    \n"
   ]
  },
  {
   "cell_type": "code",
   "execution_count": 5,
   "metadata": {},
   "outputs": [
    {
     "data": {
      "text/plain": [
       "'75732'"
      ]
     },
     "execution_count": 5,
     "metadata": {},
     "output_type": "execute_result"
    }
   ],
   "source": [
    "nasa.loc[25, 'pl_hostname']"
   ]
  },
  {
   "cell_type": "code",
   "execution_count": 6,
   "metadata": {},
   "outputs": [],
   "source": [
    "HD = []\n",
    "for i in np.arange(len(nasa)):\n",
    "    if 'HD' in nasa.loc[i, 'pl_hostname']:\n",
    "        HD.append(i)\n",
    "for i in HD:\n",
    "    nasa.loc[i, 'pl_hostname'] = nasa.loc[i, 'pl_hostname'][3:].replace(' ', '').lower()\n",
    "    \n",
    "GJ = []\n",
    "for i in np.arange(len(nasa)):\n",
    "    if 'GJ' in nasa.loc[i, 'pl_hostname']:\n",
    "        GJ.append(i)\n",
    "for i in GJ:\n",
    "    nasa.loc[i, 'pl_hostname'] = 'gl'+nasa.loc[i, 'pl_hostname'][3:].replace(' ', '').lower()\n",
    "    \n",
    "HIP = []\n",
    "for i in np.arange(len(nasa)):\n",
    "    if 'HIP' in nasa.loc[i, 'pl_hostname']:\n",
    "        HIP.append(i)\n",
    "for i in HIP:\n",
    "    nasa.loc[i, 'pl_hostname'] = 'hip'+nasa.loc[i, 'pl_hostname'][4:].replace(' ', '').lower()"
   ]
  },
  {
   "cell_type": "markdown",
   "metadata": {},
   "source": [
    "# Add number of new planet candidates to system property database."
   ]
  },
  {
   "cell_type": "code",
   "execution_count": 8,
   "metadata": {},
   "outputs": [],
   "source": [
    "nasa.to_csv('nasa_mod_test.csv')"
   ]
  },
  {
   "cell_type": "code",
   "execution_count": 7,
   "metadata": {},
   "outputs": [],
   "source": [
    "hosts = nasa.pl_hostname.unique()\n",
    "hostdic = {}\n",
    "for host in hosts:\n",
    "    subnasa = nasa.loc[nasa.pl_hostname == host]\n",
    "    num_planets = len(subnasa)\n",
    "    hostdic[host] = num_planets"
   ]
  },
  {
   "cell_type": "code",
   "execution_count": 8,
   "metadata": {},
   "outputs": [
    {
     "data": {
      "text/plain": [
       "2"
      ]
     },
     "execution_count": 8,
     "metadata": {},
     "output_type": "execute_result"
    }
   ],
   "source": [
    "hostdic['12661']"
   ]
  },
  {
   "cell_type": "code",
   "execution_count": 10,
   "metadata": {},
   "outputs": [],
   "source": [
    "nasa_num_planets = []\n",
    "\n",
    "for i in np.arange(len(props)):\n",
    "    name = props.loc[i, 'name']\n",
    "    try:\n",
    "        nasa_num_planets.append(hostdic[name])\n",
    "    except KeyError:\n",
    "        nasa_num_planets.append(0)\n",
    "\n",
    "props['nasa_num_planets'] = nasa_num_planets"
   ]
  },
  {
   "cell_type": "code",
   "execution_count": 15,
   "metadata": {},
   "outputs": [],
   "source": [
    "props.to_csv('system_props_third_nasa.csv')"
   ]
  },
  {
   "cell_type": "code",
   "execution_count": 17,
   "metadata": {},
   "outputs": [
    {
     "data": {
      "text/plain": [
       "'34445'"
      ]
     },
     "execution_count": 17,
     "metadata": {},
     "output_type": "execute_result"
    }
   ],
   "source": [
    "props.loc[59, 'name']"
   ]
  },
  {
   "cell_type": "code",
   "execution_count": 23,
   "metadata": {},
   "outputs": [
    {
     "data": {
      "text/html": [
       "<div>\n",
       "<style scoped>\n",
       "    .dataframe tbody tr th:only-of-type {\n",
       "        vertical-align: middle;\n",
       "    }\n",
       "\n",
       "    .dataframe tbody tr th {\n",
       "        vertical-align: top;\n",
       "    }\n",
       "\n",
       "    .dataframe thead th {\n",
       "        text-align: right;\n",
       "    }\n",
       "</style>\n",
       "<table border=\"1\" class=\"dataframe\">\n",
       "  <thead>\n",
       "    <tr style=\"text-align: right;\">\n",
       "      <th></th>\n",
       "      <th>loc_rowid</th>\n",
       "      <th>pl_hostname</th>\n",
       "      <th>pl_letter</th>\n",
       "      <th>pl_name</th>\n",
       "      <th>pl_discmethod</th>\n",
       "      <th>pl_pnum</th>\n",
       "      <th>pl_orbper</th>\n",
       "      <th>pl_orbpererr1</th>\n",
       "      <th>pl_orbpererr2</th>\n",
       "      <th>pl_orbperlim</th>\n",
       "      <th>...</th>\n",
       "      <th>st_mass</th>\n",
       "      <th>st_masserr1</th>\n",
       "      <th>st_masserr2</th>\n",
       "      <th>st_masslim</th>\n",
       "      <th>st_rad</th>\n",
       "      <th>st_raderr1</th>\n",
       "      <th>st_raderr2</th>\n",
       "      <th>st_radlim</th>\n",
       "      <th>rowupdate</th>\n",
       "      <th>pl_facility</th>\n",
       "    </tr>\n",
       "  </thead>\n",
       "  <tbody>\n",
       "    <tr>\n",
       "      <th>357</th>\n",
       "      <td>358</td>\n",
       "      <td>128311</td>\n",
       "      <td>b</td>\n",
       "      <td>HD 128311 b</td>\n",
       "      <td>Radial Velocity</td>\n",
       "      <td>2</td>\n",
       "      <td>453.019</td>\n",
       "      <td>0.404</td>\n",
       "      <td>-0.404</td>\n",
       "      <td>0.0</td>\n",
       "      <td>...</td>\n",
       "      <td>0.83</td>\n",
       "      <td>0.01</td>\n",
       "      <td>-0.01</td>\n",
       "      <td>0.0</td>\n",
       "      <td>0.76</td>\n",
       "      <td>0.02</td>\n",
       "      <td>-0.02</td>\n",
       "      <td>0.0</td>\n",
       "      <td>2015-06-25</td>\n",
       "      <td>W. M. Keck Observatory</td>\n",
       "    </tr>\n",
       "    <tr>\n",
       "      <th>358</th>\n",
       "      <td>359</td>\n",
       "      <td>128311</td>\n",
       "      <td>c</td>\n",
       "      <td>HD 128311 c</td>\n",
       "      <td>Radial Velocity</td>\n",
       "      <td>2</td>\n",
       "      <td>921.538</td>\n",
       "      <td>1.150</td>\n",
       "      <td>-1.150</td>\n",
       "      <td>0.0</td>\n",
       "      <td>...</td>\n",
       "      <td>0.83</td>\n",
       "      <td>0.01</td>\n",
       "      <td>-0.01</td>\n",
       "      <td>0.0</td>\n",
       "      <td>0.76</td>\n",
       "      <td>0.02</td>\n",
       "      <td>-0.02</td>\n",
       "      <td>0.0</td>\n",
       "      <td>2015-06-25</td>\n",
       "      <td>W. M. Keck Observatory</td>\n",
       "    </tr>\n",
       "  </tbody>\n",
       "</table>\n",
       "<p>2 rows × 68 columns</p>\n",
       "</div>"
      ],
      "text/plain": [
       "     loc_rowid pl_hostname pl_letter      pl_name    pl_discmethod  pl_pnum  \\\n",
       "357        358      128311         b  HD 128311 b  Radial Velocity        2   \n",
       "358        359      128311         c  HD 128311 c  Radial Velocity        2   \n",
       "\n",
       "     pl_orbper  pl_orbpererr1  pl_orbpererr2  pl_orbperlim  \\\n",
       "357    453.019          0.404         -0.404           0.0   \n",
       "358    921.538          1.150         -1.150           0.0   \n",
       "\n",
       "              ...            st_mass  st_masserr1  st_masserr2  st_masslim  \\\n",
       "357           ...               0.83         0.01        -0.01         0.0   \n",
       "358           ...               0.83         0.01        -0.01         0.0   \n",
       "\n",
       "     st_rad  st_raderr1  st_raderr2  st_radlim   rowupdate  \\\n",
       "357    0.76        0.02       -0.02        0.0  2015-06-25   \n",
       "358    0.76        0.02       -0.02        0.0  2015-06-25   \n",
       "\n",
       "                pl_facility  \n",
       "357  W. M. Keck Observatory  \n",
       "358  W. M. Keck Observatory  \n",
       "\n",
       "[2 rows x 68 columns]"
      ]
     },
     "execution_count": 23,
     "metadata": {},
     "output_type": "execute_result"
    }
   ],
   "source": [
    "nasa.loc[nasa['pl_hostname'] == '128311']"
   ]
  },
  {
   "cell_type": "code",
   "execution_count": 24,
   "metadata": {},
   "outputs": [
    {
     "data": {
      "text/html": [
       "<div>\n",
       "<style scoped>\n",
       "    .dataframe tbody tr th:only-of-type {\n",
       "        vertical-align: middle;\n",
       "    }\n",
       "\n",
       "    .dataframe tbody tr th {\n",
       "        vertical-align: top;\n",
       "    }\n",
       "\n",
       "    .dataframe thead th {\n",
       "        text-align: right;\n",
       "    }\n",
       "</style>\n",
       "<table border=\"1\" class=\"dataframe\">\n",
       "  <thead>\n",
       "    <tr style=\"text-align: right;\">\n",
       "      <th></th>\n",
       "      <th>Unnamed: 0</th>\n",
       "      <th>curv</th>\n",
       "      <th>dvdt</th>\n",
       "      <th>gamma_apf</th>\n",
       "      <th>gamma_j</th>\n",
       "      <th>gamma_k</th>\n",
       "      <th>gamma_lick</th>\n",
       "      <th>jit_apf</th>\n",
       "      <th>jit_j</th>\n",
       "      <th>jit_k</th>\n",
       "      <th>...</th>\n",
       "      <th>a1</th>\n",
       "      <th>M2</th>\n",
       "      <th>a2</th>\n",
       "      <th>M3</th>\n",
       "      <th>a3</th>\n",
       "      <th>M4</th>\n",
       "      <th>a4</th>\n",
       "      <th>M5</th>\n",
       "      <th>a5</th>\n",
       "      <th>nasa_num_planets</th>\n",
       "    </tr>\n",
       "  </thead>\n",
       "  <tbody>\n",
       "    <tr>\n",
       "      <th>249</th>\n",
       "      <td>249</td>\n",
       "      <td>0.0</td>\n",
       "      <td>0.0</td>\n",
       "      <td>NaN</td>\n",
       "      <td>13.377539</td>\n",
       "      <td>7.411087</td>\n",
       "      <td>NaN</td>\n",
       "      <td>NaN</td>\n",
       "      <td>14.961745</td>\n",
       "      <td>16.75346</td>\n",
       "      <td>...</td>\n",
       "      <td>1.736938</td>\n",
       "      <td>1.960427</td>\n",
       "      <td>1.091068</td>\n",
       "      <td>NaN</td>\n",
       "      <td>NaN</td>\n",
       "      <td>NaN</td>\n",
       "      <td>NaN</td>\n",
       "      <td>NaN</td>\n",
       "      <td>NaN</td>\n",
       "      <td>2</td>\n",
       "    </tr>\n",
       "  </tbody>\n",
       "</table>\n",
       "<p>1 rows × 50 columns</p>\n",
       "</div>"
      ],
      "text/plain": [
       "     Unnamed: 0  curv  dvdt  gamma_apf    gamma_j   gamma_k  gamma_lick  \\\n",
       "249         249   0.0   0.0        NaN  13.377539  7.411087         NaN   \n",
       "\n",
       "     jit_apf      jit_j     jit_k        ...               a1        M2  \\\n",
       "249      NaN  14.961745  16.75346        ...         1.736938  1.960427   \n",
       "\n",
       "           a2  M3  a3  M4  a4  M5  a5  nasa_num_planets  \n",
       "249  1.091068 NaN NaN NaN NaN NaN NaN                 2  \n",
       "\n",
       "[1 rows x 50 columns]"
      ]
     },
     "execution_count": 24,
     "metadata": {},
     "output_type": "execute_result"
    }
   ],
   "source": [
    "props.loc[props['name'] == '128311']"
   ]
  },
  {
   "cell_type": "code",
   "execution_count": null,
   "metadata": {},
   "outputs": [],
   "source": []
  }
 ],
 "metadata": {
  "kernelspec": {
   "display_name": "Python 3",
   "language": "python",
   "name": "python3"
  },
  "language_info": {
   "codemirror_mode": {
    "name": "ipython",
    "version": 3
   },
   "file_extension": ".py",
   "mimetype": "text/x-python",
   "name": "python",
   "nbconvert_exporter": "python",
   "pygments_lexer": "ipython3",
   "version": "3.6.7"
  }
 },
 "nbformat": 4,
 "nbformat_minor": 2
}
