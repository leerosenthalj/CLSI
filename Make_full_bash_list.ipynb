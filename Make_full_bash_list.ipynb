{
 "cells": [
  {
   "cell_type": "code",
   "execution_count": 1,
   "metadata": {},
   "outputs": [],
   "source": [
    "import os\n",
    "\n",
    "import numpy as np\n",
    "import pandas as pd"
   ]
  },
  {
   "cell_type": "code",
   "execution_count": 4,
   "metadata": {},
   "outputs": [],
   "source": [
    "filename = './final_legacy_starlist.csv'\n",
    "starlist = pd.read_csv(filename)"
   ]
  },
  {
   "cell_type": "code",
   "execution_count": 4,
   "metadata": {},
   "outputs": [
    {
     "data": {
      "text/html": [
       "<div>\n",
       "<style scoped>\n",
       "    .dataframe tbody tr th:only-of-type {\n",
       "        vertical-align: middle;\n",
       "    }\n",
       "\n",
       "    .dataframe tbody tr th {\n",
       "        vertical-align: top;\n",
       "    }\n",
       "\n",
       "    .dataframe thead th {\n",
       "        text-align: right;\n",
       "    }\n",
       "</style>\n",
       "<table border=\"1\" class=\"dataframe\">\n",
       "  <thead>\n",
       "    <tr style=\"text-align: right;\">\n",
       "      <th></th>\n",
       "      <th>Unnamed: 0</th>\n",
       "      <th>Nobs</th>\n",
       "      <th>Nobs_rj</th>\n",
       "      <th>baseline</th>\n",
       "      <th>days_since</th>\n",
       "      <th>end_obs</th>\n",
       "      <th>name</th>\n",
       "      <th>start_obs</th>\n",
       "      <th>temp_date</th>\n",
       "      <th>temp_obs</th>\n",
       "      <th>...</th>\n",
       "      <th>DATE</th>\n",
       "      <th>SPARE1</th>\n",
       "      <th>SPARE2</th>\n",
       "      <th>SPARE3</th>\n",
       "      <th>SPARE4</th>\n",
       "      <th>NOBS_BIN</th>\n",
       "      <th>NOBS_LICK</th>\n",
       "      <th>NOBS_KECK</th>\n",
       "      <th>STD_STAR</th>\n",
       "      <th>DATE_LAST_UPDATE</th>\n",
       "    </tr>\n",
       "  </thead>\n",
       "  <tbody>\n",
       "  </tbody>\n",
       "</table>\n",
       "<p>0 rows × 139 columns</p>\n",
       "</div>"
      ],
      "text/plain": [
       "Empty DataFrame\n",
       "Columns: [Unnamed: 0, Nobs, Nobs_rj, baseline, days_since, end_obs, name, start_obs, temp_date, temp_obs, NAME, HR, HD, SAO, GL, LICK, HIPP, CMP, RA, DEC, ECLON, ECLAT, RAH, RAM, RAS, DECD, DECM, DECS, EPOCH, PAR, PMR, PMD, V, BV, J, H, K, SPTYPE, SPCLASS, RADVEL, PROT, S, RHK, AGE, HINDEX, KINDEX, VRMS, VINT, SRMS, TEMPL, DSST, TAG, OBSPRIORITY, COUNTS, NOBS, NPLANET, FE, TEFF, LOGG, ULOGG, VSINI, MSTAR, UMSTAR, RSTAR, URSTAR, MV, BOLCOR, LSTAR, ULSTAR, COORDREF, CHROMREF, COMMENTS, TARGET_SOURCE, SECACC, BC, JITTER, MERIT, GHENRY, SP2, SP1, RV_BARY, SIG_BIN, SIG_LINE, CHI_NU, PROB_CHI, PERPER, PERHT, P, TP, E, OM, ONEKEPK, MSINI, A, CHI, FAP, TWOKEP1_P, TWOKEP1_TP, TWOKEP1_E, TWOKEP1_OM, ...]\n",
       "Index: []\n",
       "\n",
       "[0 rows x 139 columns]"
      ]
     },
     "execution_count": 4,
     "metadata": {},
     "output_type": "execute_result"
    }
   ],
   "source": [
    "starlist.loc[starlist.name=='73344']"
   ]
  },
  {
   "cell_type": "code",
   "execution_count": 4,
   "metadata": {},
   "outputs": [],
   "source": [
    "bash_target = 'legacy_full_search.sh'\n",
    "bash_writer = open(bash_target, 'w')"
   ]
  },
  {
   "cell_type": "code",
   "execution_count": 5,
   "metadata": {},
   "outputs": [],
   "source": [
    "for name in starlist.name:\n",
    "    bash_writer.write('python search_away.py \\'{}\\' \\n'.format(name))\n",
    "bash_writer.close()"
   ]
  },
  {
   "cell_type": "markdown",
   "metadata": {},
   "source": [
    "## Just make a list of names."
   ]
  },
  {
   "cell_type": "code",
   "execution_count": 9,
   "metadata": {},
   "outputs": [],
   "source": [
    "name_target = 'legacy_names.txt'\n",
    "name_writer = open(name_target, 'w')"
   ]
  },
  {
   "cell_type": "code",
   "execution_count": 10,
   "metadata": {},
   "outputs": [],
   "source": [
    "for name in starlist.name:\n",
    "    name_writer.write('{}\\n'.format(name))\n",
    "name_writer.close()"
   ]
  },
  {
   "cell_type": "markdown",
   "metadata": {},
   "source": [
    "## Do the same for APF-50."
   ]
  },
  {
   "cell_type": "code",
   "execution_count": 3,
   "metadata": {},
   "outputs": [
    {
     "ename": "NameError",
     "evalue": "name 'bash_writer' is not defined",
     "output_type": "error",
     "traceback": [
      "\u001b[0;31m---------------------------------------------------------------------------\u001b[0m",
      "\u001b[0;31mNameError\u001b[0m                                 Traceback (most recent call last)",
      "\u001b[0;32m<ipython-input-3-5fd07b83e916>\u001b[0m in \u001b[0;36m<module>\u001b[0;34m\u001b[0m\n\u001b[1;32m      7\u001b[0m \u001b[0;34m\u001b[0m\u001b[0m\n\u001b[1;32m      8\u001b[0m \u001b[0;32mfor\u001b[0m \u001b[0mname\u001b[0m \u001b[0;32min\u001b[0m \u001b[0mapflist\u001b[0m\u001b[0;34m:\u001b[0m\u001b[0;34m\u001b[0m\u001b[0;34m\u001b[0m\u001b[0m\n\u001b[0;32m----> 9\u001b[0;31m     \u001b[0mbash_writer\u001b[0m\u001b[0;34m.\u001b[0m\u001b[0mwrite\u001b[0m\u001b[0;34m(\u001b[0m\u001b[0;34m'python search_away_options.py \\'{}\\' \\n'\u001b[0m\u001b[0;34m.\u001b[0m\u001b[0mformat\u001b[0m\u001b[0;34m(\u001b[0m\u001b[0mname\u001b[0m\u001b[0;34m)\u001b[0m\u001b[0;34m)\u001b[0m\u001b[0;34m\u001b[0m\u001b[0;34m\u001b[0m\u001b[0m\n\u001b[0m\u001b[1;32m     10\u001b[0m \u001b[0mbash_writer\u001b[0m\u001b[0;34m.\u001b[0m\u001b[0mclose\u001b[0m\u001b[0;34m(\u001b[0m\u001b[0;34m)\u001b[0m\u001b[0;34m\u001b[0m\u001b[0;34m\u001b[0m\u001b[0m\n",
      "\u001b[0;31mNameError\u001b[0m: name 'bash_writer' is not defined"
     ]
    }
   ],
   "source": [
    "with open('apf50.txt') as f:\n",
    "    content = f.readlines()\n",
    "apflist = [x.strip() for x in content] \n",
    "\n",
    "apf_target = 'apf50_search.sh'\n",
    "apf_writer = open(apf_target, 'w')\n",
    "\n",
    "for name in apflist:\n",
    "    bash_writer.write('python search_away_options.py \\'{}\\' \\n'.format(name))\n",
    "bash_writer.close()"
   ]
  },
  {
   "cell_type": "code",
   "execution_count": null,
   "metadata": {},
   "outputs": [],
   "source": []
  }
 ],
 "metadata": {
  "kernelspec": {
   "display_name": "Python 3",
   "language": "python",
   "name": "python3"
  },
  "language_info": {
   "codemirror_mode": {
    "name": "ipython",
    "version": 3
   },
   "file_extension": ".py",
   "mimetype": "text/x-python",
   "name": "python",
   "nbconvert_exporter": "python",
   "pygments_lexer": "ipython3",
   "version": "3.6.8"
  }
 },
 "nbformat": 4,
 "nbformat_minor": 2
}
