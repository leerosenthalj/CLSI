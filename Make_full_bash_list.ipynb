{
 "cells": [
  {
   "cell_type": "code",
   "execution_count": null,
   "metadata": {},
   "outputs": [],
   "source": [
    "import os\n",
    "\n",
    "import numpy as np\n",
    "import pandas as pd"
   ]
  },
  {
   "cell_type": "code",
   "execution_count": null,
   "metadata": {},
   "outputs": [],
   "source": [
    "filename = './final_legacy_starlist.csv'\n",
    "starlist = pd.read_csv(filename)"
   ]
  },
  {
   "cell_type": "code",
   "execution_count": null,
   "metadata": {},
   "outputs": [],
   "source": [
    "bash_target = 'legacy_full_search.sh'\n",
    "bash_writer = open(bash_target, 'w')"
   ]
  },
  {
   "cell_type": "code",
   "execution_count": null,
   "metadata": {},
   "outputs": [],
   "source": [
    "for name in starlist.name:\n",
    "    bash_writer.write('python search_away.py \\'{}\\' \\n'.format(name))\n",
    "bash_writer.close()"
   ]
  },
  {
   "cell_type": "markdown",
   "metadata": {},
   "source": [
    "## Just make a list of names."
   ]
  },
  {
   "cell_type": "code",
   "execution_count": null,
   "metadata": {},
   "outputs": [],
   "source": [
    "name_target = 'legacy_names.txt'\n",
    "name_writer = open(name_target, 'w')"
   ]
  },
  {
   "cell_type": "code",
   "execution_count": null,
   "metadata": {},
   "outputs": [],
   "source": [
    "for name in starlist.name:\n",
    "    name_writer.write('{}\\n'.format(name))\n",
    "name_writer.close()"
   ]
  },
  {
   "cell_type": "markdown",
   "metadata": {},
   "source": [
    "## Do the same for APF-50."
   ]
  },
  {
   "cell_type": "code",
   "execution_count": null,
   "metadata": {},
   "outputs": [],
   "source": [
    "with open('apf50.txt') as f:\n",
    "    content = f.readlines()\n",
    "apflist = [x.strip() for x in content] \n",
    "\n",
    "apf_target = 'apf50_search.sh'\n",
    "apf_writer = open(apf_target, 'w')\n",
    "\n",
    "for name in apflist:\n",
    "    bash_writer.write('python search_away_options.py \\'{}\\' \\n'.format(name))\n",
    "bash_writer.close()"
   ]
  },
  {
   "cell_type": "markdown",
   "metadata": {},
   "source": [
    "## Do the same for the updated Legacy catalog, 7/19."
   ]
  },
  {
   "cell_type": "code",
   "execution_count": null,
   "metadata": {},
   "outputs": [],
   "source": [
    "filename = './legacy_719_starlist.txt'\n",
    "starlist = pd.read_csv(filename)"
   ]
  },
  {
   "cell_type": "code",
   "execution_count": null,
   "metadata": {
    "scrolled": true
   },
   "outputs": [],
   "source": [
    "with open('./legacy_719_starlist.txt') as f:\n",
    "    content = f.readlines()\n",
    "newlist = [x.strip() for x in content] \n",
    "\n",
    "new_target = 'legacy_719_search.sh'\n",
    "new_writer = open(new_target, 'w')\n",
    "\n",
    "for name in newlist:\n",
    "    new_writer.write('python search_away_options.py \\'{}\\' \\n'.format(name))\n",
    "new_writer.close()"
   ]
  },
  {
   "cell_type": "code",
   "execution_count": null,
   "metadata": {},
   "outputs": [],
   "source": []
  }
 ],
 "metadata": {
  "kernelspec": {
   "display_name": "Python 3",
   "language": "python",
   "name": "python3"
  },
  "language_info": {
   "codemirror_mode": {
    "name": "ipython",
    "version": 3
   },
   "file_extension": ".py",
   "mimetype": "text/x-python",
   "name": "python",
   "nbconvert_exporter": "python",
   "pygments_lexer": "ipython3",
   "version": "3.6.8"
  }
 },
 "nbformat": 4,
 "nbformat_minor": 2
}
