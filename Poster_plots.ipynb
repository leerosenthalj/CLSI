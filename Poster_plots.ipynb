{
 "cells": [
  {
   "cell_type": "code",
   "execution_count": 1,
   "metadata": {},
   "outputs": [],
   "source": [
    "import pdb\n",
    "\n",
    "import numpy as np\n",
    "import pandas as pd\n",
    "import seaborn as sns\n",
    "import matplotlib.pyplot as plt\n",
    "import radvel\n",
    "\n",
    "import rvsearch\n",
    "from rvsearch import utils\n",
    "\n",
    "%matplotlib inline"
   ]
  },
  {
   "cell_type": "markdown",
   "metadata": {},
   "source": [
    "# Make plots for ESS IV poster."
   ]
  },
  {
   "cell_type": "markdown",
   "metadata": {},
   "source": [
    "## Load all of the relevant data."
   ]
  },
  {
   "cell_type": "code",
   "execution_count": 2,
   "metadata": {},
   "outputs": [],
   "source": [
    "planets = pd.read_csv('planet_list_719.csv')\n",
    "specmatch = pd.read_csv('legacy_tables/legacy_specmatch_medians.csv')"
   ]
  },
  {
   "cell_type": "markdown",
   "metadata": {},
   "source": [
    "## Plot mass vs. semi-major-axis, one with MAP-values and one with MCMC medians & uncertainties."
   ]
  },
  {
   "cell_type": "code",
   "execution_count": 66,
   "metadata": {},
   "outputs": [
    {
     "name": "stdout",
     "output_type": "stream",
     "text": [
      "24\n",
      "22\n"
     ]
    },
    {
     "data": {
      "text/html": [
       "<div>\n",
       "<style scoped>\n",
       "    .dataframe tbody tr th:only-of-type {\n",
       "        vertical-align: middle;\n",
       "    }\n",
       "\n",
       "    .dataframe tbody tr th {\n",
       "        vertical-align: top;\n",
       "    }\n",
       "\n",
       "    .dataframe thead th {\n",
       "        text-align: right;\n",
       "    }\n",
       "</style>\n",
       "<table border=\"1\" class=\"dataframe\">\n",
       "  <thead>\n",
       "    <tr style=\"text-align: right;\">\n",
       "      <th></th>\n",
       "      <th>index</th>\n",
       "      <th>Unnamed: 0</th>\n",
       "      <th>hostname</th>\n",
       "      <th>status</th>\n",
       "      <th>mass</th>\n",
       "      <th>mass_med</th>\n",
       "      <th>mass_minus</th>\n",
       "      <th>mass_plus</th>\n",
       "      <th>axis</th>\n",
       "      <th>axis_med</th>\n",
       "      <th>...</th>\n",
       "      <th>per_minus</th>\n",
       "      <th>per_plus</th>\n",
       "      <th>k</th>\n",
       "      <th>k_med</th>\n",
       "      <th>k_minus</th>\n",
       "      <th>k_plus</th>\n",
       "      <th>e</th>\n",
       "      <th>e_med</th>\n",
       "      <th>e_minus</th>\n",
       "      <th>e_plus</th>\n",
       "    </tr>\n",
       "  </thead>\n",
       "  <tbody>\n",
       "    <tr>\n",
       "      <th>46</th>\n",
       "      <td>74</td>\n",
       "      <td>74</td>\n",
       "      <td>159868</td>\n",
       "      <td>K</td>\n",
       "      <td>1.323571</td>\n",
       "      <td>2.174516</td>\n",
       "      <td>0.982371</td>\n",
       "      <td>9.534215</td>\n",
       "      <td>0.748103</td>\n",
       "      <td>7.479071e-01</td>\n",
       "      <td>...</td>\n",
       "      <td>2.273972e+02</td>\n",
       "      <td>2.283753e+02</td>\n",
       "      <td>42.811031</td>\n",
       "      <td>7.737763e+01</td>\n",
       "      <td>3.150021e+01</td>\n",
       "      <td>5.870378e+02</td>\n",
       "      <td>0.197521</td>\n",
       "      <td>0.444869</td>\n",
       "      <td>0.102892</td>\n",
       "      <td>0.856072</td>\n",
       "    </tr>\n",
       "    <tr>\n",
       "      <th>138</th>\n",
       "      <td>265</td>\n",
       "      <td>265</td>\n",
       "      <td>181234</td>\n",
       "      <td>K</td>\n",
       "      <td>5.504606</td>\n",
       "      <td>-1010.326479</td>\n",
       "      <td>-1086.396676</td>\n",
       "      <td>-971.500328</td>\n",
       "      <td>5.752607</td>\n",
       "      <td>1.615457e+10</td>\n",
       "      <td>...</td>\n",
       "      <td>9.257816e+14</td>\n",
       "      <td>5.934566e+18</td>\n",
       "      <td>81.897041</td>\n",
       "      <td>8.925343e+15</td>\n",
       "      <td>1.702627e+13</td>\n",
       "      <td>2.922670e+16</td>\n",
       "      <td>0.603131</td>\n",
       "      <td>0.428687</td>\n",
       "      <td>0.131252</td>\n",
       "      <td>0.758777</td>\n",
       "    </tr>\n",
       "  </tbody>\n",
       "</table>\n",
       "<p>2 rows × 24 columns</p>\n",
       "</div>"
      ],
      "text/plain": [
       "     index  Unnamed: 0 hostname status      mass     mass_med   mass_minus  \\\n",
       "46      74          74   159868      K  1.323571     2.174516     0.982371   \n",
       "138    265         265   181234      K  5.504606 -1010.326479 -1086.396676   \n",
       "\n",
       "      mass_plus      axis      axis_med  ...     per_minus      per_plus  \\\n",
       "46     9.534215  0.748103  7.479071e-01  ...  2.273972e+02  2.283753e+02   \n",
       "138 -971.500328  5.752607  1.615457e+10  ...  9.257816e+14  5.934566e+18   \n",
       "\n",
       "             k         k_med       k_minus        k_plus         e     e_med  \\\n",
       "46   42.811031  7.737763e+01  3.150021e+01  5.870378e+02  0.197521  0.444869   \n",
       "138  81.897041  8.925343e+15  1.702627e+13  2.922670e+16  0.603131  0.428687   \n",
       "\n",
       "      e_minus    e_plus  \n",
       "46   0.102892  0.856072  \n",
       "138  0.131252  0.758777  \n",
       "\n",
       "[2 rows x 24 columns]"
      ]
     },
     "execution_count": 66,
     "metadata": {},
     "output_type": "execute_result"
    }
   ],
   "source": [
    "planets_old = planets.query('status == \"K\"').reset_index()\n",
    "planets_new = planets.query('status == \"C\"').reset_index()\n",
    "print(len(planets_new))\n",
    "print(len(planets_new.query('mass_plus < 15')))\n",
    "\n",
    "# Find the weird error outlier among the old planets.\n",
    "planets_old.query('mass_plus - mass_minus > 7 and mass_med < 40')"
   ]
  },
  {
   "cell_type": "code",
   "execution_count": 63,
   "metadata": {},
   "outputs": [
    {
     "data": {
      "text/plain": [
       "<matplotlib.legend.Legend at 0x136818dd8>"
      ]
     },
     "execution_count": 63,
     "metadata": {},
     "output_type": "execute_result"
    },
    {
     "data": {
      "image/png": "[encoded data removed]",
      "text/plain": [
       "<Figure size 432x288 with 1 Axes>"
      ]
     },
     "metadata": {
      "needs_background": "light"
     },
     "output_type": "display_data"
    }
   ],
   "source": [
    "fig, ax = plt.subplots()\n",
    "plt.title('Mass and semi-major axis scatter')\n",
    "ax.scatter(planets_old.axis, planets_old.mass, c='b', alpha=0.75, label='Known planets')\n",
    "ax.scatter(planets_new.axis, planets_new.mass, c='g', alpha=0.75, label='Candidates')\n",
    "ax.set_xlim([3*10**-2, 30])\n",
    "ax.set_ylim([7*10**-3, 30])\n",
    "ax.set_xscale('log')\n",
    "ax.set_yscale('log')\n",
    "ax.set_xlabel('Semi-major axis (AU)')\n",
    "ax.set_ylabel(r'Msini ($M_{Jup}$)')\n",
    "ax.legend()\n",
    "\n",
    "fig.savefig()"
   ]
  },
  {
   "cell_type": "code",
   "execution_count": 61,
   "metadata": {},
   "outputs": [
    {
     "data": {
      "text/plain": [
       "<matplotlib.legend.Legend at 0x1363fbd68>"
      ]
     },
     "execution_count": 61,
     "metadata": {},
     "output_type": "execute_result"
    },
    {
     "data": {
      "image/png": "[encoded data removed]",
      "text/plain": [
       "<Figure size 432x288 with 1 Axes>"
      ]
     },
     "metadata": {
      "needs_background": "light"
     },
     "output_type": "display_data"
    }
   ],
   "source": [
    "fig, ax = plt.subplots()\n",
    "plt.title('Mass and semi-major axis scatter')\n",
    "\n",
    "axerr_minus_old = planets_old.axis_med - planets_old.axis_minus\n",
    "axerr_plus_old = planets_old.axis_plus - planets_old.axis_med\n",
    "axerr_old = [axerr_minus_old, axerr_plus_old]\n",
    "axerr_minus_new = planets_new.axis_med - planets_new.axis_minus\n",
    "axerr_plus_new = planets_new.axis_plus - planets_new.axis_med\n",
    "axerr_new = [axerr_minus_new, axerr_plus_new]\n",
    "\n",
    "merr_minus_old = planets_old.mass_med - planets_old.mass_minus\n",
    "merr_plus_old = planets_old.mass_plus - planets_old.mass_med\n",
    "merr_old = [merr_minus_old, merr_plus_old]\n",
    "merr_minus_new = planets_new.mass_med - planets_new.mass_minus\n",
    "merr_plus_new = planets_new.mass_plus - planets_new.mass_med\n",
    "merr_new = [merr_minus_new, merr_plus_new]\n",
    "\n",
    "ax.errorbar(planets_old.axis_med, planets_old.mass_med, \n",
    "            xerr=axerr_old, yerr=merr_old, \n",
    "            fmt='o',c='b', alpha=0.5, label='Known planets')\n",
    "ax.errorbar(planets_new.axis_med, planets_new.mass_med, \n",
    "            xerr=axerr_new, yerr=merr_new, \n",
    "            fmt='o',c='g', alpha=0.5, label='Candidates')\n",
    "\n",
    "ax.set_xlim([3*10**-2, 10**2])\n",
    "ax.set_ylim([8*10**-3, 10**2])\n",
    "ax.set_xscale('log')\n",
    "ax.set_yscale('log')\n",
    "ax.set_xlabel('Semi-major axis (AU)')\n",
    "ax.set_ylabel(r'Msini ($M_{Jup}$)')\n",
    "ax.legend()"
   ]
  },
  {
   "cell_type": "code",
   "execution_count": null,
   "metadata": {},
   "outputs": [],
   "source": []
  },
  {
   "cell_type": "code",
   "execution_count": null,
   "metadata": {},
   "outputs": [],
   "source": []
  },
  {
   "cell_type": "code",
   "execution_count": null,
   "metadata": {},
   "outputs": [],
   "source": [
    "fig, ax = plt.subplots()\n",
    "\n",
    "ax.scatter(spec_syn['teff_emp'], spec_syn['iso_logg'], \n",
    "           alpha=0.66, s=3*np.exp(-3*specmatch_legacy['fe']),\n",
    "           label='Spec-Syn, $\\propto e^{-[Fe/H]}$')\n",
    "\n",
    "ax.set_title('Specmatch Syn & Emp, boundary Teff = 4700')\n",
    "ax.scatter(spec_emp['teff_emp'], spec_emp['iso_logg'], \n",
    "           s=3*np.exp(-3*cut['fe']), \n",
    "           alpha=0.66, label='Spec-Emp')\n",
    "ax.set_xlabel('Teff (K, empirical)')\n",
    "ax.set_ylabel('log(g) (cm/s$^2$, synthetic)')\n",
    "ax.set_ylim([4.9, 2.5])\n",
    "ax.set_xlim([6700, 3000])\n",
    "ax.legend()\n",
    "\n",
    "#print(cut['name teff logg fe vsini'.split()])\n",
    "fig.savefig('main_sequence_all.pdf')"
   ]
  }
 ],
 "metadata": {
  "kernelspec": {
   "display_name": "Python 3",
   "language": "python",
   "name": "python3"
  },
  "language_info": {
   "codemirror_mode": {
    "name": "ipython",
    "version": 3
   },
   "file_extension": ".py",
   "mimetype": "text/x-python",
   "name": "python",
   "nbconvert_exporter": "python",
   "pygments_lexer": "ipython3",
   "version": "3.6.8"
  }
 },
 "nbformat": 4,
 "nbformat_minor": 2
}
